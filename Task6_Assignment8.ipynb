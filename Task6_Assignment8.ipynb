{
  "cells": [
    {
      "cell_type": "markdown",
      "metadata": {
        "id": "view-in-github",
        "colab_type": "text"
      },
      "source": [
        "<a href=\"https://colab.research.google.com/github/nihar6697/Assignment/blob/main/Task6_Assignment8.ipynb\" target=\"_parent\"><img src=\"https://colab.research.google.com/assets/colab-badge.svg\" alt=\"Open In Colab\"/></a>"
      ]
    },
    {
      "cell_type": "markdown",
      "metadata": {
        "id": "-96GUb094yVn"
      },
      "source": [
        "# Assignment8"
      ]
    },
    {
      "cell_type": "code",
      "execution_count": null,
      "metadata": {
        "collapsed": true,
        "id": "LqCMy3Pu4yV4"
      },
      "outputs": [],
      "source": [
        "import pandas as pd\n",
        "import matplotlib.pyplot as plt\n",
        "import numpy as np\n",
        "from sklearn import linear_model\n",
        "import seaborn as sns"
      ]
    },
    {
      "cell_type": "markdown",
      "metadata": {
        "id": "KfMMOy8x4yWA"
      },
      "source": [
        "# How Much is Your Car Worth?\n",
        "\n",
        "Data about the retail price of 2005 General Motors cars can be found in `car_data.csv`.\n",
        "\n",
        "The columns are:\n",
        "\n",
        "1. Price: suggested retail price of the used 2005 GM car in excellent condition.\n",
        "2. Mileage: number of miles the car has been driven\n",
        "3. Make: manufacturer of the car such as Saturn, Pontiac, and Chevrolet\n",
        "4. Model: specific models for each car manufacturer such as Ion, Vibe, Cavalier\n",
        "5. Trim (of car): specific type of car model such as SE Sedan 4D, Quad Coupe 2D          \n",
        "6. Type: body type such as sedan, coupe, etc.      \n",
        "7. Cylinder: number of cylinders in the engine        \n",
        "8. Liter: a more specific measure of engine size     \n",
        "9. Doors: number of doors           \n",
        "10. Cruise: indicator variable representing whether the car has cruise control (1 = cruise)\n",
        "11. Sound: indicator variable representing whether the car has upgraded speakers (1 = upgraded)\n",
        "12. Leather: indicator variable representing whether the car has leather seats (1 = leather)\n",
        "\n",
        "## Tasks, Part 1\n",
        "\n",
        "1. Find the linear regression equation for mileage vs price.\n",
        "2. Chart the original data and the equation on the chart.\n",
        "3. Find the equation's $R^2$ score (use the `.score` method) to determine whether the\n",
        "equation is a good fit for this data. (0.8 and greater is considered a strong correlation.)\n",
        "\n",
        "## Tasks, Part 2\n",
        "\n",
        "1. Use mileage, cylinders, liters, doors, cruise, sound, and leather to find the linear regression equation.\n",
        "2. Find the equation's $R^2$ score (use the `.score` method) to determine whether the\n",
        "equation is a good fit for this data. (0.8 and greater is considered a strong correlation.)\n",
        "3. Find the combination of the factors that is the best predictor for price.\n",
        "\n",
        "## Tasks, Hard Mode\n",
        "\n",
        "1. Research dummy variables in scikit-learn to see how to use the make, model, and body type.\n",
        "2. Find the best combination of factors to predict price."
      ]
    },
    {
      "cell_type": "code",
      "execution_count": null,
      "metadata": {
        "id": "CUgxrQUJ4yWE",
        "colab": {
          "base_uri": "https://localhost:8080/",
          "height": 424
        },
        "outputId": "3b5cc763-637c-4015-8e79-d776c47e8f6f"
      },
      "outputs": [
        {
          "output_type": "execute_result",
          "data": {
            "text/plain": [
              "            Price  Mileage    Make     Model           Trim   Type  Cylinder  \\\n",
              "0    17314.103129     8221   Buick   Century       Sedan 4D  Sedan         6   \n",
              "1    17542.036083     9135   Buick   Century       Sedan 4D  Sedan         6   \n",
              "2    16218.847862    13196   Buick   Century       Sedan 4D  Sedan         6   \n",
              "3    16336.913140    16342   Buick   Century       Sedan 4D  Sedan         6   \n",
              "4    16339.170324    19832   Buick   Century       Sedan 4D  Sedan         6   \n",
              "..            ...      ...     ...       ...            ...    ...       ...   \n",
              "799  16507.070267    16229  Saturn  L Series  L300 Sedan 4D  Sedan         6   \n",
              "800  16175.957604    19095  Saturn  L Series  L300 Sedan 4D  Sedan         6   \n",
              "801  15731.132897    20484  Saturn  L Series  L300 Sedan 4D  Sedan         6   \n",
              "802  15118.893228    25979  Saturn  L Series  L300 Sedan 4D  Sedan         6   \n",
              "803  13585.636802    35662  Saturn  L Series  L300 Sedan 4D  Sedan         6   \n",
              "\n",
              "     Liter  Doors  Cruise  Sound  Leather  \n",
              "0      3.1      4       1      1        1  \n",
              "1      3.1      4       1      1        0  \n",
              "2      3.1      4       1      1        0  \n",
              "3      3.1      4       1      0        0  \n",
              "4      3.1      4       1      0        1  \n",
              "..     ...    ...     ...    ...      ...  \n",
              "799    3.0      4       1      0        0  \n",
              "800    3.0      4       1      1        0  \n",
              "801    3.0      4       1      1        0  \n",
              "802    3.0      4       1      1        0  \n",
              "803    3.0      4       1      0        0  \n",
              "\n",
              "[804 rows x 12 columns]"
            ],
            "text/html": [
              "\n",
              "  <div id=\"df-79498659-b4da-4c15-9e07-253cf360c73e\">\n",
              "    <div class=\"colab-df-container\">\n",
              "      <div>\n",
              "<style scoped>\n",
              "    .dataframe tbody tr th:only-of-type {\n",
              "        vertical-align: middle;\n",
              "    }\n",
              "\n",
              "    .dataframe tbody tr th {\n",
              "        vertical-align: top;\n",
              "    }\n",
              "\n",
              "    .dataframe thead th {\n",
              "        text-align: right;\n",
              "    }\n",
              "</style>\n",
              "<table border=\"1\" class=\"dataframe\">\n",
              "  <thead>\n",
              "    <tr style=\"text-align: right;\">\n",
              "      <th></th>\n",
              "      <th>Price</th>\n",
              "      <th>Mileage</th>\n",
              "      <th>Make</th>\n",
              "      <th>Model</th>\n",
              "      <th>Trim</th>\n",
              "      <th>Type</th>\n",
              "      <th>Cylinder</th>\n",
              "      <th>Liter</th>\n",
              "      <th>Doors</th>\n",
              "      <th>Cruise</th>\n",
              "      <th>Sound</th>\n",
              "      <th>Leather</th>\n",
              "    </tr>\n",
              "  </thead>\n",
              "  <tbody>\n",
              "    <tr>\n",
              "      <th>0</th>\n",
              "      <td>17314.103129</td>\n",
              "      <td>8221</td>\n",
              "      <td>Buick</td>\n",
              "      <td>Century</td>\n",
              "      <td>Sedan 4D</td>\n",
              "      <td>Sedan</td>\n",
              "      <td>6</td>\n",
              "      <td>3.1</td>\n",
              "      <td>4</td>\n",
              "      <td>1</td>\n",
              "      <td>1</td>\n",
              "      <td>1</td>\n",
              "    </tr>\n",
              "    <tr>\n",
              "      <th>1</th>\n",
              "      <td>17542.036083</td>\n",
              "      <td>9135</td>\n",
              "      <td>Buick</td>\n",
              "      <td>Century</td>\n",
              "      <td>Sedan 4D</td>\n",
              "      <td>Sedan</td>\n",
              "      <td>6</td>\n",
              "      <td>3.1</td>\n",
              "      <td>4</td>\n",
              "      <td>1</td>\n",
              "      <td>1</td>\n",
              "      <td>0</td>\n",
              "    </tr>\n",
              "    <tr>\n",
              "      <th>2</th>\n",
              "      <td>16218.847862</td>\n",
              "      <td>13196</td>\n",
              "      <td>Buick</td>\n",
              "      <td>Century</td>\n",
              "      <td>Sedan 4D</td>\n",
              "      <td>Sedan</td>\n",
              "      <td>6</td>\n",
              "      <td>3.1</td>\n",
              "      <td>4</td>\n",
              "      <td>1</td>\n",
              "      <td>1</td>\n",
              "      <td>0</td>\n",
              "    </tr>\n",
              "    <tr>\n",
              "      <th>3</th>\n",
              "      <td>16336.913140</td>\n",
              "      <td>16342</td>\n",
              "      <td>Buick</td>\n",
              "      <td>Century</td>\n",
              "      <td>Sedan 4D</td>\n",
              "      <td>Sedan</td>\n",
              "      <td>6</td>\n",
              "      <td>3.1</td>\n",
              "      <td>4</td>\n",
              "      <td>1</td>\n",
              "      <td>0</td>\n",
              "      <td>0</td>\n",
              "    </tr>\n",
              "    <tr>\n",
              "      <th>4</th>\n",
              "      <td>16339.170324</td>\n",
              "      <td>19832</td>\n",
              "      <td>Buick</td>\n",
              "      <td>Century</td>\n",
              "      <td>Sedan 4D</td>\n",
              "      <td>Sedan</td>\n",
              "      <td>6</td>\n",
              "      <td>3.1</td>\n",
              "      <td>4</td>\n",
              "      <td>1</td>\n",
              "      <td>0</td>\n",
              "      <td>1</td>\n",
              "    </tr>\n",
              "    <tr>\n",
              "      <th>...</th>\n",
              "      <td>...</td>\n",
              "      <td>...</td>\n",
              "      <td>...</td>\n",
              "      <td>...</td>\n",
              "      <td>...</td>\n",
              "      <td>...</td>\n",
              "      <td>...</td>\n",
              "      <td>...</td>\n",
              "      <td>...</td>\n",
              "      <td>...</td>\n",
              "      <td>...</td>\n",
              "      <td>...</td>\n",
              "    </tr>\n",
              "    <tr>\n",
              "      <th>799</th>\n",
              "      <td>16507.070267</td>\n",
              "      <td>16229</td>\n",
              "      <td>Saturn</td>\n",
              "      <td>L Series</td>\n",
              "      <td>L300 Sedan 4D</td>\n",
              "      <td>Sedan</td>\n",
              "      <td>6</td>\n",
              "      <td>3.0</td>\n",
              "      <td>4</td>\n",
              "      <td>1</td>\n",
              "      <td>0</td>\n",
              "      <td>0</td>\n",
              "    </tr>\n",
              "    <tr>\n",
              "      <th>800</th>\n",
              "      <td>16175.957604</td>\n",
              "      <td>19095</td>\n",
              "      <td>Saturn</td>\n",
              "      <td>L Series</td>\n",
              "      <td>L300 Sedan 4D</td>\n",
              "      <td>Sedan</td>\n",
              "      <td>6</td>\n",
              "      <td>3.0</td>\n",
              "      <td>4</td>\n",
              "      <td>1</td>\n",
              "      <td>1</td>\n",
              "      <td>0</td>\n",
              "    </tr>\n",
              "    <tr>\n",
              "      <th>801</th>\n",
              "      <td>15731.132897</td>\n",
              "      <td>20484</td>\n",
              "      <td>Saturn</td>\n",
              "      <td>L Series</td>\n",
              "      <td>L300 Sedan 4D</td>\n",
              "      <td>Sedan</td>\n",
              "      <td>6</td>\n",
              "      <td>3.0</td>\n",
              "      <td>4</td>\n",
              "      <td>1</td>\n",
              "      <td>1</td>\n",
              "      <td>0</td>\n",
              "    </tr>\n",
              "    <tr>\n",
              "      <th>802</th>\n",
              "      <td>15118.893228</td>\n",
              "      <td>25979</td>\n",
              "      <td>Saturn</td>\n",
              "      <td>L Series</td>\n",
              "      <td>L300 Sedan 4D</td>\n",
              "      <td>Sedan</td>\n",
              "      <td>6</td>\n",
              "      <td>3.0</td>\n",
              "      <td>4</td>\n",
              "      <td>1</td>\n",
              "      <td>1</td>\n",
              "      <td>0</td>\n",
              "    </tr>\n",
              "    <tr>\n",
              "      <th>803</th>\n",
              "      <td>13585.636802</td>\n",
              "      <td>35662</td>\n",
              "      <td>Saturn</td>\n",
              "      <td>L Series</td>\n",
              "      <td>L300 Sedan 4D</td>\n",
              "      <td>Sedan</td>\n",
              "      <td>6</td>\n",
              "      <td>3.0</td>\n",
              "      <td>4</td>\n",
              "      <td>1</td>\n",
              "      <td>0</td>\n",
              "      <td>0</td>\n",
              "    </tr>\n",
              "  </tbody>\n",
              "</table>\n",
              "<p>804 rows × 12 columns</p>\n",
              "</div>\n",
              "      <button class=\"colab-df-convert\" onclick=\"convertToInteractive('df-79498659-b4da-4c15-9e07-253cf360c73e')\"\n",
              "              title=\"Convert this dataframe to an interactive table.\"\n",
              "              style=\"display:none;\">\n",
              "        \n",
              "  <svg xmlns=\"http://www.w3.org/2000/svg\" height=\"24px\"viewBox=\"0 0 24 24\"\n",
              "       width=\"24px\">\n",
              "    <path d=\"M0 0h24v24H0V0z\" fill=\"none\"/>\n",
              "    <path d=\"M18.56 5.44l.94 2.06.94-2.06 2.06-.94-2.06-.94-.94-2.06-.94 2.06-2.06.94zm-11 1L8.5 8.5l.94-2.06 2.06-.94-2.06-.94L8.5 2.5l-.94 2.06-2.06.94zm10 10l.94 2.06.94-2.06 2.06-.94-2.06-.94-.94-2.06-.94 2.06-2.06.94z\"/><path d=\"M17.41 7.96l-1.37-1.37c-.4-.4-.92-.59-1.43-.59-.52 0-1.04.2-1.43.59L10.3 9.45l-7.72 7.72c-.78.78-.78 2.05 0 2.83L4 21.41c.39.39.9.59 1.41.59.51 0 1.02-.2 1.41-.59l7.78-7.78 2.81-2.81c.8-.78.8-2.07 0-2.86zM5.41 20L4 18.59l7.72-7.72 1.47 1.35L5.41 20z\"/>\n",
              "  </svg>\n",
              "      </button>\n",
              "      \n",
              "  <style>\n",
              "    .colab-df-container {\n",
              "      display:flex;\n",
              "      flex-wrap:wrap;\n",
              "      gap: 12px;\n",
              "    }\n",
              "\n",
              "    .colab-df-convert {\n",
              "      background-color: #E8F0FE;\n",
              "      border: none;\n",
              "      border-radius: 50%;\n",
              "      cursor: pointer;\n",
              "      display: none;\n",
              "      fill: #1967D2;\n",
              "      height: 32px;\n",
              "      padding: 0 0 0 0;\n",
              "      width: 32px;\n",
              "    }\n",
              "\n",
              "    .colab-df-convert:hover {\n",
              "      background-color: #E2EBFA;\n",
              "      box-shadow: 0px 1px 2px rgba(60, 64, 67, 0.3), 0px 1px 3px 1px rgba(60, 64, 67, 0.15);\n",
              "      fill: #174EA6;\n",
              "    }\n",
              "\n",
              "    [theme=dark] .colab-df-convert {\n",
              "      background-color: #3B4455;\n",
              "      fill: #D2E3FC;\n",
              "    }\n",
              "\n",
              "    [theme=dark] .colab-df-convert:hover {\n",
              "      background-color: #434B5C;\n",
              "      box-shadow: 0px 1px 3px 1px rgba(0, 0, 0, 0.15);\n",
              "      filter: drop-shadow(0px 1px 2px rgba(0, 0, 0, 0.3));\n",
              "      fill: #FFFFFF;\n",
              "    }\n",
              "  </style>\n",
              "\n",
              "      <script>\n",
              "        const buttonEl =\n",
              "          document.querySelector('#df-79498659-b4da-4c15-9e07-253cf360c73e button.colab-df-convert');\n",
              "        buttonEl.style.display =\n",
              "          google.colab.kernel.accessAllowed ? 'block' : 'none';\n",
              "\n",
              "        async function convertToInteractive(key) {\n",
              "          const element = document.querySelector('#df-79498659-b4da-4c15-9e07-253cf360c73e');\n",
              "          const dataTable =\n",
              "            await google.colab.kernel.invokeFunction('convertToInteractive',\n",
              "                                                     [key], {});\n",
              "          if (!dataTable) return;\n",
              "\n",
              "          const docLinkHtml = 'Like what you see? Visit the ' +\n",
              "            '<a target=\"_blank\" href=https://colab.research.google.com/notebooks/data_table.ipynb>data table notebook</a>'\n",
              "            + ' to learn more about interactive tables.';\n",
              "          element.innerHTML = '';\n",
              "          dataTable['output_type'] = 'display_data';\n",
              "          await google.colab.output.renderOutput(dataTable, element);\n",
              "          const docLink = document.createElement('div');\n",
              "          docLink.innerHTML = docLinkHtml;\n",
              "          element.appendChild(docLink);\n",
              "        }\n",
              "      </script>\n",
              "    </div>\n",
              "  </div>\n",
              "  "
            ]
          },
          "metadata": {},
          "execution_count": 2
        }
      ],
      "source": [
        "df = pd.read_csv(\"car_data.csv\")\n",
        "df"
      ]
    },
    {
      "cell_type": "code",
      "source": [
        "df.shape"
      ],
      "metadata": {
        "colab": {
          "base_uri": "https://localhost:8080/"
        },
        "id": "y6Tuefn73XSw",
        "outputId": "d48a1205-4961-456d-8994-a0b24cd9a22a"
      },
      "execution_count": null,
      "outputs": [
        {
          "output_type": "execute_result",
          "data": {
            "text/plain": [
              "(804, 12)"
            ]
          },
          "metadata": {},
          "execution_count": 3
        }
      ]
    },
    {
      "cell_type": "code",
      "source": [
        "df.head()"
      ],
      "metadata": {
        "colab": {
          "base_uri": "https://localhost:8080/",
          "height": 206
        },
        "id": "2kYgIcz03e1t",
        "outputId": "59743c14-ffe2-4dd1-d915-e2ee068bf83d"
      },
      "execution_count": null,
      "outputs": [
        {
          "output_type": "execute_result",
          "data": {
            "text/plain": [
              "          Price  Mileage   Make    Model      Trim   Type  Cylinder  Liter  \\\n",
              "0  17314.103129     8221  Buick  Century  Sedan 4D  Sedan         6    3.1   \n",
              "1  17542.036083     9135  Buick  Century  Sedan 4D  Sedan         6    3.1   \n",
              "2  16218.847862    13196  Buick  Century  Sedan 4D  Sedan         6    3.1   \n",
              "3  16336.913140    16342  Buick  Century  Sedan 4D  Sedan         6    3.1   \n",
              "4  16339.170324    19832  Buick  Century  Sedan 4D  Sedan         6    3.1   \n",
              "\n",
              "   Doors  Cruise  Sound  Leather  \n",
              "0      4       1      1        1  \n",
              "1      4       1      1        0  \n",
              "2      4       1      1        0  \n",
              "3      4       1      0        0  \n",
              "4      4       1      0        1  "
            ],
            "text/html": [
              "\n",
              "  <div id=\"df-b0b896a4-c618-4437-a362-dcb2ac5b6511\">\n",
              "    <div class=\"colab-df-container\">\n",
              "      <div>\n",
              "<style scoped>\n",
              "    .dataframe tbody tr th:only-of-type {\n",
              "        vertical-align: middle;\n",
              "    }\n",
              "\n",
              "    .dataframe tbody tr th {\n",
              "        vertical-align: top;\n",
              "    }\n",
              "\n",
              "    .dataframe thead th {\n",
              "        text-align: right;\n",
              "    }\n",
              "</style>\n",
              "<table border=\"1\" class=\"dataframe\">\n",
              "  <thead>\n",
              "    <tr style=\"text-align: right;\">\n",
              "      <th></th>\n",
              "      <th>Price</th>\n",
              "      <th>Mileage</th>\n",
              "      <th>Make</th>\n",
              "      <th>Model</th>\n",
              "      <th>Trim</th>\n",
              "      <th>Type</th>\n",
              "      <th>Cylinder</th>\n",
              "      <th>Liter</th>\n",
              "      <th>Doors</th>\n",
              "      <th>Cruise</th>\n",
              "      <th>Sound</th>\n",
              "      <th>Leather</th>\n",
              "    </tr>\n",
              "  </thead>\n",
              "  <tbody>\n",
              "    <tr>\n",
              "      <th>0</th>\n",
              "      <td>17314.103129</td>\n",
              "      <td>8221</td>\n",
              "      <td>Buick</td>\n",
              "      <td>Century</td>\n",
              "      <td>Sedan 4D</td>\n",
              "      <td>Sedan</td>\n",
              "      <td>6</td>\n",
              "      <td>3.1</td>\n",
              "      <td>4</td>\n",
              "      <td>1</td>\n",
              "      <td>1</td>\n",
              "      <td>1</td>\n",
              "    </tr>\n",
              "    <tr>\n",
              "      <th>1</th>\n",
              "      <td>17542.036083</td>\n",
              "      <td>9135</td>\n",
              "      <td>Buick</td>\n",
              "      <td>Century</td>\n",
              "      <td>Sedan 4D</td>\n",
              "      <td>Sedan</td>\n",
              "      <td>6</td>\n",
              "      <td>3.1</td>\n",
              "      <td>4</td>\n",
              "      <td>1</td>\n",
              "      <td>1</td>\n",
              "      <td>0</td>\n",
              "    </tr>\n",
              "    <tr>\n",
              "      <th>2</th>\n",
              "      <td>16218.847862</td>\n",
              "      <td>13196</td>\n",
              "      <td>Buick</td>\n",
              "      <td>Century</td>\n",
              "      <td>Sedan 4D</td>\n",
              "      <td>Sedan</td>\n",
              "      <td>6</td>\n",
              "      <td>3.1</td>\n",
              "      <td>4</td>\n",
              "      <td>1</td>\n",
              "      <td>1</td>\n",
              "      <td>0</td>\n",
              "    </tr>\n",
              "    <tr>\n",
              "      <th>3</th>\n",
              "      <td>16336.913140</td>\n",
              "      <td>16342</td>\n",
              "      <td>Buick</td>\n",
              "      <td>Century</td>\n",
              "      <td>Sedan 4D</td>\n",
              "      <td>Sedan</td>\n",
              "      <td>6</td>\n",
              "      <td>3.1</td>\n",
              "      <td>4</td>\n",
              "      <td>1</td>\n",
              "      <td>0</td>\n",
              "      <td>0</td>\n",
              "    </tr>\n",
              "    <tr>\n",
              "      <th>4</th>\n",
              "      <td>16339.170324</td>\n",
              "      <td>19832</td>\n",
              "      <td>Buick</td>\n",
              "      <td>Century</td>\n",
              "      <td>Sedan 4D</td>\n",
              "      <td>Sedan</td>\n",
              "      <td>6</td>\n",
              "      <td>3.1</td>\n",
              "      <td>4</td>\n",
              "      <td>1</td>\n",
              "      <td>0</td>\n",
              "      <td>1</td>\n",
              "    </tr>\n",
              "  </tbody>\n",
              "</table>\n",
              "</div>\n",
              "      <button class=\"colab-df-convert\" onclick=\"convertToInteractive('df-b0b896a4-c618-4437-a362-dcb2ac5b6511')\"\n",
              "              title=\"Convert this dataframe to an interactive table.\"\n",
              "              style=\"display:none;\">\n",
              "        \n",
              "  <svg xmlns=\"http://www.w3.org/2000/svg\" height=\"24px\"viewBox=\"0 0 24 24\"\n",
              "       width=\"24px\">\n",
              "    <path d=\"M0 0h24v24H0V0z\" fill=\"none\"/>\n",
              "    <path d=\"M18.56 5.44l.94 2.06.94-2.06 2.06-.94-2.06-.94-.94-2.06-.94 2.06-2.06.94zm-11 1L8.5 8.5l.94-2.06 2.06-.94-2.06-.94L8.5 2.5l-.94 2.06-2.06.94zm10 10l.94 2.06.94-2.06 2.06-.94-2.06-.94-.94-2.06-.94 2.06-2.06.94z\"/><path d=\"M17.41 7.96l-1.37-1.37c-.4-.4-.92-.59-1.43-.59-.52 0-1.04.2-1.43.59L10.3 9.45l-7.72 7.72c-.78.78-.78 2.05 0 2.83L4 21.41c.39.39.9.59 1.41.59.51 0 1.02-.2 1.41-.59l7.78-7.78 2.81-2.81c.8-.78.8-2.07 0-2.86zM5.41 20L4 18.59l7.72-7.72 1.47 1.35L5.41 20z\"/>\n",
              "  </svg>\n",
              "      </button>\n",
              "      \n",
              "  <style>\n",
              "    .colab-df-container {\n",
              "      display:flex;\n",
              "      flex-wrap:wrap;\n",
              "      gap: 12px;\n",
              "    }\n",
              "\n",
              "    .colab-df-convert {\n",
              "      background-color: #E8F0FE;\n",
              "      border: none;\n",
              "      border-radius: 50%;\n",
              "      cursor: pointer;\n",
              "      display: none;\n",
              "      fill: #1967D2;\n",
              "      height: 32px;\n",
              "      padding: 0 0 0 0;\n",
              "      width: 32px;\n",
              "    }\n",
              "\n",
              "    .colab-df-convert:hover {\n",
              "      background-color: #E2EBFA;\n",
              "      box-shadow: 0px 1px 2px rgba(60, 64, 67, 0.3), 0px 1px 3px 1px rgba(60, 64, 67, 0.15);\n",
              "      fill: #174EA6;\n",
              "    }\n",
              "\n",
              "    [theme=dark] .colab-df-convert {\n",
              "      background-color: #3B4455;\n",
              "      fill: #D2E3FC;\n",
              "    }\n",
              "\n",
              "    [theme=dark] .colab-df-convert:hover {\n",
              "      background-color: #434B5C;\n",
              "      box-shadow: 0px 1px 3px 1px rgba(0, 0, 0, 0.15);\n",
              "      filter: drop-shadow(0px 1px 2px rgba(0, 0, 0, 0.3));\n",
              "      fill: #FFFFFF;\n",
              "    }\n",
              "  </style>\n",
              "\n",
              "      <script>\n",
              "        const buttonEl =\n",
              "          document.querySelector('#df-b0b896a4-c618-4437-a362-dcb2ac5b6511 button.colab-df-convert');\n",
              "        buttonEl.style.display =\n",
              "          google.colab.kernel.accessAllowed ? 'block' : 'none';\n",
              "\n",
              "        async function convertToInteractive(key) {\n",
              "          const element = document.querySelector('#df-b0b896a4-c618-4437-a362-dcb2ac5b6511');\n",
              "          const dataTable =\n",
              "            await google.colab.kernel.invokeFunction('convertToInteractive',\n",
              "                                                     [key], {});\n",
              "          if (!dataTable) return;\n",
              "\n",
              "          const docLinkHtml = 'Like what you see? Visit the ' +\n",
              "            '<a target=\"_blank\" href=https://colab.research.google.com/notebooks/data_table.ipynb>data table notebook</a>'\n",
              "            + ' to learn more about interactive tables.';\n",
              "          element.innerHTML = '';\n",
              "          dataTable['output_type'] = 'display_data';\n",
              "          await google.colab.output.renderOutput(dataTable, element);\n",
              "          const docLink = document.createElement('div');\n",
              "          docLink.innerHTML = docLinkHtml;\n",
              "          element.appendChild(docLink);\n",
              "        }\n",
              "      </script>\n",
              "    </div>\n",
              "  </div>\n",
              "  "
            ]
          },
          "metadata": {},
          "execution_count": 4
        }
      ]
    },
    {
      "cell_type": "code",
      "source": [
        "df.sample(10)"
      ],
      "metadata": {
        "colab": {
          "base_uri": "https://localhost:8080/",
          "height": 363
        },
        "id": "tx8o7jbE3iQL",
        "outputId": "e959fe56-ecf0-4ffd-ae0c-be8b2835250a"
      },
      "execution_count": null,
      "outputs": [
        {
          "output_type": "execute_result",
          "data": {
            "text/plain": [
              "            Price  Mileage       Make        Model              Trim  \\\n",
              "208   9789.037676    22986  Chevrolet         AVEO  SVM Hatchback 4D   \n",
              "541  16379.853004     4188    Pontiac     Grand Am       SE Sedan 4D   \n",
              "488  21403.756422    27168    Pontiac   Bonneville      GXP Sedan 4D   \n",
              "51   21956.342663    17787      Buick      Lesabre  Limited Sedan 4D   \n",
              "627  15622.121098    23217    Pontiac         Vibe     Sportwagon 4D   \n",
              "429  16295.211438    28239  Chevrolet       Malibu       LT Sedan 4D   \n",
              "371  18835.189761     8211  Chevrolet       Impala          Sedan 4D   \n",
              "64   23493.082295    20453      Buick  Park Avenue          Sedan 4D   \n",
              "490  19682.035011    11554    Pontiac   Bonneville       SE Sedan 4D   \n",
              "415  18004.870415    18771  Chevrolet       Malibu  LT MAXX Hback 4D   \n",
              "\n",
              "          Type  Cylinder  Liter  Doors  Cruise  Sound  Leather  \n",
              "208  Hatchback         4    1.6      4       0      1        1  \n",
              "541      Sedan         4    2.2      4       1      1        1  \n",
              "488      Sedan         8    4.6      4       1      0        1  \n",
              "51       Sedan         6    3.8      4       1      1        0  \n",
              "627      Wagon         4    1.8      4       1      1        1  \n",
              "429      Sedan         6    3.5      4       0      1        1  \n",
              "371      Sedan         6    3.8      4       1      0        1  \n",
              "64       Sedan         6    3.8      4       1      1        0  \n",
              "490      Sedan         6    3.8      4       1      0        1  \n",
              "415  Hatchback         6    3.5      4       0      1        1  "
            ],
            "text/html": [
              "\n",
              "  <div id=\"df-6ce2adcf-ae0b-4afd-a7b1-cd296d6905ae\">\n",
              "    <div class=\"colab-df-container\">\n",
              "      <div>\n",
              "<style scoped>\n",
              "    .dataframe tbody tr th:only-of-type {\n",
              "        vertical-align: middle;\n",
              "    }\n",
              "\n",
              "    .dataframe tbody tr th {\n",
              "        vertical-align: top;\n",
              "    }\n",
              "\n",
              "    .dataframe thead th {\n",
              "        text-align: right;\n",
              "    }\n",
              "</style>\n",
              "<table border=\"1\" class=\"dataframe\">\n",
              "  <thead>\n",
              "    <tr style=\"text-align: right;\">\n",
              "      <th></th>\n",
              "      <th>Price</th>\n",
              "      <th>Mileage</th>\n",
              "      <th>Make</th>\n",
              "      <th>Model</th>\n",
              "      <th>Trim</th>\n",
              "      <th>Type</th>\n",
              "      <th>Cylinder</th>\n",
              "      <th>Liter</th>\n",
              "      <th>Doors</th>\n",
              "      <th>Cruise</th>\n",
              "      <th>Sound</th>\n",
              "      <th>Leather</th>\n",
              "    </tr>\n",
              "  </thead>\n",
              "  <tbody>\n",
              "    <tr>\n",
              "      <th>208</th>\n",
              "      <td>9789.037676</td>\n",
              "      <td>22986</td>\n",
              "      <td>Chevrolet</td>\n",
              "      <td>AVEO</td>\n",
              "      <td>SVM Hatchback 4D</td>\n",
              "      <td>Hatchback</td>\n",
              "      <td>4</td>\n",
              "      <td>1.6</td>\n",
              "      <td>4</td>\n",
              "      <td>0</td>\n",
              "      <td>1</td>\n",
              "      <td>1</td>\n",
              "    </tr>\n",
              "    <tr>\n",
              "      <th>541</th>\n",
              "      <td>16379.853004</td>\n",
              "      <td>4188</td>\n",
              "      <td>Pontiac</td>\n",
              "      <td>Grand Am</td>\n",
              "      <td>SE Sedan 4D</td>\n",
              "      <td>Sedan</td>\n",
              "      <td>4</td>\n",
              "      <td>2.2</td>\n",
              "      <td>4</td>\n",
              "      <td>1</td>\n",
              "      <td>1</td>\n",
              "      <td>1</td>\n",
              "    </tr>\n",
              "    <tr>\n",
              "      <th>488</th>\n",
              "      <td>21403.756422</td>\n",
              "      <td>27168</td>\n",
              "      <td>Pontiac</td>\n",
              "      <td>Bonneville</td>\n",
              "      <td>GXP Sedan 4D</td>\n",
              "      <td>Sedan</td>\n",
              "      <td>8</td>\n",
              "      <td>4.6</td>\n",
              "      <td>4</td>\n",
              "      <td>1</td>\n",
              "      <td>0</td>\n",
              "      <td>1</td>\n",
              "    </tr>\n",
              "    <tr>\n",
              "      <th>51</th>\n",
              "      <td>21956.342663</td>\n",
              "      <td>17787</td>\n",
              "      <td>Buick</td>\n",
              "      <td>Lesabre</td>\n",
              "      <td>Limited Sedan 4D</td>\n",
              "      <td>Sedan</td>\n",
              "      <td>6</td>\n",
              "      <td>3.8</td>\n",
              "      <td>4</td>\n",
              "      <td>1</td>\n",
              "      <td>1</td>\n",
              "      <td>0</td>\n",
              "    </tr>\n",
              "    <tr>\n",
              "      <th>627</th>\n",
              "      <td>15622.121098</td>\n",
              "      <td>23217</td>\n",
              "      <td>Pontiac</td>\n",
              "      <td>Vibe</td>\n",
              "      <td>Sportwagon 4D</td>\n",
              "      <td>Wagon</td>\n",
              "      <td>4</td>\n",
              "      <td>1.8</td>\n",
              "      <td>4</td>\n",
              "      <td>1</td>\n",
              "      <td>1</td>\n",
              "      <td>1</td>\n",
              "    </tr>\n",
              "    <tr>\n",
              "      <th>429</th>\n",
              "      <td>16295.211438</td>\n",
              "      <td>28239</td>\n",
              "      <td>Chevrolet</td>\n",
              "      <td>Malibu</td>\n",
              "      <td>LT Sedan 4D</td>\n",
              "      <td>Sedan</td>\n",
              "      <td>6</td>\n",
              "      <td>3.5</td>\n",
              "      <td>4</td>\n",
              "      <td>0</td>\n",
              "      <td>1</td>\n",
              "      <td>1</td>\n",
              "    </tr>\n",
              "    <tr>\n",
              "      <th>371</th>\n",
              "      <td>18835.189761</td>\n",
              "      <td>8211</td>\n",
              "      <td>Chevrolet</td>\n",
              "      <td>Impala</td>\n",
              "      <td>Sedan 4D</td>\n",
              "      <td>Sedan</td>\n",
              "      <td>6</td>\n",
              "      <td>3.8</td>\n",
              "      <td>4</td>\n",
              "      <td>1</td>\n",
              "      <td>0</td>\n",
              "      <td>1</td>\n",
              "    </tr>\n",
              "    <tr>\n",
              "      <th>64</th>\n",
              "      <td>23493.082295</td>\n",
              "      <td>20453</td>\n",
              "      <td>Buick</td>\n",
              "      <td>Park Avenue</td>\n",
              "      <td>Sedan 4D</td>\n",
              "      <td>Sedan</td>\n",
              "      <td>6</td>\n",
              "      <td>3.8</td>\n",
              "      <td>4</td>\n",
              "      <td>1</td>\n",
              "      <td>1</td>\n",
              "      <td>0</td>\n",
              "    </tr>\n",
              "    <tr>\n",
              "      <th>490</th>\n",
              "      <td>19682.035011</td>\n",
              "      <td>11554</td>\n",
              "      <td>Pontiac</td>\n",
              "      <td>Bonneville</td>\n",
              "      <td>SE Sedan 4D</td>\n",
              "      <td>Sedan</td>\n",
              "      <td>6</td>\n",
              "      <td>3.8</td>\n",
              "      <td>4</td>\n",
              "      <td>1</td>\n",
              "      <td>0</td>\n",
              "      <td>1</td>\n",
              "    </tr>\n",
              "    <tr>\n",
              "      <th>415</th>\n",
              "      <td>18004.870415</td>\n",
              "      <td>18771</td>\n",
              "      <td>Chevrolet</td>\n",
              "      <td>Malibu</td>\n",
              "      <td>LT MAXX Hback 4D</td>\n",
              "      <td>Hatchback</td>\n",
              "      <td>6</td>\n",
              "      <td>3.5</td>\n",
              "      <td>4</td>\n",
              "      <td>0</td>\n",
              "      <td>1</td>\n",
              "      <td>1</td>\n",
              "    </tr>\n",
              "  </tbody>\n",
              "</table>\n",
              "</div>\n",
              "      <button class=\"colab-df-convert\" onclick=\"convertToInteractive('df-6ce2adcf-ae0b-4afd-a7b1-cd296d6905ae')\"\n",
              "              title=\"Convert this dataframe to an interactive table.\"\n",
              "              style=\"display:none;\">\n",
              "        \n",
              "  <svg xmlns=\"http://www.w3.org/2000/svg\" height=\"24px\"viewBox=\"0 0 24 24\"\n",
              "       width=\"24px\">\n",
              "    <path d=\"M0 0h24v24H0V0z\" fill=\"none\"/>\n",
              "    <path d=\"M18.56 5.44l.94 2.06.94-2.06 2.06-.94-2.06-.94-.94-2.06-.94 2.06-2.06.94zm-11 1L8.5 8.5l.94-2.06 2.06-.94-2.06-.94L8.5 2.5l-.94 2.06-2.06.94zm10 10l.94 2.06.94-2.06 2.06-.94-2.06-.94-.94-2.06-.94 2.06-2.06.94z\"/><path d=\"M17.41 7.96l-1.37-1.37c-.4-.4-.92-.59-1.43-.59-.52 0-1.04.2-1.43.59L10.3 9.45l-7.72 7.72c-.78.78-.78 2.05 0 2.83L4 21.41c.39.39.9.59 1.41.59.51 0 1.02-.2 1.41-.59l7.78-7.78 2.81-2.81c.8-.78.8-2.07 0-2.86zM5.41 20L4 18.59l7.72-7.72 1.47 1.35L5.41 20z\"/>\n",
              "  </svg>\n",
              "      </button>\n",
              "      \n",
              "  <style>\n",
              "    .colab-df-container {\n",
              "      display:flex;\n",
              "      flex-wrap:wrap;\n",
              "      gap: 12px;\n",
              "    }\n",
              "\n",
              "    .colab-df-convert {\n",
              "      background-color: #E8F0FE;\n",
              "      border: none;\n",
              "      border-radius: 50%;\n",
              "      cursor: pointer;\n",
              "      display: none;\n",
              "      fill: #1967D2;\n",
              "      height: 32px;\n",
              "      padding: 0 0 0 0;\n",
              "      width: 32px;\n",
              "    }\n",
              "\n",
              "    .colab-df-convert:hover {\n",
              "      background-color: #E2EBFA;\n",
              "      box-shadow: 0px 1px 2px rgba(60, 64, 67, 0.3), 0px 1px 3px 1px rgba(60, 64, 67, 0.15);\n",
              "      fill: #174EA6;\n",
              "    }\n",
              "\n",
              "    [theme=dark] .colab-df-convert {\n",
              "      background-color: #3B4455;\n",
              "      fill: #D2E3FC;\n",
              "    }\n",
              "\n",
              "    [theme=dark] .colab-df-convert:hover {\n",
              "      background-color: #434B5C;\n",
              "      box-shadow: 0px 1px 3px 1px rgba(0, 0, 0, 0.15);\n",
              "      filter: drop-shadow(0px 1px 2px rgba(0, 0, 0, 0.3));\n",
              "      fill: #FFFFFF;\n",
              "    }\n",
              "  </style>\n",
              "\n",
              "      <script>\n",
              "        const buttonEl =\n",
              "          document.querySelector('#df-6ce2adcf-ae0b-4afd-a7b1-cd296d6905ae button.colab-df-convert');\n",
              "        buttonEl.style.display =\n",
              "          google.colab.kernel.accessAllowed ? 'block' : 'none';\n",
              "\n",
              "        async function convertToInteractive(key) {\n",
              "          const element = document.querySelector('#df-6ce2adcf-ae0b-4afd-a7b1-cd296d6905ae');\n",
              "          const dataTable =\n",
              "            await google.colab.kernel.invokeFunction('convertToInteractive',\n",
              "                                                     [key], {});\n",
              "          if (!dataTable) return;\n",
              "\n",
              "          const docLinkHtml = 'Like what you see? Visit the ' +\n",
              "            '<a target=\"_blank\" href=https://colab.research.google.com/notebooks/data_table.ipynb>data table notebook</a>'\n",
              "            + ' to learn more about interactive tables.';\n",
              "          element.innerHTML = '';\n",
              "          dataTable['output_type'] = 'display_data';\n",
              "          await google.colab.output.renderOutput(dataTable, element);\n",
              "          const docLink = document.createElement('div');\n",
              "          docLink.innerHTML = docLinkHtml;\n",
              "          element.appendChild(docLink);\n",
              "        }\n",
              "      </script>\n",
              "    </div>\n",
              "  </div>\n",
              "  "
            ]
          },
          "metadata": {},
          "execution_count": 5
        }
      ]
    },
    {
      "cell_type": "markdown",
      "source": [
        "#Tasks,part-1"
      ],
      "metadata": {
        "id": "TINEJhapbccS"
      }
    },
    {
      "cell_type": "code",
      "source": [
        "#plotting graph between price vs mileage\n",
        "plt.scatter(df['Mileage'],df['Price'])\n",
        "plt.xlabel('Mileage')\n",
        "plt.ylabel('Price')"
      ],
      "metadata": {
        "colab": {
          "base_uri": "https://localhost:8080/",
          "height": 296
        },
        "id": "9oicJtOV5upi",
        "outputId": "6439110e-e4ff-4c1d-f4a1-7e43e577d04f"
      },
      "execution_count": null,
      "outputs": [
        {
          "output_type": "execute_result",
          "data": {
            "text/plain": [
              "Text(0, 0.5, 'Price')"
            ]
          },
          "metadata": {},
          "execution_count": 6
        },
        {
          "output_type": "display_data",
          "data": {
            "text/plain": [
              "<Figure size 432x288 with 1 Axes>"
            ],
            "image/png": "[encoded data removed]"
          },
          "metadata": {
            "needs_background": "light"
          }
        }
      ]
    },
    {
      "cell_type": "markdown",
      "source": [
        "#First check outlier in each coloumn"
      ],
      "metadata": {
        "id": "k7HEKIYGPD8d"
      }
    },
    {
      "cell_type": "markdown",
      "source": [
        "Price"
      ],
      "metadata": {
        "id": "LmijIp3tRO8d"
      }
    },
    {
      "cell_type": "code",
      "source": [
        "sns.boxplot(df[\"Price\"])"
      ],
      "metadata": {
        "colab": {
          "base_uri": "https://localhost:8080/",
          "height": 351
        },
        "id": "P85kirZakgYq",
        "outputId": "3da4a539-9459-47c7-b5d0-4d4a9d7879dd"
      },
      "execution_count": null,
      "outputs": [
        {
          "output_type": "stream",
          "name": "stderr",
          "text": [
            "/usr/local/lib/python3.8/dist-packages/seaborn/_decorators.py:36: FutureWarning: Pass the following variable as a keyword arg: x. From version 0.12, the only valid positional argument will be `data`, and passing other arguments without an explicit keyword will result in an error or misinterpretation.\n",
            "  warnings.warn(\n"
          ]
        },
        {
          "output_type": "execute_result",
          "data": {
            "text/plain": [
              "<matplotlib.axes._subplots.AxesSubplot at 0x7f2f14ffb820>"
            ]
          },
          "metadata": {},
          "execution_count": 7
        },
        {
          "output_type": "display_data",
          "data": {
            "text/plain": [
              "<Figure size 432x288 with 1 Axes>"
            ],
            "image/png": "[encoded data removed]"
          },
          "metadata": {
            "needs_background": "light"
          }
        }
      ]
    },
    {
      "cell_type": "code",
      "source": [
        "df[\"Price\"].describe()"
      ],
      "metadata": {
        "colab": {
          "base_uri": "https://localhost:8080/"
        },
        "id": "_aGDgPg_ndIb",
        "outputId": "936c739e-5937-41d6-b5e1-2865eecb5149"
      },
      "execution_count": null,
      "outputs": [
        {
          "output_type": "execute_result",
          "data": {
            "text/plain": [
              "count      804.000000\n",
              "mean     21343.143767\n",
              "std       9884.852801\n",
              "min       8638.930895\n",
              "25%      14273.073870\n",
              "50%      18024.995019\n",
              "75%      26717.316636\n",
              "max      70755.466717\n",
              "Name: Price, dtype: float64"
            ]
          },
          "metadata": {},
          "execution_count": 8
        }
      ]
    },
    {
      "cell_type": "code",
      "source": [
        "#finding IQR\n",
        "percentile25 = df[\"Price\"].quantile(0.25)\n",
        "percentile75 = df[\"Price\"].quantile(0.75)"
      ],
      "metadata": {
        "id": "Jg5yD1lHndMZ"
      },
      "execution_count": null,
      "outputs": []
    },
    {
      "cell_type": "code",
      "source": [
        "iqr = percentile75 - percentile25\n",
        "iqr"
      ],
      "metadata": {
        "colab": {
          "base_uri": "https://localhost:8080/"
        },
        "id": "Gld5Ap2RndQt",
        "outputId": "fb9d5fbd-9a03-4e4f-afd7-ece251422a73"
      },
      "execution_count": null,
      "outputs": [
        {
          "output_type": "execute_result",
          "data": {
            "text/plain": [
              "12444.242765331575"
            ]
          },
          "metadata": {},
          "execution_count": 10
        }
      ]
    },
    {
      "cell_type": "code",
      "source": [
        "upper_limit = percentile75 + 1.5*iqr\n",
        "lower_limit = percentile25 - 1.5*iqr"
      ],
      "metadata": {
        "id": "DZv6eJLendUf"
      },
      "execution_count": null,
      "outputs": []
    },
    {
      "cell_type": "code",
      "source": [
        "print(\"Upper limit\",upper_limit)\n",
        "print(\"Lower limit\",lower_limit)"
      ],
      "metadata": {
        "colab": {
          "base_uri": "https://localhost:8080/"
        },
        "id": "8f13X-8DndYE",
        "outputId": "5994e136-f61f-4325-a158-a2b29abb5763"
      },
      "execution_count": null,
      "outputs": [
        {
          "output_type": "stream",
          "name": "stdout",
          "text": [
            "Upper limit 45383.68078365926\n",
            "Lower limit -4393.290277667038\n"
          ]
        }
      ]
    },
    {
      "cell_type": "markdown",
      "source": [
        "#Removing outlier by capping technique where data>upper limit converted to =upper limit similarly for lower limit also"
      ],
      "metadata": {
        "id": "4yNHkgxgy24y"
      }
    },
    {
      "cell_type": "code",
      "source": [
        "\n",
        "df['Price'] = np.where(\n",
        "    df['Price']>upper_limit,\n",
        "    upper_limit,\n",
        "    np.where(\n",
        "        df['Price']<lower_limit,\n",
        "        lower_limit,\n",
        "        df['Price']\n",
        "    ) \n",
        ")\n",
        "df['Price'].describe()\n"
      ],
      "metadata": {
        "colab": {
          "base_uri": "https://localhost:8080/"
        },
        "id": "9uL8w1PmsD9u",
        "outputId": "f0f848b1-0b9b-4973-ebda-989111e7c367"
      },
      "execution_count": null,
      "outputs": [
        {
          "output_type": "execute_result",
          "data": {
            "text/plain": [
              "count      804.000000\n",
              "mean     21099.998496\n",
              "std       9031.505318\n",
              "min       8638.930895\n",
              "25%      14273.073870\n",
              "50%      18024.995019\n",
              "75%      26717.316636\n",
              "max      45383.680784\n",
              "Name: Price, dtype: float64"
            ]
          },
          "metadata": {},
          "execution_count": 13
        }
      ]
    },
    {
      "cell_type": "markdown",
      "source": [
        "#Removing outlier by trimming technique"
      ],
      "metadata": {
        "id": "iiZqHfYozNuP"
      }
    },
    {
      "cell_type": "code",
      "source": [
        "#new_df1 = df[df[\"Price\"] < upper_limit]    #but in trimming technique there is still some outlier.\n",
        "#new_df1"
      ],
      "metadata": {
        "id": "8pEbhZpDndcM"
      },
      "execution_count": null,
      "outputs": []
    },
    {
      "cell_type": "code",
      "source": [
        "sns.boxplot(df[\"Price\"])"
      ],
      "metadata": {
        "colab": {
          "base_uri": "https://localhost:8080/",
          "height": 351
        },
        "id": "xQRV-RbsoQtX",
        "outputId": "23e8af8b-983f-47ea-ee90-0387bb6d0bd2"
      },
      "execution_count": null,
      "outputs": [
        {
          "output_type": "stream",
          "name": "stderr",
          "text": [
            "/usr/local/lib/python3.8/dist-packages/seaborn/_decorators.py:36: FutureWarning: Pass the following variable as a keyword arg: x. From version 0.12, the only valid positional argument will be `data`, and passing other arguments without an explicit keyword will result in an error or misinterpretation.\n",
            "  warnings.warn(\n"
          ]
        },
        {
          "output_type": "execute_result",
          "data": {
            "text/plain": [
              "<matplotlib.axes._subplots.AxesSubplot at 0x7f2f14b2dfd0>"
            ]
          },
          "metadata": {},
          "execution_count": 14
        },
        {
          "output_type": "display_data",
          "data": {
            "text/plain": [
              "<Figure size 432x288 with 1 Axes>"
            ],
            "image/png": "[encoded data removed]"
          },
          "metadata": {
            "needs_background": "light"
          }
        }
      ]
    },
    {
      "cell_type": "code",
      "source": [
        "df"
      ],
      "metadata": {
        "colab": {
          "base_uri": "https://localhost:8080/",
          "height": 424
        },
        "id": "UbbOOTl1s-Iy",
        "outputId": "db9d77de-e8ae-47b9-8b07-5e9c28b0a47f"
      },
      "execution_count": null,
      "outputs": [
        {
          "output_type": "execute_result",
          "data": {
            "text/plain": [
              "            Price  Mileage    Make     Model           Trim   Type  Cylinder  \\\n",
              "0    17314.103129     8221   Buick   Century       Sedan 4D  Sedan         6   \n",
              "1    17542.036083     9135   Buick   Century       Sedan 4D  Sedan         6   \n",
              "2    16218.847862    13196   Buick   Century       Sedan 4D  Sedan         6   \n",
              "3    16336.913140    16342   Buick   Century       Sedan 4D  Sedan         6   \n",
              "4    16339.170324    19832   Buick   Century       Sedan 4D  Sedan         6   \n",
              "..            ...      ...     ...       ...            ...    ...       ...   \n",
              "799  16507.070267    16229  Saturn  L Series  L300 Sedan 4D  Sedan         6   \n",
              "800  16175.957604    19095  Saturn  L Series  L300 Sedan 4D  Sedan         6   \n",
              "801  15731.132897    20484  Saturn  L Series  L300 Sedan 4D  Sedan         6   \n",
              "802  15118.893228    25979  Saturn  L Series  L300 Sedan 4D  Sedan         6   \n",
              "803  13585.636802    35662  Saturn  L Series  L300 Sedan 4D  Sedan         6   \n",
              "\n",
              "     Liter  Doors  Cruise  Sound  Leather  \n",
              "0      3.1      4       1      1        1  \n",
              "1      3.1      4       1      1        0  \n",
              "2      3.1      4       1      1        0  \n",
              "3      3.1      4       1      0        0  \n",
              "4      3.1      4       1      0        1  \n",
              "..     ...    ...     ...    ...      ...  \n",
              "799    3.0      4       1      0        0  \n",
              "800    3.0      4       1      1        0  \n",
              "801    3.0      4       1      1        0  \n",
              "802    3.0      4       1      1        0  \n",
              "803    3.0      4       1      0        0  \n",
              "\n",
              "[804 rows x 12 columns]"
            ],
            "text/html": [
              "\n",
              "  <div id=\"df-1c11747b-3e19-4422-ab3c-1bb1c743f092\">\n",
              "    <div class=\"colab-df-container\">\n",
              "      <div>\n",
              "<style scoped>\n",
              "    .dataframe tbody tr th:only-of-type {\n",
              "        vertical-align: middle;\n",
              "    }\n",
              "\n",
              "    .dataframe tbody tr th {\n",
              "        vertical-align: top;\n",
              "    }\n",
              "\n",
              "    .dataframe thead th {\n",
              "        text-align: right;\n",
              "    }\n",
              "</style>\n",
              "<table border=\"1\" class=\"dataframe\">\n",
              "  <thead>\n",
              "    <tr style=\"text-align: right;\">\n",
              "      <th></th>\n",
              "      <th>Price</th>\n",
              "      <th>Mileage</th>\n",
              "      <th>Make</th>\n",
              "      <th>Model</th>\n",
              "      <th>Trim</th>\n",
              "      <th>Type</th>\n",
              "      <th>Cylinder</th>\n",
              "      <th>Liter</th>\n",
              "      <th>Doors</th>\n",
              "      <th>Cruise</th>\n",
              "      <th>Sound</th>\n",
              "      <th>Leather</th>\n",
              "    </tr>\n",
              "  </thead>\n",
              "  <tbody>\n",
              "    <tr>\n",
              "      <th>0</th>\n",
              "      <td>17314.103129</td>\n",
              "      <td>8221</td>\n",
              "      <td>Buick</td>\n",
              "      <td>Century</td>\n",
              "      <td>Sedan 4D</td>\n",
              "      <td>Sedan</td>\n",
              "      <td>6</td>\n",
              "      <td>3.1</td>\n",
              "      <td>4</td>\n",
              "      <td>1</td>\n",
              "      <td>1</td>\n",
              "      <td>1</td>\n",
              "    </tr>\n",
              "    <tr>\n",
              "      <th>1</th>\n",
              "      <td>17542.036083</td>\n",
              "      <td>9135</td>\n",
              "      <td>Buick</td>\n",
              "      <td>Century</td>\n",
              "      <td>Sedan 4D</td>\n",
              "      <td>Sedan</td>\n",
              "      <td>6</td>\n",
              "      <td>3.1</td>\n",
              "      <td>4</td>\n",
              "      <td>1</td>\n",
              "      <td>1</td>\n",
              "      <td>0</td>\n",
              "    </tr>\n",
              "    <tr>\n",
              "      <th>2</th>\n",
              "      <td>16218.847862</td>\n",
              "      <td>13196</td>\n",
              "      <td>Buick</td>\n",
              "      <td>Century</td>\n",
              "      <td>Sedan 4D</td>\n",
              "      <td>Sedan</td>\n",
              "      <td>6</td>\n",
              "      <td>3.1</td>\n",
              "      <td>4</td>\n",
              "      <td>1</td>\n",
              "      <td>1</td>\n",
              "      <td>0</td>\n",
              "    </tr>\n",
              "    <tr>\n",
              "      <th>3</th>\n",
              "      <td>16336.913140</td>\n",
              "      <td>16342</td>\n",
              "      <td>Buick</td>\n",
              "      <td>Century</td>\n",
              "      <td>Sedan 4D</td>\n",
              "      <td>Sedan</td>\n",
              "      <td>6</td>\n",
              "      <td>3.1</td>\n",
              "      <td>4</td>\n",
              "      <td>1</td>\n",
              "      <td>0</td>\n",
              "      <td>0</td>\n",
              "    </tr>\n",
              "    <tr>\n",
              "      <th>4</th>\n",
              "      <td>16339.170324</td>\n",
              "      <td>19832</td>\n",
              "      <td>Buick</td>\n",
              "      <td>Century</td>\n",
              "      <td>Sedan 4D</td>\n",
              "      <td>Sedan</td>\n",
              "      <td>6</td>\n",
              "      <td>3.1</td>\n",
              "      <td>4</td>\n",
              "      <td>1</td>\n",
              "      <td>0</td>\n",
              "      <td>1</td>\n",
              "    </tr>\n",
              "    <tr>\n",
              "      <th>...</th>\n",
              "      <td>...</td>\n",
              "      <td>...</td>\n",
              "      <td>...</td>\n",
              "      <td>...</td>\n",
              "      <td>...</td>\n",
              "      <td>...</td>\n",
              "      <td>...</td>\n",
              "      <td>...</td>\n",
              "      <td>...</td>\n",
              "      <td>...</td>\n",
              "      <td>...</td>\n",
              "      <td>...</td>\n",
              "    </tr>\n",
              "    <tr>\n",
              "      <th>799</th>\n",
              "      <td>16507.070267</td>\n",
              "      <td>16229</td>\n",
              "      <td>Saturn</td>\n",
              "      <td>L Series</td>\n",
              "      <td>L300 Sedan 4D</td>\n",
              "      <td>Sedan</td>\n",
              "      <td>6</td>\n",
              "      <td>3.0</td>\n",
              "      <td>4</td>\n",
              "      <td>1</td>\n",
              "      <td>0</td>\n",
              "      <td>0</td>\n",
              "    </tr>\n",
              "    <tr>\n",
              "      <th>800</th>\n",
              "      <td>16175.957604</td>\n",
              "      <td>19095</td>\n",
              "      <td>Saturn</td>\n",
              "      <td>L Series</td>\n",
              "      <td>L300 Sedan 4D</td>\n",
              "      <td>Sedan</td>\n",
              "      <td>6</td>\n",
              "      <td>3.0</td>\n",
              "      <td>4</td>\n",
              "      <td>1</td>\n",
              "      <td>1</td>\n",
              "      <td>0</td>\n",
              "    </tr>\n",
              "    <tr>\n",
              "      <th>801</th>\n",
              "      <td>15731.132897</td>\n",
              "      <td>20484</td>\n",
              "      <td>Saturn</td>\n",
              "      <td>L Series</td>\n",
              "      <td>L300 Sedan 4D</td>\n",
              "      <td>Sedan</td>\n",
              "      <td>6</td>\n",
              "      <td>3.0</td>\n",
              "      <td>4</td>\n",
              "      <td>1</td>\n",
              "      <td>1</td>\n",
              "      <td>0</td>\n",
              "    </tr>\n",
              "    <tr>\n",
              "      <th>802</th>\n",
              "      <td>15118.893228</td>\n",
              "      <td>25979</td>\n",
              "      <td>Saturn</td>\n",
              "      <td>L Series</td>\n",
              "      <td>L300 Sedan 4D</td>\n",
              "      <td>Sedan</td>\n",
              "      <td>6</td>\n",
              "      <td>3.0</td>\n",
              "      <td>4</td>\n",
              "      <td>1</td>\n",
              "      <td>1</td>\n",
              "      <td>0</td>\n",
              "    </tr>\n",
              "    <tr>\n",
              "      <th>803</th>\n",
              "      <td>13585.636802</td>\n",
              "      <td>35662</td>\n",
              "      <td>Saturn</td>\n",
              "      <td>L Series</td>\n",
              "      <td>L300 Sedan 4D</td>\n",
              "      <td>Sedan</td>\n",
              "      <td>6</td>\n",
              "      <td>3.0</td>\n",
              "      <td>4</td>\n",
              "      <td>1</td>\n",
              "      <td>0</td>\n",
              "      <td>0</td>\n",
              "    </tr>\n",
              "  </tbody>\n",
              "</table>\n",
              "<p>804 rows × 12 columns</p>\n",
              "</div>\n",
              "      <button class=\"colab-df-convert\" onclick=\"convertToInteractive('df-1c11747b-3e19-4422-ab3c-1bb1c743f092')\"\n",
              "              title=\"Convert this dataframe to an interactive table.\"\n",
              "              style=\"display:none;\">\n",
              "        \n",
              "  <svg xmlns=\"http://www.w3.org/2000/svg\" height=\"24px\"viewBox=\"0 0 24 24\"\n",
              "       width=\"24px\">\n",
              "    <path d=\"M0 0h24v24H0V0z\" fill=\"none\"/>\n",
              "    <path d=\"M18.56 5.44l.94 2.06.94-2.06 2.06-.94-2.06-.94-.94-2.06-.94 2.06-2.06.94zm-11 1L8.5 8.5l.94-2.06 2.06-.94-2.06-.94L8.5 2.5l-.94 2.06-2.06.94zm10 10l.94 2.06.94-2.06 2.06-.94-2.06-.94-.94-2.06-.94 2.06-2.06.94z\"/><path d=\"M17.41 7.96l-1.37-1.37c-.4-.4-.92-.59-1.43-.59-.52 0-1.04.2-1.43.59L10.3 9.45l-7.72 7.72c-.78.78-.78 2.05 0 2.83L4 21.41c.39.39.9.59 1.41.59.51 0 1.02-.2 1.41-.59l7.78-7.78 2.81-2.81c.8-.78.8-2.07 0-2.86zM5.41 20L4 18.59l7.72-7.72 1.47 1.35L5.41 20z\"/>\n",
              "  </svg>\n",
              "      </button>\n",
              "      \n",
              "  <style>\n",
              "    .colab-df-container {\n",
              "      display:flex;\n",
              "      flex-wrap:wrap;\n",
              "      gap: 12px;\n",
              "    }\n",
              "\n",
              "    .colab-df-convert {\n",
              "      background-color: #E8F0FE;\n",
              "      border: none;\n",
              "      border-radius: 50%;\n",
              "      cursor: pointer;\n",
              "      display: none;\n",
              "      fill: #1967D2;\n",
              "      height: 32px;\n",
              "      padding: 0 0 0 0;\n",
              "      width: 32px;\n",
              "    }\n",
              "\n",
              "    .colab-df-convert:hover {\n",
              "      background-color: #E2EBFA;\n",
              "      box-shadow: 0px 1px 2px rgba(60, 64, 67, 0.3), 0px 1px 3px 1px rgba(60, 64, 67, 0.15);\n",
              "      fill: #174EA6;\n",
              "    }\n",
              "\n",
              "    [theme=dark] .colab-df-convert {\n",
              "      background-color: #3B4455;\n",
              "      fill: #D2E3FC;\n",
              "    }\n",
              "\n",
              "    [theme=dark] .colab-df-convert:hover {\n",
              "      background-color: #434B5C;\n",
              "      box-shadow: 0px 1px 3px 1px rgba(0, 0, 0, 0.15);\n",
              "      filter: drop-shadow(0px 1px 2px rgba(0, 0, 0, 0.3));\n",
              "      fill: #FFFFFF;\n",
              "    }\n",
              "  </style>\n",
              "\n",
              "      <script>\n",
              "        const buttonEl =\n",
              "          document.querySelector('#df-1c11747b-3e19-4422-ab3c-1bb1c743f092 button.colab-df-convert');\n",
              "        buttonEl.style.display =\n",
              "          google.colab.kernel.accessAllowed ? 'block' : 'none';\n",
              "\n",
              "        async function convertToInteractive(key) {\n",
              "          const element = document.querySelector('#df-1c11747b-3e19-4422-ab3c-1bb1c743f092');\n",
              "          const dataTable =\n",
              "            await google.colab.kernel.invokeFunction('convertToInteractive',\n",
              "                                                     [key], {});\n",
              "          if (!dataTable) return;\n",
              "\n",
              "          const docLinkHtml = 'Like what you see? Visit the ' +\n",
              "            '<a target=\"_blank\" href=https://colab.research.google.com/notebooks/data_table.ipynb>data table notebook</a>'\n",
              "            + ' to learn more about interactive tables.';\n",
              "          element.innerHTML = '';\n",
              "          dataTable['output_type'] = 'display_data';\n",
              "          await google.colab.output.renderOutput(dataTable, element);\n",
              "          const docLink = document.createElement('div');\n",
              "          docLink.innerHTML = docLinkHtml;\n",
              "          element.appendChild(docLink);\n",
              "        }\n",
              "      </script>\n",
              "    </div>\n",
              "  </div>\n",
              "  "
            ]
          },
          "metadata": {},
          "execution_count": 15
        }
      ]
    },
    {
      "cell_type": "markdown",
      "source": [
        "Mileage"
      ],
      "metadata": {
        "id": "F88nIvJ9RVAN"
      }
    },
    {
      "cell_type": "code",
      "source": [
        "sns.boxplot(df[\"Mileage\"])"
      ],
      "metadata": {
        "colab": {
          "base_uri": "https://localhost:8080/",
          "height": 351
        },
        "id": "esIZ0zuGPf_m",
        "outputId": "d31a8329-b80e-4bd2-fadd-1fa0639ed455"
      },
      "execution_count": null,
      "outputs": [
        {
          "output_type": "stream",
          "name": "stderr",
          "text": [
            "/usr/local/lib/python3.8/dist-packages/seaborn/_decorators.py:36: FutureWarning: Pass the following variable as a keyword arg: x. From version 0.12, the only valid positional argument will be `data`, and passing other arguments without an explicit keyword will result in an error or misinterpretation.\n",
            "  warnings.warn(\n"
          ]
        },
        {
          "output_type": "execute_result",
          "data": {
            "text/plain": [
              "<matplotlib.axes._subplots.AxesSubplot at 0x7f2f14b2d790>"
            ]
          },
          "metadata": {},
          "execution_count": 16
        },
        {
          "output_type": "display_data",
          "data": {
            "text/plain": [
              "<Figure size 432x288 with 1 Axes>"
            ],
            "image/png": "[encoded data removed]"
          },
          "metadata": {
            "needs_background": "light"
          }
        }
      ]
    },
    {
      "cell_type": "code",
      "source": [
        "df[\"Mileage\"].describe()"
      ],
      "metadata": {
        "colab": {
          "base_uri": "https://localhost:8080/"
        },
        "id": "gQAEg5PePpDk",
        "outputId": "1bab4927-6544-4245-f739-6159e694311e"
      },
      "execution_count": null,
      "outputs": [
        {
          "output_type": "execute_result",
          "data": {
            "text/plain": [
              "count      804.000000\n",
              "mean     19831.934080\n",
              "std       8196.319707\n",
              "min        266.000000\n",
              "25%      14623.500000\n",
              "50%      20913.500000\n",
              "75%      25213.000000\n",
              "max      50387.000000\n",
              "Name: Mileage, dtype: float64"
            ]
          },
          "metadata": {},
          "execution_count": 17
        }
      ]
    },
    {
      "cell_type": "code",
      "source": [
        "#finding IQR\n",
        "percentile25 = df[\"Mileage\"].quantile(0.25)\n",
        "percentile75 = df[\"Mileage\"].quantile(0.75)"
      ],
      "metadata": {
        "id": "7_T5xX3bPpOL"
      },
      "execution_count": null,
      "outputs": []
    },
    {
      "cell_type": "code",
      "source": [
        "iqr = percentile75 - percentile25\n",
        "iqr"
      ],
      "metadata": {
        "colab": {
          "base_uri": "https://localhost:8080/"
        },
        "id": "T0amdmCRPpSn",
        "outputId": "bcbd86e8-9a60-462f-d73e-71b9a04896f3"
      },
      "execution_count": null,
      "outputs": [
        {
          "output_type": "execute_result",
          "data": {
            "text/plain": [
              "10589.5"
            ]
          },
          "metadata": {},
          "execution_count": 19
        }
      ]
    },
    {
      "cell_type": "code",
      "source": [
        "upper_limit = percentile75 + 1.5*iqr\n",
        "lower_limit = percentile25 - 1.5*iqr"
      ],
      "metadata": {
        "id": "A4G6iRL4PpXv"
      },
      "execution_count": null,
      "outputs": []
    },
    {
      "cell_type": "code",
      "source": [
        "print(\"Upper limit\",upper_limit)\n",
        "print(\"Lower limit\",lower_limit)"
      ],
      "metadata": {
        "colab": {
          "base_uri": "https://localhost:8080/"
        },
        "id": "fTkAq9qNQMTO",
        "outputId": "b0205697-3239-4db9-f27e-bdf30f94fc01"
      },
      "execution_count": null,
      "outputs": [
        {
          "output_type": "stream",
          "name": "stdout",
          "text": [
            "Upper limit 41097.25\n",
            "Lower limit -1260.75\n"
          ]
        }
      ]
    },
    {
      "cell_type": "code",
      "source": [
        "\n",
        "df['Mileage'] = np.where(\n",
        "    df['Mileage']>upper_limit,\n",
        "    upper_limit,\n",
        "    np.where(\n",
        "        df['Mileage']<lower_limit,\n",
        "        lower_limit,\n",
        "        df['Mileage']\n",
        "    ) \n",
        ")\n",
        "df['Mileage'].describe()"
      ],
      "metadata": {
        "colab": {
          "base_uri": "https://localhost:8080/"
        },
        "id": "nlNKhvyiQMcK",
        "outputId": "0858dd64-fe68-4888-9190-2c3f5e666018"
      },
      "execution_count": null,
      "outputs": [
        {
          "output_type": "execute_result",
          "data": {
            "text/plain": [
              "count      804.000000\n",
              "mean     19807.086132\n",
              "std       8119.836852\n",
              "min        266.000000\n",
              "25%      14623.500000\n",
              "50%      20913.500000\n",
              "75%      25213.000000\n",
              "max      41097.250000\n",
              "Name: Mileage, dtype: float64"
            ]
          },
          "metadata": {},
          "execution_count": 22
        }
      ]
    },
    {
      "cell_type": "code",
      "source": [
        "sns.boxplot(df['Mileage'])"
      ],
      "metadata": {
        "colab": {
          "base_uri": "https://localhost:8080/",
          "height": 351
        },
        "id": "6MKHyvrMQMgU",
        "outputId": "d8935e8f-7726-4cc1-b5a4-4da0af04cfaf"
      },
      "execution_count": null,
      "outputs": [
        {
          "output_type": "stream",
          "name": "stderr",
          "text": [
            "/usr/local/lib/python3.8/dist-packages/seaborn/_decorators.py:36: FutureWarning: Pass the following variable as a keyword arg: x. From version 0.12, the only valid positional argument will be `data`, and passing other arguments without an explicit keyword will result in an error or misinterpretation.\n",
            "  warnings.warn(\n"
          ]
        },
        {
          "output_type": "execute_result",
          "data": {
            "text/plain": [
              "<matplotlib.axes._subplots.AxesSubplot at 0x7f2f14a6fee0>"
            ]
          },
          "metadata": {},
          "execution_count": 23
        },
        {
          "output_type": "display_data",
          "data": {
            "text/plain": [
              "<Figure size 432x288 with 1 Axes>"
            ],
            "image/png": "[encoded data removed]"
          },
          "metadata": {
            "needs_background": "light"
          }
        }
      ]
    },
    {
      "cell_type": "code",
      "source": [
        "df"
      ],
      "metadata": {
        "colab": {
          "base_uri": "https://localhost:8080/",
          "height": 424
        },
        "id": "bf8u-_ni0tSE",
        "outputId": "f5a90732-e2f5-476a-d910-40407aab3aaa"
      },
      "execution_count": null,
      "outputs": [
        {
          "output_type": "execute_result",
          "data": {
            "text/plain": [
              "            Price  Mileage    Make     Model           Trim   Type  Cylinder  \\\n",
              "0    17314.103129   8221.0   Buick   Century       Sedan 4D  Sedan         6   \n",
              "1    17542.036083   9135.0   Buick   Century       Sedan 4D  Sedan         6   \n",
              "2    16218.847862  13196.0   Buick   Century       Sedan 4D  Sedan         6   \n",
              "3    16336.913140  16342.0   Buick   Century       Sedan 4D  Sedan         6   \n",
              "4    16339.170324  19832.0   Buick   Century       Sedan 4D  Sedan         6   \n",
              "..            ...      ...     ...       ...            ...    ...       ...   \n",
              "799  16507.070267  16229.0  Saturn  L Series  L300 Sedan 4D  Sedan         6   \n",
              "800  16175.957604  19095.0  Saturn  L Series  L300 Sedan 4D  Sedan         6   \n",
              "801  15731.132897  20484.0  Saturn  L Series  L300 Sedan 4D  Sedan         6   \n",
              "802  15118.893228  25979.0  Saturn  L Series  L300 Sedan 4D  Sedan         6   \n",
              "803  13585.636802  35662.0  Saturn  L Series  L300 Sedan 4D  Sedan         6   \n",
              "\n",
              "     Liter  Doors  Cruise  Sound  Leather  \n",
              "0      3.1      4       1      1        1  \n",
              "1      3.1      4       1      1        0  \n",
              "2      3.1      4       1      1        0  \n",
              "3      3.1      4       1      0        0  \n",
              "4      3.1      4       1      0        1  \n",
              "..     ...    ...     ...    ...      ...  \n",
              "799    3.0      4       1      0        0  \n",
              "800    3.0      4       1      1        0  \n",
              "801    3.0      4       1      1        0  \n",
              "802    3.0      4       1      1        0  \n",
              "803    3.0      4       1      0        0  \n",
              "\n",
              "[804 rows x 12 columns]"
            ],
            "text/html": [
              "\n",
              "  <div id=\"df-cea6aed5-c663-4eec-b45b-dd1b5a86d113\">\n",
              "    <div class=\"colab-df-container\">\n",
              "      <div>\n",
              "<style scoped>\n",
              "    .dataframe tbody tr th:only-of-type {\n",
              "        vertical-align: middle;\n",
              "    }\n",
              "\n",
              "    .dataframe tbody tr th {\n",
              "        vertical-align: top;\n",
              "    }\n",
              "\n",
              "    .dataframe thead th {\n",
              "        text-align: right;\n",
              "    }\n",
              "</style>\n",
              "<table border=\"1\" class=\"dataframe\">\n",
              "  <thead>\n",
              "    <tr style=\"text-align: right;\">\n",
              "      <th></th>\n",
              "      <th>Price</th>\n",
              "      <th>Mileage</th>\n",
              "      <th>Make</th>\n",
              "      <th>Model</th>\n",
              "      <th>Trim</th>\n",
              "      <th>Type</th>\n",
              "      <th>Cylinder</th>\n",
              "      <th>Liter</th>\n",
              "      <th>Doors</th>\n",
              "      <th>Cruise</th>\n",
              "      <th>Sound</th>\n",
              "      <th>Leather</th>\n",
              "    </tr>\n",
              "  </thead>\n",
              "  <tbody>\n",
              "    <tr>\n",
              "      <th>0</th>\n",
              "      <td>17314.103129</td>\n",
              "      <td>8221.0</td>\n",
              "      <td>Buick</td>\n",
              "      <td>Century</td>\n",
              "      <td>Sedan 4D</td>\n",
              "      <td>Sedan</td>\n",
              "      <td>6</td>\n",
              "      <td>3.1</td>\n",
              "      <td>4</td>\n",
              "      <td>1</td>\n",
              "      <td>1</td>\n",
              "      <td>1</td>\n",
              "    </tr>\n",
              "    <tr>\n",
              "      <th>1</th>\n",
              "      <td>17542.036083</td>\n",
              "      <td>9135.0</td>\n",
              "      <td>Buick</td>\n",
              "      <td>Century</td>\n",
              "      <td>Sedan 4D</td>\n",
              "      <td>Sedan</td>\n",
              "      <td>6</td>\n",
              "      <td>3.1</td>\n",
              "      <td>4</td>\n",
              "      <td>1</td>\n",
              "      <td>1</td>\n",
              "      <td>0</td>\n",
              "    </tr>\n",
              "    <tr>\n",
              "      <th>2</th>\n",
              "      <td>16218.847862</td>\n",
              "      <td>13196.0</td>\n",
              "      <td>Buick</td>\n",
              "      <td>Century</td>\n",
              "      <td>Sedan 4D</td>\n",
              "      <td>Sedan</td>\n",
              "      <td>6</td>\n",
              "      <td>3.1</td>\n",
              "      <td>4</td>\n",
              "      <td>1</td>\n",
              "      <td>1</td>\n",
              "      <td>0</td>\n",
              "    </tr>\n",
              "    <tr>\n",
              "      <th>3</th>\n",
              "      <td>16336.913140</td>\n",
              "      <td>16342.0</td>\n",
              "      <td>Buick</td>\n",
              "      <td>Century</td>\n",
              "      <td>Sedan 4D</td>\n",
              "      <td>Sedan</td>\n",
              "      <td>6</td>\n",
              "      <td>3.1</td>\n",
              "      <td>4</td>\n",
              "      <td>1</td>\n",
              "      <td>0</td>\n",
              "      <td>0</td>\n",
              "    </tr>\n",
              "    <tr>\n",
              "      <th>4</th>\n",
              "      <td>16339.170324</td>\n",
              "      <td>19832.0</td>\n",
              "      <td>Buick</td>\n",
              "      <td>Century</td>\n",
              "      <td>Sedan 4D</td>\n",
              "      <td>Sedan</td>\n",
              "      <td>6</td>\n",
              "      <td>3.1</td>\n",
              "      <td>4</td>\n",
              "      <td>1</td>\n",
              "      <td>0</td>\n",
              "      <td>1</td>\n",
              "    </tr>\n",
              "    <tr>\n",
              "      <th>...</th>\n",
              "      <td>...</td>\n",
              "      <td>...</td>\n",
              "      <td>...</td>\n",
              "      <td>...</td>\n",
              "      <td>...</td>\n",
              "      <td>...</td>\n",
              "      <td>...</td>\n",
              "      <td>...</td>\n",
              "      <td>...</td>\n",
              "      <td>...</td>\n",
              "      <td>...</td>\n",
              "      <td>...</td>\n",
              "    </tr>\n",
              "    <tr>\n",
              "      <th>799</th>\n",
              "      <td>16507.070267</td>\n",
              "      <td>16229.0</td>\n",
              "      <td>Saturn</td>\n",
              "      <td>L Series</td>\n",
              "      <td>L300 Sedan 4D</td>\n",
              "      <td>Sedan</td>\n",
              "      <td>6</td>\n",
              "      <td>3.0</td>\n",
              "      <td>4</td>\n",
              "      <td>1</td>\n",
              "      <td>0</td>\n",
              "      <td>0</td>\n",
              "    </tr>\n",
              "    <tr>\n",
              "      <th>800</th>\n",
              "      <td>16175.957604</td>\n",
              "      <td>19095.0</td>\n",
              "      <td>Saturn</td>\n",
              "      <td>L Series</td>\n",
              "      <td>L300 Sedan 4D</td>\n",
              "      <td>Sedan</td>\n",
              "      <td>6</td>\n",
              "      <td>3.0</td>\n",
              "      <td>4</td>\n",
              "      <td>1</td>\n",
              "      <td>1</td>\n",
              "      <td>0</td>\n",
              "    </tr>\n",
              "    <tr>\n",
              "      <th>801</th>\n",
              "      <td>15731.132897</td>\n",
              "      <td>20484.0</td>\n",
              "      <td>Saturn</td>\n",
              "      <td>L Series</td>\n",
              "      <td>L300 Sedan 4D</td>\n",
              "      <td>Sedan</td>\n",
              "      <td>6</td>\n",
              "      <td>3.0</td>\n",
              "      <td>4</td>\n",
              "      <td>1</td>\n",
              "      <td>1</td>\n",
              "      <td>0</td>\n",
              "    </tr>\n",
              "    <tr>\n",
              "      <th>802</th>\n",
              "      <td>15118.893228</td>\n",
              "      <td>25979.0</td>\n",
              "      <td>Saturn</td>\n",
              "      <td>L Series</td>\n",
              "      <td>L300 Sedan 4D</td>\n",
              "      <td>Sedan</td>\n",
              "      <td>6</td>\n",
              "      <td>3.0</td>\n",
              "      <td>4</td>\n",
              "      <td>1</td>\n",
              "      <td>1</td>\n",
              "      <td>0</td>\n",
              "    </tr>\n",
              "    <tr>\n",
              "      <th>803</th>\n",
              "      <td>13585.636802</td>\n",
              "      <td>35662.0</td>\n",
              "      <td>Saturn</td>\n",
              "      <td>L Series</td>\n",
              "      <td>L300 Sedan 4D</td>\n",
              "      <td>Sedan</td>\n",
              "      <td>6</td>\n",
              "      <td>3.0</td>\n",
              "      <td>4</td>\n",
              "      <td>1</td>\n",
              "      <td>0</td>\n",
              "      <td>0</td>\n",
              "    </tr>\n",
              "  </tbody>\n",
              "</table>\n",
              "<p>804 rows × 12 columns</p>\n",
              "</div>\n",
              "      <button class=\"colab-df-convert\" onclick=\"convertToInteractive('df-cea6aed5-c663-4eec-b45b-dd1b5a86d113')\"\n",
              "              title=\"Convert this dataframe to an interactive table.\"\n",
              "              style=\"display:none;\">\n",
              "        \n",
              "  <svg xmlns=\"http://www.w3.org/2000/svg\" height=\"24px\"viewBox=\"0 0 24 24\"\n",
              "       width=\"24px\">\n",
              "    <path d=\"M0 0h24v24H0V0z\" fill=\"none\"/>\n",
              "    <path d=\"M18.56 5.44l.94 2.06.94-2.06 2.06-.94-2.06-.94-.94-2.06-.94 2.06-2.06.94zm-11 1L8.5 8.5l.94-2.06 2.06-.94-2.06-.94L8.5 2.5l-.94 2.06-2.06.94zm10 10l.94 2.06.94-2.06 2.06-.94-2.06-.94-.94-2.06-.94 2.06-2.06.94z\"/><path d=\"M17.41 7.96l-1.37-1.37c-.4-.4-.92-.59-1.43-.59-.52 0-1.04.2-1.43.59L10.3 9.45l-7.72 7.72c-.78.78-.78 2.05 0 2.83L4 21.41c.39.39.9.59 1.41.59.51 0 1.02-.2 1.41-.59l7.78-7.78 2.81-2.81c.8-.78.8-2.07 0-2.86zM5.41 20L4 18.59l7.72-7.72 1.47 1.35L5.41 20z\"/>\n",
              "  </svg>\n",
              "      </button>\n",
              "      \n",
              "  <style>\n",
              "    .colab-df-container {\n",
              "      display:flex;\n",
              "      flex-wrap:wrap;\n",
              "      gap: 12px;\n",
              "    }\n",
              "\n",
              "    .colab-df-convert {\n",
              "      background-color: #E8F0FE;\n",
              "      border: none;\n",
              "      border-radius: 50%;\n",
              "      cursor: pointer;\n",
              "      display: none;\n",
              "      fill: #1967D2;\n",
              "      height: 32px;\n",
              "      padding: 0 0 0 0;\n",
              "      width: 32px;\n",
              "    }\n",
              "\n",
              "    .colab-df-convert:hover {\n",
              "      background-color: #E2EBFA;\n",
              "      box-shadow: 0px 1px 2px rgba(60, 64, 67, 0.3), 0px 1px 3px 1px rgba(60, 64, 67, 0.15);\n",
              "      fill: #174EA6;\n",
              "    }\n",
              "\n",
              "    [theme=dark] .colab-df-convert {\n",
              "      background-color: #3B4455;\n",
              "      fill: #D2E3FC;\n",
              "    }\n",
              "\n",
              "    [theme=dark] .colab-df-convert:hover {\n",
              "      background-color: #434B5C;\n",
              "      box-shadow: 0px 1px 3px 1px rgba(0, 0, 0, 0.15);\n",
              "      filter: drop-shadow(0px 1px 2px rgba(0, 0, 0, 0.3));\n",
              "      fill: #FFFFFF;\n",
              "    }\n",
              "  </style>\n",
              "\n",
              "      <script>\n",
              "        const buttonEl =\n",
              "          document.querySelector('#df-cea6aed5-c663-4eec-b45b-dd1b5a86d113 button.colab-df-convert');\n",
              "        buttonEl.style.display =\n",
              "          google.colab.kernel.accessAllowed ? 'block' : 'none';\n",
              "\n",
              "        async function convertToInteractive(key) {\n",
              "          const element = document.querySelector('#df-cea6aed5-c663-4eec-b45b-dd1b5a86d113');\n",
              "          const dataTable =\n",
              "            await google.colab.kernel.invokeFunction('convertToInteractive',\n",
              "                                                     [key], {});\n",
              "          if (!dataTable) return;\n",
              "\n",
              "          const docLinkHtml = 'Like what you see? Visit the ' +\n",
              "            '<a target=\"_blank\" href=https://colab.research.google.com/notebooks/data_table.ipynb>data table notebook</a>'\n",
              "            + ' to learn more about interactive tables.';\n",
              "          element.innerHTML = '';\n",
              "          dataTable['output_type'] = 'display_data';\n",
              "          await google.colab.output.renderOutput(dataTable, element);\n",
              "          const docLink = document.createElement('div');\n",
              "          docLink.innerHTML = docLinkHtml;\n",
              "          element.appendChild(docLink);\n",
              "        }\n",
              "      </script>\n",
              "    </div>\n",
              "  </div>\n",
              "  "
            ]
          },
          "metadata": {},
          "execution_count": 24
        }
      ]
    },
    {
      "cell_type": "code",
      "source": [
        "df.isnull().sum()"
      ],
      "metadata": {
        "colab": {
          "base_uri": "https://localhost:8080/"
        },
        "id": "YeTQaI3dSO5m",
        "outputId": "787887e3-393c-480e-c136-e23a56efeba1"
      },
      "execution_count": null,
      "outputs": [
        {
          "output_type": "execute_result",
          "data": {
            "text/plain": [
              "Price       0\n",
              "Mileage     0\n",
              "Make        0\n",
              "Model       0\n",
              "Trim        0\n",
              "Type        0\n",
              "Cylinder    0\n",
              "Liter       0\n",
              "Doors       0\n",
              "Cruise      0\n",
              "Sound       0\n",
              "Leather     0\n",
              "dtype: int64"
            ]
          },
          "metadata": {},
          "execution_count": 25
        }
      ]
    },
    {
      "cell_type": "code",
      "source": [
        "df = df.drop_duplicates()"
      ],
      "metadata": {
        "id": "fZpObhdPSO_z"
      },
      "execution_count": null,
      "outputs": []
    },
    {
      "cell_type": "code",
      "source": [
        "df.dtypes"
      ],
      "metadata": {
        "colab": {
          "base_uri": "https://localhost:8080/"
        },
        "id": "k1kCDZMmSPFZ",
        "outputId": "c4779fb0-b225-4a3c-bfef-f325d07f56f5"
      },
      "execution_count": null,
      "outputs": [
        {
          "output_type": "execute_result",
          "data": {
            "text/plain": [
              "Price       float64\n",
              "Mileage     float64\n",
              "Make         object\n",
              "Model        object\n",
              "Trim         object\n",
              "Type         object\n",
              "Cylinder      int64\n",
              "Liter       float64\n",
              "Doors         int64\n",
              "Cruise        int64\n",
              "Sound         int64\n",
              "Leather       int64\n",
              "dtype: object"
            ]
          },
          "metadata": {},
          "execution_count": 27
        }
      ]
    },
    {
      "cell_type": "code",
      "source": [
        "df"
      ],
      "metadata": {
        "colab": {
          "base_uri": "https://localhost:8080/",
          "height": 424
        },
        "id": "hTdail9iUjhd",
        "outputId": "f366879b-6369-4f2e-fe96-fa9ac1cd1c62"
      },
      "execution_count": null,
      "outputs": [
        {
          "output_type": "execute_result",
          "data": {
            "text/plain": [
              "            Price  Mileage    Make     Model           Trim   Type  Cylinder  \\\n",
              "0    17314.103129   8221.0   Buick   Century       Sedan 4D  Sedan         6   \n",
              "1    17542.036083   9135.0   Buick   Century       Sedan 4D  Sedan         6   \n",
              "2    16218.847862  13196.0   Buick   Century       Sedan 4D  Sedan         6   \n",
              "3    16336.913140  16342.0   Buick   Century       Sedan 4D  Sedan         6   \n",
              "4    16339.170324  19832.0   Buick   Century       Sedan 4D  Sedan         6   \n",
              "..            ...      ...     ...       ...            ...    ...       ...   \n",
              "799  16507.070267  16229.0  Saturn  L Series  L300 Sedan 4D  Sedan         6   \n",
              "800  16175.957604  19095.0  Saturn  L Series  L300 Sedan 4D  Sedan         6   \n",
              "801  15731.132897  20484.0  Saturn  L Series  L300 Sedan 4D  Sedan         6   \n",
              "802  15118.893228  25979.0  Saturn  L Series  L300 Sedan 4D  Sedan         6   \n",
              "803  13585.636802  35662.0  Saturn  L Series  L300 Sedan 4D  Sedan         6   \n",
              "\n",
              "     Liter  Doors  Cruise  Sound  Leather  \n",
              "0      3.1      4       1      1        1  \n",
              "1      3.1      4       1      1        0  \n",
              "2      3.1      4       1      1        0  \n",
              "3      3.1      4       1      0        0  \n",
              "4      3.1      4       1      0        1  \n",
              "..     ...    ...     ...    ...      ...  \n",
              "799    3.0      4       1      0        0  \n",
              "800    3.0      4       1      1        0  \n",
              "801    3.0      4       1      1        0  \n",
              "802    3.0      4       1      1        0  \n",
              "803    3.0      4       1      0        0  \n",
              "\n",
              "[804 rows x 12 columns]"
            ],
            "text/html": [
              "\n",
              "  <div id=\"df-12ae0d8b-7349-482d-b5aa-d8ffa2b79ead\">\n",
              "    <div class=\"colab-df-container\">\n",
              "      <div>\n",
              "<style scoped>\n",
              "    .dataframe tbody tr th:only-of-type {\n",
              "        vertical-align: middle;\n",
              "    }\n",
              "\n",
              "    .dataframe tbody tr th {\n",
              "        vertical-align: top;\n",
              "    }\n",
              "\n",
              "    .dataframe thead th {\n",
              "        text-align: right;\n",
              "    }\n",
              "</style>\n",
              "<table border=\"1\" class=\"dataframe\">\n",
              "  <thead>\n",
              "    <tr style=\"text-align: right;\">\n",
              "      <th></th>\n",
              "      <th>Price</th>\n",
              "      <th>Mileage</th>\n",
              "      <th>Make</th>\n",
              "      <th>Model</th>\n",
              "      <th>Trim</th>\n",
              "      <th>Type</th>\n",
              "      <th>Cylinder</th>\n",
              "      <th>Liter</th>\n",
              "      <th>Doors</th>\n",
              "      <th>Cruise</th>\n",
              "      <th>Sound</th>\n",
              "      <th>Leather</th>\n",
              "    </tr>\n",
              "  </thead>\n",
              "  <tbody>\n",
              "    <tr>\n",
              "      <th>0</th>\n",
              "      <td>17314.103129</td>\n",
              "      <td>8221.0</td>\n",
              "      <td>Buick</td>\n",
              "      <td>Century</td>\n",
              "      <td>Sedan 4D</td>\n",
              "      <td>Sedan</td>\n",
              "      <td>6</td>\n",
              "      <td>3.1</td>\n",
              "      <td>4</td>\n",
              "      <td>1</td>\n",
              "      <td>1</td>\n",
              "      <td>1</td>\n",
              "    </tr>\n",
              "    <tr>\n",
              "      <th>1</th>\n",
              "      <td>17542.036083</td>\n",
              "      <td>9135.0</td>\n",
              "      <td>Buick</td>\n",
              "      <td>Century</td>\n",
              "      <td>Sedan 4D</td>\n",
              "      <td>Sedan</td>\n",
              "      <td>6</td>\n",
              "      <td>3.1</td>\n",
              "      <td>4</td>\n",
              "      <td>1</td>\n",
              "      <td>1</td>\n",
              "      <td>0</td>\n",
              "    </tr>\n",
              "    <tr>\n",
              "      <th>2</th>\n",
              "      <td>16218.847862</td>\n",
              "      <td>13196.0</td>\n",
              "      <td>Buick</td>\n",
              "      <td>Century</td>\n",
              "      <td>Sedan 4D</td>\n",
              "      <td>Sedan</td>\n",
              "      <td>6</td>\n",
              "      <td>3.1</td>\n",
              "      <td>4</td>\n",
              "      <td>1</td>\n",
              "      <td>1</td>\n",
              "      <td>0</td>\n",
              "    </tr>\n",
              "    <tr>\n",
              "      <th>3</th>\n",
              "      <td>16336.913140</td>\n",
              "      <td>16342.0</td>\n",
              "      <td>Buick</td>\n",
              "      <td>Century</td>\n",
              "      <td>Sedan 4D</td>\n",
              "      <td>Sedan</td>\n",
              "      <td>6</td>\n",
              "      <td>3.1</td>\n",
              "      <td>4</td>\n",
              "      <td>1</td>\n",
              "      <td>0</td>\n",
              "      <td>0</td>\n",
              "    </tr>\n",
              "    <tr>\n",
              "      <th>4</th>\n",
              "      <td>16339.170324</td>\n",
              "      <td>19832.0</td>\n",
              "      <td>Buick</td>\n",
              "      <td>Century</td>\n",
              "      <td>Sedan 4D</td>\n",
              "      <td>Sedan</td>\n",
              "      <td>6</td>\n",
              "      <td>3.1</td>\n",
              "      <td>4</td>\n",
              "      <td>1</td>\n",
              "      <td>0</td>\n",
              "      <td>1</td>\n",
              "    </tr>\n",
              "    <tr>\n",
              "      <th>...</th>\n",
              "      <td>...</td>\n",
              "      <td>...</td>\n",
              "      <td>...</td>\n",
              "      <td>...</td>\n",
              "      <td>...</td>\n",
              "      <td>...</td>\n",
              "      <td>...</td>\n",
              "      <td>...</td>\n",
              "      <td>...</td>\n",
              "      <td>...</td>\n",
              "      <td>...</td>\n",
              "      <td>...</td>\n",
              "    </tr>\n",
              "    <tr>\n",
              "      <th>799</th>\n",
              "      <td>16507.070267</td>\n",
              "      <td>16229.0</td>\n",
              "      <td>Saturn</td>\n",
              "      <td>L Series</td>\n",
              "      <td>L300 Sedan 4D</td>\n",
              "      <td>Sedan</td>\n",
              "      <td>6</td>\n",
              "      <td>3.0</td>\n",
              "      <td>4</td>\n",
              "      <td>1</td>\n",
              "      <td>0</td>\n",
              "      <td>0</td>\n",
              "    </tr>\n",
              "    <tr>\n",
              "      <th>800</th>\n",
              "      <td>16175.957604</td>\n",
              "      <td>19095.0</td>\n",
              "      <td>Saturn</td>\n",
              "      <td>L Series</td>\n",
              "      <td>L300 Sedan 4D</td>\n",
              "      <td>Sedan</td>\n",
              "      <td>6</td>\n",
              "      <td>3.0</td>\n",
              "      <td>4</td>\n",
              "      <td>1</td>\n",
              "      <td>1</td>\n",
              "      <td>0</td>\n",
              "    </tr>\n",
              "    <tr>\n",
              "      <th>801</th>\n",
              "      <td>15731.132897</td>\n",
              "      <td>20484.0</td>\n",
              "      <td>Saturn</td>\n",
              "      <td>L Series</td>\n",
              "      <td>L300 Sedan 4D</td>\n",
              "      <td>Sedan</td>\n",
              "      <td>6</td>\n",
              "      <td>3.0</td>\n",
              "      <td>4</td>\n",
              "      <td>1</td>\n",
              "      <td>1</td>\n",
              "      <td>0</td>\n",
              "    </tr>\n",
              "    <tr>\n",
              "      <th>802</th>\n",
              "      <td>15118.893228</td>\n",
              "      <td>25979.0</td>\n",
              "      <td>Saturn</td>\n",
              "      <td>L Series</td>\n",
              "      <td>L300 Sedan 4D</td>\n",
              "      <td>Sedan</td>\n",
              "      <td>6</td>\n",
              "      <td>3.0</td>\n",
              "      <td>4</td>\n",
              "      <td>1</td>\n",
              "      <td>1</td>\n",
              "      <td>0</td>\n",
              "    </tr>\n",
              "    <tr>\n",
              "      <th>803</th>\n",
              "      <td>13585.636802</td>\n",
              "      <td>35662.0</td>\n",
              "      <td>Saturn</td>\n",
              "      <td>L Series</td>\n",
              "      <td>L300 Sedan 4D</td>\n",
              "      <td>Sedan</td>\n",
              "      <td>6</td>\n",
              "      <td>3.0</td>\n",
              "      <td>4</td>\n",
              "      <td>1</td>\n",
              "      <td>0</td>\n",
              "      <td>0</td>\n",
              "    </tr>\n",
              "  </tbody>\n",
              "</table>\n",
              "<p>804 rows × 12 columns</p>\n",
              "</div>\n",
              "      <button class=\"colab-df-convert\" onclick=\"convertToInteractive('df-12ae0d8b-7349-482d-b5aa-d8ffa2b79ead')\"\n",
              "              title=\"Convert this dataframe to an interactive table.\"\n",
              "              style=\"display:none;\">\n",
              "        \n",
              "  <svg xmlns=\"http://www.w3.org/2000/svg\" height=\"24px\"viewBox=\"0 0 24 24\"\n",
              "       width=\"24px\">\n",
              "    <path d=\"M0 0h24v24H0V0z\" fill=\"none\"/>\n",
              "    <path d=\"M18.56 5.44l.94 2.06.94-2.06 2.06-.94-2.06-.94-.94-2.06-.94 2.06-2.06.94zm-11 1L8.5 8.5l.94-2.06 2.06-.94-2.06-.94L8.5 2.5l-.94 2.06-2.06.94zm10 10l.94 2.06.94-2.06 2.06-.94-2.06-.94-.94-2.06-.94 2.06-2.06.94z\"/><path d=\"M17.41 7.96l-1.37-1.37c-.4-.4-.92-.59-1.43-.59-.52 0-1.04.2-1.43.59L10.3 9.45l-7.72 7.72c-.78.78-.78 2.05 0 2.83L4 21.41c.39.39.9.59 1.41.59.51 0 1.02-.2 1.41-.59l7.78-7.78 2.81-2.81c.8-.78.8-2.07 0-2.86zM5.41 20L4 18.59l7.72-7.72 1.47 1.35L5.41 20z\"/>\n",
              "  </svg>\n",
              "      </button>\n",
              "      \n",
              "  <style>\n",
              "    .colab-df-container {\n",
              "      display:flex;\n",
              "      flex-wrap:wrap;\n",
              "      gap: 12px;\n",
              "    }\n",
              "\n",
              "    .colab-df-convert {\n",
              "      background-color: #E8F0FE;\n",
              "      border: none;\n",
              "      border-radius: 50%;\n",
              "      cursor: pointer;\n",
              "      display: none;\n",
              "      fill: #1967D2;\n",
              "      height: 32px;\n",
              "      padding: 0 0 0 0;\n",
              "      width: 32px;\n",
              "    }\n",
              "\n",
              "    .colab-df-convert:hover {\n",
              "      background-color: #E2EBFA;\n",
              "      box-shadow: 0px 1px 2px rgba(60, 64, 67, 0.3), 0px 1px 3px 1px rgba(60, 64, 67, 0.15);\n",
              "      fill: #174EA6;\n",
              "    }\n",
              "\n",
              "    [theme=dark] .colab-df-convert {\n",
              "      background-color: #3B4455;\n",
              "      fill: #D2E3FC;\n",
              "    }\n",
              "\n",
              "    [theme=dark] .colab-df-convert:hover {\n",
              "      background-color: #434B5C;\n",
              "      box-shadow: 0px 1px 3px 1px rgba(0, 0, 0, 0.15);\n",
              "      filter: drop-shadow(0px 1px 2px rgba(0, 0, 0, 0.3));\n",
              "      fill: #FFFFFF;\n",
              "    }\n",
              "  </style>\n",
              "\n",
              "      <script>\n",
              "        const buttonEl =\n",
              "          document.querySelector('#df-12ae0d8b-7349-482d-b5aa-d8ffa2b79ead button.colab-df-convert');\n",
              "        buttonEl.style.display =\n",
              "          google.colab.kernel.accessAllowed ? 'block' : 'none';\n",
              "\n",
              "        async function convertToInteractive(key) {\n",
              "          const element = document.querySelector('#df-12ae0d8b-7349-482d-b5aa-d8ffa2b79ead');\n",
              "          const dataTable =\n",
              "            await google.colab.kernel.invokeFunction('convertToInteractive',\n",
              "                                                     [key], {});\n",
              "          if (!dataTable) return;\n",
              "\n",
              "          const docLinkHtml = 'Like what you see? Visit the ' +\n",
              "            '<a target=\"_blank\" href=https://colab.research.google.com/notebooks/data_table.ipynb>data table notebook</a>'\n",
              "            + ' to learn more about interactive tables.';\n",
              "          element.innerHTML = '';\n",
              "          dataTable['output_type'] = 'display_data';\n",
              "          await google.colab.output.renderOutput(dataTable, element);\n",
              "          const docLink = document.createElement('div');\n",
              "          docLink.innerHTML = docLinkHtml;\n",
              "          element.appendChild(docLink);\n",
              "        }\n",
              "      </script>\n",
              "    </div>\n",
              "  </div>\n",
              "  "
            ]
          },
          "metadata": {},
          "execution_count": 356
        }
      ]
    },
    {
      "cell_type": "code",
      "source": [
        "#plotting graph between price vs mileage\n",
        "plt.scatter(df['Mileage'],df['Price'])\n",
        "plt.xlabel('Mileage')\n",
        "plt.ylabel('Price')"
      ],
      "metadata": {
        "colab": {
          "base_uri": "https://localhost:8080/",
          "height": 296
        },
        "id": "EmIlil8IQMlh",
        "outputId": "2945eb02-e3b6-4f99-f440-398ac6751632"
      },
      "execution_count": null,
      "outputs": [
        {
          "output_type": "execute_result",
          "data": {
            "text/plain": [
              "Text(0, 0.5, 'Price')"
            ]
          },
          "metadata": {},
          "execution_count": 28
        },
        {
          "output_type": "display_data",
          "data": {
            "text/plain": [
              "<Figure size 432x288 with 1 Axes>"
            ],
            "image/png": "[encoded data removed]"
          },
          "metadata": {
            "needs_background": "light"
          }
        }
      ]
    },
    {
      "cell_type": "code",
      "source": [
        "df[['Mileage','Price']].corr()      #There is no linear relation between mileage and price"
      ],
      "metadata": {
        "colab": {
          "base_uri": "https://localhost:8080/",
          "height": 112
        },
        "id": "rvZJHU5nPpc8",
        "outputId": "f06973e8-3c8a-473c-8c9d-812599f8f29b"
      },
      "execution_count": null,
      "outputs": [
        {
          "output_type": "execute_result",
          "data": {
            "text/plain": [
              "          Mileage     Price\n",
              "Mileage  1.000000 -0.138997\n",
              "Price   -0.138997  1.000000"
            ],
            "text/html": [
              "\n",
              "  <div id=\"df-8b16481f-dc04-4b70-a0c4-7f085844ad24\">\n",
              "    <div class=\"colab-df-container\">\n",
              "      <div>\n",
              "<style scoped>\n",
              "    .dataframe tbody tr th:only-of-type {\n",
              "        vertical-align: middle;\n",
              "    }\n",
              "\n",
              "    .dataframe tbody tr th {\n",
              "        vertical-align: top;\n",
              "    }\n",
              "\n",
              "    .dataframe thead th {\n",
              "        text-align: right;\n",
              "    }\n",
              "</style>\n",
              "<table border=\"1\" class=\"dataframe\">\n",
              "  <thead>\n",
              "    <tr style=\"text-align: right;\">\n",
              "      <th></th>\n",
              "      <th>Mileage</th>\n",
              "      <th>Price</th>\n",
              "    </tr>\n",
              "  </thead>\n",
              "  <tbody>\n",
              "    <tr>\n",
              "      <th>Mileage</th>\n",
              "      <td>1.000000</td>\n",
              "      <td>-0.138997</td>\n",
              "    </tr>\n",
              "    <tr>\n",
              "      <th>Price</th>\n",
              "      <td>-0.138997</td>\n",
              "      <td>1.000000</td>\n",
              "    </tr>\n",
              "  </tbody>\n",
              "</table>\n",
              "</div>\n",
              "      <button class=\"colab-df-convert\" onclick=\"convertToInteractive('df-8b16481f-dc04-4b70-a0c4-7f085844ad24')\"\n",
              "              title=\"Convert this dataframe to an interactive table.\"\n",
              "              style=\"display:none;\">\n",
              "        \n",
              "  <svg xmlns=\"http://www.w3.org/2000/svg\" height=\"24px\"viewBox=\"0 0 24 24\"\n",
              "       width=\"24px\">\n",
              "    <path d=\"M0 0h24v24H0V0z\" fill=\"none\"/>\n",
              "    <path d=\"M18.56 5.44l.94 2.06.94-2.06 2.06-.94-2.06-.94-.94-2.06-.94 2.06-2.06.94zm-11 1L8.5 8.5l.94-2.06 2.06-.94-2.06-.94L8.5 2.5l-.94 2.06-2.06.94zm10 10l.94 2.06.94-2.06 2.06-.94-2.06-.94-.94-2.06-.94 2.06-2.06.94z\"/><path d=\"M17.41 7.96l-1.37-1.37c-.4-.4-.92-.59-1.43-.59-.52 0-1.04.2-1.43.59L10.3 9.45l-7.72 7.72c-.78.78-.78 2.05 0 2.83L4 21.41c.39.39.9.59 1.41.59.51 0 1.02-.2 1.41-.59l7.78-7.78 2.81-2.81c.8-.78.8-2.07 0-2.86zM5.41 20L4 18.59l7.72-7.72 1.47 1.35L5.41 20z\"/>\n",
              "  </svg>\n",
              "      </button>\n",
              "      \n",
              "  <style>\n",
              "    .colab-df-container {\n",
              "      display:flex;\n",
              "      flex-wrap:wrap;\n",
              "      gap: 12px;\n",
              "    }\n",
              "\n",
              "    .colab-df-convert {\n",
              "      background-color: #E8F0FE;\n",
              "      border: none;\n",
              "      border-radius: 50%;\n",
              "      cursor: pointer;\n",
              "      display: none;\n",
              "      fill: #1967D2;\n",
              "      height: 32px;\n",
              "      padding: 0 0 0 0;\n",
              "      width: 32px;\n",
              "    }\n",
              "\n",
              "    .colab-df-convert:hover {\n",
              "      background-color: #E2EBFA;\n",
              "      box-shadow: 0px 1px 2px rgba(60, 64, 67, 0.3), 0px 1px 3px 1px rgba(60, 64, 67, 0.15);\n",
              "      fill: #174EA6;\n",
              "    }\n",
              "\n",
              "    [theme=dark] .colab-df-convert {\n",
              "      background-color: #3B4455;\n",
              "      fill: #D2E3FC;\n",
              "    }\n",
              "\n",
              "    [theme=dark] .colab-df-convert:hover {\n",
              "      background-color: #434B5C;\n",
              "      box-shadow: 0px 1px 3px 1px rgba(0, 0, 0, 0.15);\n",
              "      filter: drop-shadow(0px 1px 2px rgba(0, 0, 0, 0.3));\n",
              "      fill: #FFFFFF;\n",
              "    }\n",
              "  </style>\n",
              "\n",
              "      <script>\n",
              "        const buttonEl =\n",
              "          document.querySelector('#df-8b16481f-dc04-4b70-a0c4-7f085844ad24 button.colab-df-convert');\n",
              "        buttonEl.style.display =\n",
              "          google.colab.kernel.accessAllowed ? 'block' : 'none';\n",
              "\n",
              "        async function convertToInteractive(key) {\n",
              "          const element = document.querySelector('#df-8b16481f-dc04-4b70-a0c4-7f085844ad24');\n",
              "          const dataTable =\n",
              "            await google.colab.kernel.invokeFunction('convertToInteractive',\n",
              "                                                     [key], {});\n",
              "          if (!dataTable) return;\n",
              "\n",
              "          const docLinkHtml = 'Like what you see? Visit the ' +\n",
              "            '<a target=\"_blank\" href=https://colab.research.google.com/notebooks/data_table.ipynb>data table notebook</a>'\n",
              "            + ' to learn more about interactive tables.';\n",
              "          element.innerHTML = '';\n",
              "          dataTable['output_type'] = 'display_data';\n",
              "          await google.colab.output.renderOutput(dataTable, element);\n",
              "          const docLink = document.createElement('div');\n",
              "          docLink.innerHTML = docLinkHtml;\n",
              "          element.appendChild(docLink);\n",
              "        }\n",
              "      </script>\n",
              "    </div>\n",
              "  </div>\n",
              "  "
            ]
          },
          "metadata": {},
          "execution_count": 29
        }
      ]
    },
    {
      "cell_type": "markdown",
      "source": [
        "#Find the linear regression equation for Mileage vs Price"
      ],
      "metadata": {
        "id": "vrqqFJsTWPW7"
      }
    },
    {
      "cell_type": "code",
      "source": [
        "X = df[['Mileage']].values \n",
        "y = df['Price'].values                 #y=Target variable"
      ],
      "metadata": {
        "id": "1Tqyx1thVr-H"
      },
      "execution_count": null,
      "outputs": []
    },
    {
      "cell_type": "code",
      "source": [
        "from sklearn.model_selection import train_test_split\n",
        "X_train, X_test, y_train, y_test = train_test_split(X, y, test_size=0.2)"
      ],
      "metadata": {
        "id": "F9JjzfieVsFt"
      },
      "execution_count": null,
      "outputs": []
    },
    {
      "cell_type": "code",
      "source": [
        "from sklearn.linear_model import LinearRegression\n"
      ],
      "metadata": {
        "id": "Tj9J2sEWWrZ-"
      },
      "execution_count": null,
      "outputs": []
    },
    {
      "cell_type": "code",
      "source": [
        "lr = LinearRegression()"
      ],
      "metadata": {
        "id": "5VcUpx3L2HFq"
      },
      "execution_count": null,
      "outputs": []
    },
    {
      "cell_type": "code",
      "source": [
        "lr.fit(X_train,y_train)"
      ],
      "metadata": {
        "colab": {
          "base_uri": "https://localhost:8080/"
        },
        "id": "FPKYPFUK2NQU",
        "outputId": "8be7c9a1-bdf4-4db1-edbb-06ac8c9348bd"
      },
      "execution_count": null,
      "outputs": [
        {
          "output_type": "execute_result",
          "data": {
            "text/plain": [
              "LinearRegression()"
            ]
          },
          "metadata": {},
          "execution_count": 34
        }
      ]
    },
    {
      "cell_type": "code",
      "source": [
        "m=lr.coef_\n",
        "m"
      ],
      "metadata": {
        "colab": {
          "base_uri": "https://localhost:8080/"
        },
        "id": "ruhmtgPxWrih",
        "outputId": "0cd601a0-6137-4931-e105-fbd64846befa"
      },
      "execution_count": null,
      "outputs": [
        {
          "output_type": "execute_result",
          "data": {
            "text/plain": [
              "array([-0.13087562])"
            ]
          },
          "metadata": {},
          "execution_count": 35
        }
      ]
    },
    {
      "cell_type": "code",
      "source": [
        "c=lr.intercept_\n",
        "c"
      ],
      "metadata": {
        "colab": {
          "base_uri": "https://localhost:8080/"
        },
        "id": "KAeuY5aNWroX",
        "outputId": "5e82777e-3884-434d-d83f-b14ad1de1ca5"
      },
      "execution_count": null,
      "outputs": [
        {
          "output_type": "execute_result",
          "data": {
            "text/plain": [
              "23735.64976128043"
            ]
          },
          "metadata": {},
          "execution_count": 36
        }
      ]
    },
    {
      "cell_type": "code",
      "source": [
        "#y = mx + c\n",
        "#y = -0.12650426x + 23832.76305091639"
      ],
      "metadata": {
        "id": "LszNdBLNVsKm"
      },
      "execution_count": null,
      "outputs": []
    },
    {
      "cell_type": "markdown",
      "source": [
        "#Chart the original data and the equation on the chart."
      ],
      "metadata": {
        "id": "Gt8DViLEYFUk"
      }
    },
    {
      "cell_type": "code",
      "source": [
        "plt.scatter(df['Mileage'],df['Price'])\n",
        "plt.plot(X_train,lr.predict(X_train),color='red')\n",
        "plt.xlabel('Mileage',fontsize = 25)\n",
        "plt.ylabel('Price',fontsize = 25)"
      ],
      "metadata": {
        "colab": {
          "base_uri": "https://localhost:8080/",
          "height": 310
        },
        "id": "K1GL7o_IVsQq",
        "outputId": "28cf35aa-212a-42ca-eed1-407b196c91dd"
      },
      "execution_count": null,
      "outputs": [
        {
          "output_type": "execute_result",
          "data": {
            "text/plain": [
              "Text(0, 0.5, 'Price')"
            ]
          },
          "metadata": {},
          "execution_count": 37
        },
        {
          "output_type": "display_data",
          "data": {
            "text/plain": [
              "<Figure size 432x288 with 1 Axes>"
            ],
            "image/png": "[encoded data removed]"
          },
          "metadata": {
            "needs_background": "light"
          }
        }
      ]
    },
    {
      "cell_type": "markdown",
      "source": [
        "#Find the equation's  R2  score (use the .score method) to determine whether the equation is a good fit for this data. (0.8 and greater is considered a strong correlation.)"
      ],
      "metadata": {
        "id": "3mw3bFNRaaRU"
      }
    },
    {
      "cell_type": "code",
      "source": [
        "y_pred = lr.predict(X_test)"
      ],
      "metadata": {
        "id": "Om8-QNPBZOqU"
      },
      "execution_count": null,
      "outputs": []
    },
    {
      "cell_type": "code",
      "source": [
        "df = pd.DataFrame({'Actual': y_test, 'Predicted': y_pred})\n",
        "df.head()"
      ],
      "metadata": {
        "colab": {
          "base_uri": "https://localhost:8080/",
          "height": 206
        },
        "id": "DKUsjQt5ZOyg",
        "outputId": "46045868-f66d-40f3-e5b8-ac52c1f1cd4c"
      },
      "execution_count": null,
      "outputs": [
        {
          "output_type": "execute_result",
          "data": {
            "text/plain": [
              "         Actual     Predicted\n",
              "0  12379.126473  19652.461374\n",
              "1  16792.679529  22155.850184\n",
              "2  14401.906929  20918.290346\n",
              "3  13719.238308  20641.095788\n",
              "4  21575.456827  21100.207454"
            ],
            "text/html": [
              "\n",
              "  <div id=\"df-b4ca305e-6899-42f8-86ef-1cf5956d078a\">\n",
              "    <div class=\"colab-df-container\">\n",
              "      <div>\n",
              "<style scoped>\n",
              "    .dataframe tbody tr th:only-of-type {\n",
              "        vertical-align: middle;\n",
              "    }\n",
              "\n",
              "    .dataframe tbody tr th {\n",
              "        vertical-align: top;\n",
              "    }\n",
              "\n",
              "    .dataframe thead th {\n",
              "        text-align: right;\n",
              "    }\n",
              "</style>\n",
              "<table border=\"1\" class=\"dataframe\">\n",
              "  <thead>\n",
              "    <tr style=\"text-align: right;\">\n",
              "      <th></th>\n",
              "      <th>Actual</th>\n",
              "      <th>Predicted</th>\n",
              "    </tr>\n",
              "  </thead>\n",
              "  <tbody>\n",
              "    <tr>\n",
              "      <th>0</th>\n",
              "      <td>12379.126473</td>\n",
              "      <td>19652.461374</td>\n",
              "    </tr>\n",
              "    <tr>\n",
              "      <th>1</th>\n",
              "      <td>16792.679529</td>\n",
              "      <td>22155.850184</td>\n",
              "    </tr>\n",
              "    <tr>\n",
              "      <th>2</th>\n",
              "      <td>14401.906929</td>\n",
              "      <td>20918.290346</td>\n",
              "    </tr>\n",
              "    <tr>\n",
              "      <th>3</th>\n",
              "      <td>13719.238308</td>\n",
              "      <td>20641.095788</td>\n",
              "    </tr>\n",
              "    <tr>\n",
              "      <th>4</th>\n",
              "      <td>21575.456827</td>\n",
              "      <td>21100.207454</td>\n",
              "    </tr>\n",
              "  </tbody>\n",
              "</table>\n",
              "</div>\n",
              "      <button class=\"colab-df-convert\" onclick=\"convertToInteractive('df-b4ca305e-6899-42f8-86ef-1cf5956d078a')\"\n",
              "              title=\"Convert this dataframe to an interactive table.\"\n",
              "              style=\"display:none;\">\n",
              "        \n",
              "  <svg xmlns=\"http://www.w3.org/2000/svg\" height=\"24px\"viewBox=\"0 0 24 24\"\n",
              "       width=\"24px\">\n",
              "    <path d=\"M0 0h24v24H0V0z\" fill=\"none\"/>\n",
              "    <path d=\"M18.56 5.44l.94 2.06.94-2.06 2.06-.94-2.06-.94-.94-2.06-.94 2.06-2.06.94zm-11 1L8.5 8.5l.94-2.06 2.06-.94-2.06-.94L8.5 2.5l-.94 2.06-2.06.94zm10 10l.94 2.06.94-2.06 2.06-.94-2.06-.94-.94-2.06-.94 2.06-2.06.94z\"/><path d=\"M17.41 7.96l-1.37-1.37c-.4-.4-.92-.59-1.43-.59-.52 0-1.04.2-1.43.59L10.3 9.45l-7.72 7.72c-.78.78-.78 2.05 0 2.83L4 21.41c.39.39.9.59 1.41.59.51 0 1.02-.2 1.41-.59l7.78-7.78 2.81-2.81c.8-.78.8-2.07 0-2.86zM5.41 20L4 18.59l7.72-7.72 1.47 1.35L5.41 20z\"/>\n",
              "  </svg>\n",
              "      </button>\n",
              "      \n",
              "  <style>\n",
              "    .colab-df-container {\n",
              "      display:flex;\n",
              "      flex-wrap:wrap;\n",
              "      gap: 12px;\n",
              "    }\n",
              "\n",
              "    .colab-df-convert {\n",
              "      background-color: #E8F0FE;\n",
              "      border: none;\n",
              "      border-radius: 50%;\n",
              "      cursor: pointer;\n",
              "      display: none;\n",
              "      fill: #1967D2;\n",
              "      height: 32px;\n",
              "      padding: 0 0 0 0;\n",
              "      width: 32px;\n",
              "    }\n",
              "\n",
              "    .colab-df-convert:hover {\n",
              "      background-color: #E2EBFA;\n",
              "      box-shadow: 0px 1px 2px rgba(60, 64, 67, 0.3), 0px 1px 3px 1px rgba(60, 64, 67, 0.15);\n",
              "      fill: #174EA6;\n",
              "    }\n",
              "\n",
              "    [theme=dark] .colab-df-convert {\n",
              "      background-color: #3B4455;\n",
              "      fill: #D2E3FC;\n",
              "    }\n",
              "\n",
              "    [theme=dark] .colab-df-convert:hover {\n",
              "      background-color: #434B5C;\n",
              "      box-shadow: 0px 1px 3px 1px rgba(0, 0, 0, 0.15);\n",
              "      filter: drop-shadow(0px 1px 2px rgba(0, 0, 0, 0.3));\n",
              "      fill: #FFFFFF;\n",
              "    }\n",
              "  </style>\n",
              "\n",
              "      <script>\n",
              "        const buttonEl =\n",
              "          document.querySelector('#df-b4ca305e-6899-42f8-86ef-1cf5956d078a button.colab-df-convert');\n",
              "        buttonEl.style.display =\n",
              "          google.colab.kernel.accessAllowed ? 'block' : 'none';\n",
              "\n",
              "        async function convertToInteractive(key) {\n",
              "          const element = document.querySelector('#df-b4ca305e-6899-42f8-86ef-1cf5956d078a');\n",
              "          const dataTable =\n",
              "            await google.colab.kernel.invokeFunction('convertToInteractive',\n",
              "                                                     [key], {});\n",
              "          if (!dataTable) return;\n",
              "\n",
              "          const docLinkHtml = 'Like what you see? Visit the ' +\n",
              "            '<a target=\"_blank\" href=https://colab.research.google.com/notebooks/data_table.ipynb>data table notebook</a>'\n",
              "            + ' to learn more about interactive tables.';\n",
              "          element.innerHTML = '';\n",
              "          dataTable['output_type'] = 'display_data';\n",
              "          await google.colab.output.renderOutput(dataTable, element);\n",
              "          const docLink = document.createElement('div');\n",
              "          docLink.innerHTML = docLinkHtml;\n",
              "          element.appendChild(docLink);\n",
              "        }\n",
              "      </script>\n",
              "    </div>\n",
              "  </div>\n",
              "  "
            ]
          },
          "metadata": {},
          "execution_count": 39
        }
      ]
    },
    {
      "cell_type": "code",
      "source": [
        "from sklearn import metrics \n",
        "print('R2- SCORE:', metrics.r2_score(y_test,y_pred))"
      ],
      "metadata": {
        "colab": {
          "base_uri": "https://localhost:8080/"
        },
        "id": "yU37kZNDZO3F",
        "outputId": "56731b53-5994-4a04-e6cb-0bc03ff8b6fb"
      },
      "execution_count": null,
      "outputs": [
        {
          "output_type": "stream",
          "name": "stdout",
          "text": [
            "R2- SCORE: 0.041229122832259435\n"
          ]
        }
      ]
    },
    {
      "cell_type": "markdown",
      "source": [
        "#Tasks,part-2"
      ],
      "metadata": {
        "id": "_hKO9Q_objT5"
      }
    },
    {
      "cell_type": "code",
      "source": [
        "df = pd.read_csv(\"car_data.csv\")\n",
        "df"
      ],
      "metadata": {
        "colab": {
          "base_uri": "https://localhost:8080/",
          "height": 424
        },
        "id": "pNrFScZo6024",
        "outputId": "48dd813f-d565-40bf-a201-282bf797fd0c"
      },
      "execution_count": null,
      "outputs": [
        {
          "output_type": "execute_result",
          "data": {
            "text/plain": [
              "            Price  Mileage    Make     Model           Trim   Type  Cylinder  \\\n",
              "0    17314.103129     8221   Buick   Century       Sedan 4D  Sedan         6   \n",
              "1    17542.036083     9135   Buick   Century       Sedan 4D  Sedan         6   \n",
              "2    16218.847862    13196   Buick   Century       Sedan 4D  Sedan         6   \n",
              "3    16336.913140    16342   Buick   Century       Sedan 4D  Sedan         6   \n",
              "4    16339.170324    19832   Buick   Century       Sedan 4D  Sedan         6   \n",
              "..            ...      ...     ...       ...            ...    ...       ...   \n",
              "799  16507.070267    16229  Saturn  L Series  L300 Sedan 4D  Sedan         6   \n",
              "800  16175.957604    19095  Saturn  L Series  L300 Sedan 4D  Sedan         6   \n",
              "801  15731.132897    20484  Saturn  L Series  L300 Sedan 4D  Sedan         6   \n",
              "802  15118.893228    25979  Saturn  L Series  L300 Sedan 4D  Sedan         6   \n",
              "803  13585.636802    35662  Saturn  L Series  L300 Sedan 4D  Sedan         6   \n",
              "\n",
              "     Liter  Doors  Cruise  Sound  Leather  \n",
              "0      3.1      4       1      1        1  \n",
              "1      3.1      4       1      1        0  \n",
              "2      3.1      4       1      1        0  \n",
              "3      3.1      4       1      0        0  \n",
              "4      3.1      4       1      0        1  \n",
              "..     ...    ...     ...    ...      ...  \n",
              "799    3.0      4       1      0        0  \n",
              "800    3.0      4       1      1        0  \n",
              "801    3.0      4       1      1        0  \n",
              "802    3.0      4       1      1        0  \n",
              "803    3.0      4       1      0        0  \n",
              "\n",
              "[804 rows x 12 columns]"
            ],
            "text/html": [
              "\n",
              "  <div id=\"df-af3dd9f6-12ce-446e-b37e-2cbe5922f68f\">\n",
              "    <div class=\"colab-df-container\">\n",
              "      <div>\n",
              "<style scoped>\n",
              "    .dataframe tbody tr th:only-of-type {\n",
              "        vertical-align: middle;\n",
              "    }\n",
              "\n",
              "    .dataframe tbody tr th {\n",
              "        vertical-align: top;\n",
              "    }\n",
              "\n",
              "    .dataframe thead th {\n",
              "        text-align: right;\n",
              "    }\n",
              "</style>\n",
              "<table border=\"1\" class=\"dataframe\">\n",
              "  <thead>\n",
              "    <tr style=\"text-align: right;\">\n",
              "      <th></th>\n",
              "      <th>Price</th>\n",
              "      <th>Mileage</th>\n",
              "      <th>Make</th>\n",
              "      <th>Model</th>\n",
              "      <th>Trim</th>\n",
              "      <th>Type</th>\n",
              "      <th>Cylinder</th>\n",
              "      <th>Liter</th>\n",
              "      <th>Doors</th>\n",
              "      <th>Cruise</th>\n",
              "      <th>Sound</th>\n",
              "      <th>Leather</th>\n",
              "    </tr>\n",
              "  </thead>\n",
              "  <tbody>\n",
              "    <tr>\n",
              "      <th>0</th>\n",
              "      <td>17314.103129</td>\n",
              "      <td>8221</td>\n",
              "      <td>Buick</td>\n",
              "      <td>Century</td>\n",
              "      <td>Sedan 4D</td>\n",
              "      <td>Sedan</td>\n",
              "      <td>6</td>\n",
              "      <td>3.1</td>\n",
              "      <td>4</td>\n",
              "      <td>1</td>\n",
              "      <td>1</td>\n",
              "      <td>1</td>\n",
              "    </tr>\n",
              "    <tr>\n",
              "      <th>1</th>\n",
              "      <td>17542.036083</td>\n",
              "      <td>9135</td>\n",
              "      <td>Buick</td>\n",
              "      <td>Century</td>\n",
              "      <td>Sedan 4D</td>\n",
              "      <td>Sedan</td>\n",
              "      <td>6</td>\n",
              "      <td>3.1</td>\n",
              "      <td>4</td>\n",
              "      <td>1</td>\n",
              "      <td>1</td>\n",
              "      <td>0</td>\n",
              "    </tr>\n",
              "    <tr>\n",
              "      <th>2</th>\n",
              "      <td>16218.847862</td>\n",
              "      <td>13196</td>\n",
              "      <td>Buick</td>\n",
              "      <td>Century</td>\n",
              "      <td>Sedan 4D</td>\n",
              "      <td>Sedan</td>\n",
              "      <td>6</td>\n",
              "      <td>3.1</td>\n",
              "      <td>4</td>\n",
              "      <td>1</td>\n",
              "      <td>1</td>\n",
              "      <td>0</td>\n",
              "    </tr>\n",
              "    <tr>\n",
              "      <th>3</th>\n",
              "      <td>16336.913140</td>\n",
              "      <td>16342</td>\n",
              "      <td>Buick</td>\n",
              "      <td>Century</td>\n",
              "      <td>Sedan 4D</td>\n",
              "      <td>Sedan</td>\n",
              "      <td>6</td>\n",
              "      <td>3.1</td>\n",
              "      <td>4</td>\n",
              "      <td>1</td>\n",
              "      <td>0</td>\n",
              "      <td>0</td>\n",
              "    </tr>\n",
              "    <tr>\n",
              "      <th>4</th>\n",
              "      <td>16339.170324</td>\n",
              "      <td>19832</td>\n",
              "      <td>Buick</td>\n",
              "      <td>Century</td>\n",
              "      <td>Sedan 4D</td>\n",
              "      <td>Sedan</td>\n",
              "      <td>6</td>\n",
              "      <td>3.1</td>\n",
              "      <td>4</td>\n",
              "      <td>1</td>\n",
              "      <td>0</td>\n",
              "      <td>1</td>\n",
              "    </tr>\n",
              "    <tr>\n",
              "      <th>...</th>\n",
              "      <td>...</td>\n",
              "      <td>...</td>\n",
              "      <td>...</td>\n",
              "      <td>...</td>\n",
              "      <td>...</td>\n",
              "      <td>...</td>\n",
              "      <td>...</td>\n",
              "      <td>...</td>\n",
              "      <td>...</td>\n",
              "      <td>...</td>\n",
              "      <td>...</td>\n",
              "      <td>...</td>\n",
              "    </tr>\n",
              "    <tr>\n",
              "      <th>799</th>\n",
              "      <td>16507.070267</td>\n",
              "      <td>16229</td>\n",
              "      <td>Saturn</td>\n",
              "      <td>L Series</td>\n",
              "      <td>L300 Sedan 4D</td>\n",
              "      <td>Sedan</td>\n",
              "      <td>6</td>\n",
              "      <td>3.0</td>\n",
              "      <td>4</td>\n",
              "      <td>1</td>\n",
              "      <td>0</td>\n",
              "      <td>0</td>\n",
              "    </tr>\n",
              "    <tr>\n",
              "      <th>800</th>\n",
              "      <td>16175.957604</td>\n",
              "      <td>19095</td>\n",
              "      <td>Saturn</td>\n",
              "      <td>L Series</td>\n",
              "      <td>L300 Sedan 4D</td>\n",
              "      <td>Sedan</td>\n",
              "      <td>6</td>\n",
              "      <td>3.0</td>\n",
              "      <td>4</td>\n",
              "      <td>1</td>\n",
              "      <td>1</td>\n",
              "      <td>0</td>\n",
              "    </tr>\n",
              "    <tr>\n",
              "      <th>801</th>\n",
              "      <td>15731.132897</td>\n",
              "      <td>20484</td>\n",
              "      <td>Saturn</td>\n",
              "      <td>L Series</td>\n",
              "      <td>L300 Sedan 4D</td>\n",
              "      <td>Sedan</td>\n",
              "      <td>6</td>\n",
              "      <td>3.0</td>\n",
              "      <td>4</td>\n",
              "      <td>1</td>\n",
              "      <td>1</td>\n",
              "      <td>0</td>\n",
              "    </tr>\n",
              "    <tr>\n",
              "      <th>802</th>\n",
              "      <td>15118.893228</td>\n",
              "      <td>25979</td>\n",
              "      <td>Saturn</td>\n",
              "      <td>L Series</td>\n",
              "      <td>L300 Sedan 4D</td>\n",
              "      <td>Sedan</td>\n",
              "      <td>6</td>\n",
              "      <td>3.0</td>\n",
              "      <td>4</td>\n",
              "      <td>1</td>\n",
              "      <td>1</td>\n",
              "      <td>0</td>\n",
              "    </tr>\n",
              "    <tr>\n",
              "      <th>803</th>\n",
              "      <td>13585.636802</td>\n",
              "      <td>35662</td>\n",
              "      <td>Saturn</td>\n",
              "      <td>L Series</td>\n",
              "      <td>L300 Sedan 4D</td>\n",
              "      <td>Sedan</td>\n",
              "      <td>6</td>\n",
              "      <td>3.0</td>\n",
              "      <td>4</td>\n",
              "      <td>1</td>\n",
              "      <td>0</td>\n",
              "      <td>0</td>\n",
              "    </tr>\n",
              "  </tbody>\n",
              "</table>\n",
              "<p>804 rows × 12 columns</p>\n",
              "</div>\n",
              "      <button class=\"colab-df-convert\" onclick=\"convertToInteractive('df-af3dd9f6-12ce-446e-b37e-2cbe5922f68f')\"\n",
              "              title=\"Convert this dataframe to an interactive table.\"\n",
              "              style=\"display:none;\">\n",
              "        \n",
              "  <svg xmlns=\"http://www.w3.org/2000/svg\" height=\"24px\"viewBox=\"0 0 24 24\"\n",
              "       width=\"24px\">\n",
              "    <path d=\"M0 0h24v24H0V0z\" fill=\"none\"/>\n",
              "    <path d=\"M18.56 5.44l.94 2.06.94-2.06 2.06-.94-2.06-.94-.94-2.06-.94 2.06-2.06.94zm-11 1L8.5 8.5l.94-2.06 2.06-.94-2.06-.94L8.5 2.5l-.94 2.06-2.06.94zm10 10l.94 2.06.94-2.06 2.06-.94-2.06-.94-.94-2.06-.94 2.06-2.06.94z\"/><path d=\"M17.41 7.96l-1.37-1.37c-.4-.4-.92-.59-1.43-.59-.52 0-1.04.2-1.43.59L10.3 9.45l-7.72 7.72c-.78.78-.78 2.05 0 2.83L4 21.41c.39.39.9.59 1.41.59.51 0 1.02-.2 1.41-.59l7.78-7.78 2.81-2.81c.8-.78.8-2.07 0-2.86zM5.41 20L4 18.59l7.72-7.72 1.47 1.35L5.41 20z\"/>\n",
              "  </svg>\n",
              "      </button>\n",
              "      \n",
              "  <style>\n",
              "    .colab-df-container {\n",
              "      display:flex;\n",
              "      flex-wrap:wrap;\n",
              "      gap: 12px;\n",
              "    }\n",
              "\n",
              "    .colab-df-convert {\n",
              "      background-color: #E8F0FE;\n",
              "      border: none;\n",
              "      border-radius: 50%;\n",
              "      cursor: pointer;\n",
              "      display: none;\n",
              "      fill: #1967D2;\n",
              "      height: 32px;\n",
              "      padding: 0 0 0 0;\n",
              "      width: 32px;\n",
              "    }\n",
              "\n",
              "    .colab-df-convert:hover {\n",
              "      background-color: #E2EBFA;\n",
              "      box-shadow: 0px 1px 2px rgba(60, 64, 67, 0.3), 0px 1px 3px 1px rgba(60, 64, 67, 0.15);\n",
              "      fill: #174EA6;\n",
              "    }\n",
              "\n",
              "    [theme=dark] .colab-df-convert {\n",
              "      background-color: #3B4455;\n",
              "      fill: #D2E3FC;\n",
              "    }\n",
              "\n",
              "    [theme=dark] .colab-df-convert:hover {\n",
              "      background-color: #434B5C;\n",
              "      box-shadow: 0px 1px 3px 1px rgba(0, 0, 0, 0.15);\n",
              "      filter: drop-shadow(0px 1px 2px rgba(0, 0, 0, 0.3));\n",
              "      fill: #FFFFFF;\n",
              "    }\n",
              "  </style>\n",
              "\n",
              "      <script>\n",
              "        const buttonEl =\n",
              "          document.querySelector('#df-af3dd9f6-12ce-446e-b37e-2cbe5922f68f button.colab-df-convert');\n",
              "        buttonEl.style.display =\n",
              "          google.colab.kernel.accessAllowed ? 'block' : 'none';\n",
              "\n",
              "        async function convertToInteractive(key) {\n",
              "          const element = document.querySelector('#df-af3dd9f6-12ce-446e-b37e-2cbe5922f68f');\n",
              "          const dataTable =\n",
              "            await google.colab.kernel.invokeFunction('convertToInteractive',\n",
              "                                                     [key], {});\n",
              "          if (!dataTable) return;\n",
              "\n",
              "          const docLinkHtml = 'Like what you see? Visit the ' +\n",
              "            '<a target=\"_blank\" href=https://colab.research.google.com/notebooks/data_table.ipynb>data table notebook</a>'\n",
              "            + ' to learn more about interactive tables.';\n",
              "          element.innerHTML = '';\n",
              "          dataTable['output_type'] = 'display_data';\n",
              "          await google.colab.output.renderOutput(dataTable, element);\n",
              "          const docLink = document.createElement('div');\n",
              "          docLink.innerHTML = docLinkHtml;\n",
              "          element.appendChild(docLink);\n",
              "        }\n",
              "      </script>\n",
              "    </div>\n",
              "  </div>\n",
              "  "
            ]
          },
          "metadata": {},
          "execution_count": 41
        }
      ]
    },
    {
      "cell_type": "markdown",
      "source": [
        "#Use mileage, cylinders, liters, doors, cruise, sound, and leather to find the linear regression equation."
      ],
      "metadata": {
        "id": "95Dyef8si5LI"
      }
    },
    {
      "cell_type": "code",
      "source": [
        "df.sample(12)     #randomly select 12 rows"
      ],
      "metadata": {
        "id": "3NYaU37lZO7i",
        "colab": {
          "base_uri": "https://localhost:8080/",
          "height": 426
        },
        "outputId": "d55064e3-c829-4fff-9bfa-cf884e90f6ee"
      },
      "execution_count": null,
      "outputs": [
        {
          "output_type": "execute_result",
          "data": {
            "text/plain": [
              "            Price  Mileage       Make        Model           Trim  \\\n",
              "720  30800.658389     8017       SAAB       9_5 HO  Aero Sedan 4D   \n",
              "547  13961.111642    19602    Pontiac     Grand Am    SE Sedan 4D   \n",
              "557  16283.958991    26511    Pontiac   Grand Prix    GT Sedan 4D   \n",
              "345  39547.587900    23826  Chevrolet     Corvette        Conv 2D   \n",
              "60   25589.983155     2308      Buick  Park Avenue       Sedan 4D   \n",
              "669  23733.402249    27600       SAAB       9_3 HO  Aero Sedan 4D   \n",
              "660  26841.080835    10003       SAAB       9_3 HO  Aero Sedan 4D   \n",
              "113  41419.037262    14452   Cadillac      Deville   DTS Sedan 4D   \n",
              "68   21698.014746    25489      Buick  Park Avenue       Sedan 4D   \n",
              "147  41053.482168    25717   Cadillac       STS-V8       Sedan 4D   \n",
              "709  26955.041202    31773       SAAB          9_5   Arc Wagon 4D   \n",
              "216   8638.930895    25216  Chevrolet         AVEO   SVM Sedan 4D   \n",
              "\n",
              "            Type  Cylinder  Liter  Doors  Cruise  Sound  Leather  \n",
              "720        Sedan         4    2.3      4       1      0        1  \n",
              "547        Sedan         4    2.2      4       0      1        1  \n",
              "557        Sedan         6    3.8      4       1      0        1  \n",
              "345  Convertible         8    6.0      2       1      1        1  \n",
              "60         Sedan         6    3.8      4       1      1        0  \n",
              "669        Sedan         4    2.0      4       1      1        0  \n",
              "660        Sedan         4    2.0      4       1      1        0  \n",
              "113        Sedan         8    4.6      4       1      0        1  \n",
              "68         Sedan         6    3.8      4       1      1        1  \n",
              "147        Sedan         8    4.6      4       1      1        1  \n",
              "709        Wagon         4    2.3      4       1      0        1  \n",
              "216        Sedan         4    1.6      4       0      0        0  "
            ],
            "text/html": [
              "\n",
              "  <div id=\"df-eedfcbc0-4846-4ddb-aad5-8a3dc042e42e\">\n",
              "    <div class=\"colab-df-container\">\n",
              "      <div>\n",
              "<style scoped>\n",
              "    .dataframe tbody tr th:only-of-type {\n",
              "        vertical-align: middle;\n",
              "    }\n",
              "\n",
              "    .dataframe tbody tr th {\n",
              "        vertical-align: top;\n",
              "    }\n",
              "\n",
              "    .dataframe thead th {\n",
              "        text-align: right;\n",
              "    }\n",
              "</style>\n",
              "<table border=\"1\" class=\"dataframe\">\n",
              "  <thead>\n",
              "    <tr style=\"text-align: right;\">\n",
              "      <th></th>\n",
              "      <th>Price</th>\n",
              "      <th>Mileage</th>\n",
              "      <th>Make</th>\n",
              "      <th>Model</th>\n",
              "      <th>Trim</th>\n",
              "      <th>Type</th>\n",
              "      <th>Cylinder</th>\n",
              "      <th>Liter</th>\n",
              "      <th>Doors</th>\n",
              "      <th>Cruise</th>\n",
              "      <th>Sound</th>\n",
              "      <th>Leather</th>\n",
              "    </tr>\n",
              "  </thead>\n",
              "  <tbody>\n",
              "    <tr>\n",
              "      <th>720</th>\n",
              "      <td>30800.658389</td>\n",
              "      <td>8017</td>\n",
              "      <td>SAAB</td>\n",
              "      <td>9_5 HO</td>\n",
              "      <td>Aero Sedan 4D</td>\n",
              "      <td>Sedan</td>\n",
              "      <td>4</td>\n",
              "      <td>2.3</td>\n",
              "      <td>4</td>\n",
              "      <td>1</td>\n",
              "      <td>0</td>\n",
              "      <td>1</td>\n",
              "    </tr>\n",
              "    <tr>\n",
              "      <th>547</th>\n",
              "      <td>13961.111642</td>\n",
              "      <td>19602</td>\n",
              "      <td>Pontiac</td>\n",
              "      <td>Grand Am</td>\n",
              "      <td>SE Sedan 4D</td>\n",
              "      <td>Sedan</td>\n",
              "      <td>4</td>\n",
              "      <td>2.2</td>\n",
              "      <td>4</td>\n",
              "      <td>0</td>\n",
              "      <td>1</td>\n",
              "      <td>1</td>\n",
              "    </tr>\n",
              "    <tr>\n",
              "      <th>557</th>\n",
              "      <td>16283.958991</td>\n",
              "      <td>26511</td>\n",
              "      <td>Pontiac</td>\n",
              "      <td>Grand Prix</td>\n",
              "      <td>GT Sedan 4D</td>\n",
              "      <td>Sedan</td>\n",
              "      <td>6</td>\n",
              "      <td>3.8</td>\n",
              "      <td>4</td>\n",
              "      <td>1</td>\n",
              "      <td>0</td>\n",
              "      <td>1</td>\n",
              "    </tr>\n",
              "    <tr>\n",
              "      <th>345</th>\n",
              "      <td>39547.587900</td>\n",
              "      <td>23826</td>\n",
              "      <td>Chevrolet</td>\n",
              "      <td>Corvette</td>\n",
              "      <td>Conv 2D</td>\n",
              "      <td>Convertible</td>\n",
              "      <td>8</td>\n",
              "      <td>6.0</td>\n",
              "      <td>2</td>\n",
              "      <td>1</td>\n",
              "      <td>1</td>\n",
              "      <td>1</td>\n",
              "    </tr>\n",
              "    <tr>\n",
              "      <th>60</th>\n",
              "      <td>25589.983155</td>\n",
              "      <td>2308</td>\n",
              "      <td>Buick</td>\n",
              "      <td>Park Avenue</td>\n",
              "      <td>Sedan 4D</td>\n",
              "      <td>Sedan</td>\n",
              "      <td>6</td>\n",
              "      <td>3.8</td>\n",
              "      <td>4</td>\n",
              "      <td>1</td>\n",
              "      <td>1</td>\n",
              "      <td>0</td>\n",
              "    </tr>\n",
              "    <tr>\n",
              "      <th>669</th>\n",
              "      <td>23733.402249</td>\n",
              "      <td>27600</td>\n",
              "      <td>SAAB</td>\n",
              "      <td>9_3 HO</td>\n",
              "      <td>Aero Sedan 4D</td>\n",
              "      <td>Sedan</td>\n",
              "      <td>4</td>\n",
              "      <td>2.0</td>\n",
              "      <td>4</td>\n",
              "      <td>1</td>\n",
              "      <td>1</td>\n",
              "      <td>0</td>\n",
              "    </tr>\n",
              "    <tr>\n",
              "      <th>660</th>\n",
              "      <td>26841.080835</td>\n",
              "      <td>10003</td>\n",
              "      <td>SAAB</td>\n",
              "      <td>9_3 HO</td>\n",
              "      <td>Aero Sedan 4D</td>\n",
              "      <td>Sedan</td>\n",
              "      <td>4</td>\n",
              "      <td>2.0</td>\n",
              "      <td>4</td>\n",
              "      <td>1</td>\n",
              "      <td>1</td>\n",
              "      <td>0</td>\n",
              "    </tr>\n",
              "    <tr>\n",
              "      <th>113</th>\n",
              "      <td>41419.037262</td>\n",
              "      <td>14452</td>\n",
              "      <td>Cadillac</td>\n",
              "      <td>Deville</td>\n",
              "      <td>DTS Sedan 4D</td>\n",
              "      <td>Sedan</td>\n",
              "      <td>8</td>\n",
              "      <td>4.6</td>\n",
              "      <td>4</td>\n",
              "      <td>1</td>\n",
              "      <td>0</td>\n",
              "      <td>1</td>\n",
              "    </tr>\n",
              "    <tr>\n",
              "      <th>68</th>\n",
              "      <td>21698.014746</td>\n",
              "      <td>25489</td>\n",
              "      <td>Buick</td>\n",
              "      <td>Park Avenue</td>\n",
              "      <td>Sedan 4D</td>\n",
              "      <td>Sedan</td>\n",
              "      <td>6</td>\n",
              "      <td>3.8</td>\n",
              "      <td>4</td>\n",
              "      <td>1</td>\n",
              "      <td>1</td>\n",
              "      <td>1</td>\n",
              "    </tr>\n",
              "    <tr>\n",
              "      <th>147</th>\n",
              "      <td>41053.482168</td>\n",
              "      <td>25717</td>\n",
              "      <td>Cadillac</td>\n",
              "      <td>STS-V8</td>\n",
              "      <td>Sedan 4D</td>\n",
              "      <td>Sedan</td>\n",
              "      <td>8</td>\n",
              "      <td>4.6</td>\n",
              "      <td>4</td>\n",
              "      <td>1</td>\n",
              "      <td>1</td>\n",
              "      <td>1</td>\n",
              "    </tr>\n",
              "    <tr>\n",
              "      <th>709</th>\n",
              "      <td>26955.041202</td>\n",
              "      <td>31773</td>\n",
              "      <td>SAAB</td>\n",
              "      <td>9_5</td>\n",
              "      <td>Arc Wagon 4D</td>\n",
              "      <td>Wagon</td>\n",
              "      <td>4</td>\n",
              "      <td>2.3</td>\n",
              "      <td>4</td>\n",
              "      <td>1</td>\n",
              "      <td>0</td>\n",
              "      <td>1</td>\n",
              "    </tr>\n",
              "    <tr>\n",
              "      <th>216</th>\n",
              "      <td>8638.930895</td>\n",
              "      <td>25216</td>\n",
              "      <td>Chevrolet</td>\n",
              "      <td>AVEO</td>\n",
              "      <td>SVM Sedan 4D</td>\n",
              "      <td>Sedan</td>\n",
              "      <td>4</td>\n",
              "      <td>1.6</td>\n",
              "      <td>4</td>\n",
              "      <td>0</td>\n",
              "      <td>0</td>\n",
              "      <td>0</td>\n",
              "    </tr>\n",
              "  </tbody>\n",
              "</table>\n",
              "</div>\n",
              "      <button class=\"colab-df-convert\" onclick=\"convertToInteractive('df-eedfcbc0-4846-4ddb-aad5-8a3dc042e42e')\"\n",
              "              title=\"Convert this dataframe to an interactive table.\"\n",
              "              style=\"display:none;\">\n",
              "        \n",
              "  <svg xmlns=\"http://www.w3.org/2000/svg\" height=\"24px\"viewBox=\"0 0 24 24\"\n",
              "       width=\"24px\">\n",
              "    <path d=\"M0 0h24v24H0V0z\" fill=\"none\"/>\n",
              "    <path d=\"M18.56 5.44l.94 2.06.94-2.06 2.06-.94-2.06-.94-.94-2.06-.94 2.06-2.06.94zm-11 1L8.5 8.5l.94-2.06 2.06-.94-2.06-.94L8.5 2.5l-.94 2.06-2.06.94zm10 10l.94 2.06.94-2.06 2.06-.94-2.06-.94-.94-2.06-.94 2.06-2.06.94z\"/><path d=\"M17.41 7.96l-1.37-1.37c-.4-.4-.92-.59-1.43-.59-.52 0-1.04.2-1.43.59L10.3 9.45l-7.72 7.72c-.78.78-.78 2.05 0 2.83L4 21.41c.39.39.9.59 1.41.59.51 0 1.02-.2 1.41-.59l7.78-7.78 2.81-2.81c.8-.78.8-2.07 0-2.86zM5.41 20L4 18.59l7.72-7.72 1.47 1.35L5.41 20z\"/>\n",
              "  </svg>\n",
              "      </button>\n",
              "      \n",
              "  <style>\n",
              "    .colab-df-container {\n",
              "      display:flex;\n",
              "      flex-wrap:wrap;\n",
              "      gap: 12px;\n",
              "    }\n",
              "\n",
              "    .colab-df-convert {\n",
              "      background-color: #E8F0FE;\n",
              "      border: none;\n",
              "      border-radius: 50%;\n",
              "      cursor: pointer;\n",
              "      display: none;\n",
              "      fill: #1967D2;\n",
              "      height: 32px;\n",
              "      padding: 0 0 0 0;\n",
              "      width: 32px;\n",
              "    }\n",
              "\n",
              "    .colab-df-convert:hover {\n",
              "      background-color: #E2EBFA;\n",
              "      box-shadow: 0px 1px 2px rgba(60, 64, 67, 0.3), 0px 1px 3px 1px rgba(60, 64, 67, 0.15);\n",
              "      fill: #174EA6;\n",
              "    }\n",
              "\n",
              "    [theme=dark] .colab-df-convert {\n",
              "      background-color: #3B4455;\n",
              "      fill: #D2E3FC;\n",
              "    }\n",
              "\n",
              "    [theme=dark] .colab-df-convert:hover {\n",
              "      background-color: #434B5C;\n",
              "      box-shadow: 0px 1px 3px 1px rgba(0, 0, 0, 0.15);\n",
              "      filter: drop-shadow(0px 1px 2px rgba(0, 0, 0, 0.3));\n",
              "      fill: #FFFFFF;\n",
              "    }\n",
              "  </style>\n",
              "\n",
              "      <script>\n",
              "        const buttonEl =\n",
              "          document.querySelector('#df-eedfcbc0-4846-4ddb-aad5-8a3dc042e42e button.colab-df-convert');\n",
              "        buttonEl.style.display =\n",
              "          google.colab.kernel.accessAllowed ? 'block' : 'none';\n",
              "\n",
              "        async function convertToInteractive(key) {\n",
              "          const element = document.querySelector('#df-eedfcbc0-4846-4ddb-aad5-8a3dc042e42e');\n",
              "          const dataTable =\n",
              "            await google.colab.kernel.invokeFunction('convertToInteractive',\n",
              "                                                     [key], {});\n",
              "          if (!dataTable) return;\n",
              "\n",
              "          const docLinkHtml = 'Like what you see? Visit the ' +\n",
              "            '<a target=\"_blank\" href=https://colab.research.google.com/notebooks/data_table.ipynb>data table notebook</a>'\n",
              "            + ' to learn more about interactive tables.';\n",
              "          element.innerHTML = '';\n",
              "          dataTable['output_type'] = 'display_data';\n",
              "          await google.colab.output.renderOutput(dataTable, element);\n",
              "          const docLink = document.createElement('div');\n",
              "          docLink.innerHTML = docLinkHtml;\n",
              "          element.appendChild(docLink);\n",
              "        }\n",
              "      </script>\n",
              "    </div>\n",
              "  </div>\n",
              "  "
            ]
          },
          "metadata": {},
          "execution_count": 42
        }
      ]
    },
    {
      "cell_type": "code",
      "source": [
        "sns.scatterplot(df[\"Liter\"],df[\"Price\"])"
      ],
      "metadata": {
        "colab": {
          "base_uri": "https://localhost:8080/",
          "height": 351
        },
        "id": "qG2xFUjjl8qm",
        "outputId": "fb6e5241-f196-4ce6-8fb9-2636c9d191e9"
      },
      "execution_count": null,
      "outputs": [
        {
          "output_type": "stream",
          "name": "stderr",
          "text": [
            "/usr/local/lib/python3.8/dist-packages/seaborn/_decorators.py:36: FutureWarning: Pass the following variables as keyword args: x, y. From version 0.12, the only valid positional argument will be `data`, and passing other arguments without an explicit keyword will result in an error or misinterpretation.\n",
            "  warnings.warn(\n"
          ]
        },
        {
          "output_type": "execute_result",
          "data": {
            "text/plain": [
              "<matplotlib.axes._subplots.AxesSubplot at 0x7f2f129430a0>"
            ]
          },
          "metadata": {},
          "execution_count": 43
        },
        {
          "output_type": "display_data",
          "data": {
            "text/plain": [
              "<Figure size 432x288 with 1 Axes>"
            ],
            "image/png": "[encoded data removed]"
          },
          "metadata": {
            "needs_background": "light"
          }
        }
      ]
    },
    {
      "cell_type": "code",
      "source": [
        "sns.barplot(df[\"Cylinder\"],df[\"Price\"])          #categorical vs continious thats why barplot"
      ],
      "metadata": {
        "colab": {
          "base_uri": "https://localhost:8080/",
          "height": 351
        },
        "id": "R4lXC6Gdl8wx",
        "outputId": "ebc2fc51-66d9-4ceb-b4ac-82213942558a"
      },
      "execution_count": null,
      "outputs": [
        {
          "output_type": "stream",
          "name": "stderr",
          "text": [
            "/usr/local/lib/python3.8/dist-packages/seaborn/_decorators.py:36: FutureWarning: Pass the following variables as keyword args: x, y. From version 0.12, the only valid positional argument will be `data`, and passing other arguments without an explicit keyword will result in an error or misinterpretation.\n",
            "  warnings.warn(\n"
          ]
        },
        {
          "output_type": "execute_result",
          "data": {
            "text/plain": [
              "<matplotlib.axes._subplots.AxesSubplot at 0x7f2f128adee0>"
            ]
          },
          "metadata": {},
          "execution_count": 44
        },
        {
          "output_type": "display_data",
          "data": {
            "text/plain": [
              "<Figure size 432x288 with 1 Axes>"
            ],
            "image/png": "[encoded data removed]"
          },
          "metadata": {
            "needs_background": "light"
          }
        }
      ]
    },
    {
      "cell_type": "code",
      "source": [
        "sns.barplot(df[\"Doors\"],df[\"Price\"])"
      ],
      "metadata": {
        "colab": {
          "base_uri": "https://localhost:8080/",
          "height": 351
        },
        "id": "bR4riYk_l82v",
        "outputId": "9e742931-399e-4503-ee5e-6d4d63a05d3a"
      },
      "execution_count": null,
      "outputs": [
        {
          "output_type": "stream",
          "name": "stderr",
          "text": [
            "/usr/local/lib/python3.8/dist-packages/seaborn/_decorators.py:36: FutureWarning: Pass the following variables as keyword args: x, y. From version 0.12, the only valid positional argument will be `data`, and passing other arguments without an explicit keyword will result in an error or misinterpretation.\n",
            "  warnings.warn(\n"
          ]
        },
        {
          "output_type": "execute_result",
          "data": {
            "text/plain": [
              "<matplotlib.axes._subplots.AxesSubplot at 0x7f2f1288bd90>"
            ]
          },
          "metadata": {},
          "execution_count": 45
        },
        {
          "output_type": "display_data",
          "data": {
            "text/plain": [
              "<Figure size 432x288 with 1 Axes>"
            ],
            "image/png": "[encoded data removed]"
          },
          "metadata": {
            "needs_background": "light"
          }
        }
      ]
    },
    {
      "cell_type": "code",
      "source": [
        "sns.barplot(df[\"Cruise\"],df[\"Price\"])"
      ],
      "metadata": {
        "colab": {
          "base_uri": "https://localhost:8080/",
          "height": 351
        },
        "id": "FNT9ELhPl883",
        "outputId": "a0fb4a7c-309f-4d44-c4b9-5de9bf73ceb2"
      },
      "execution_count": null,
      "outputs": [
        {
          "output_type": "stream",
          "name": "stderr",
          "text": [
            "/usr/local/lib/python3.8/dist-packages/seaborn/_decorators.py:36: FutureWarning: Pass the following variables as keyword args: x, y. From version 0.12, the only valid positional argument will be `data`, and passing other arguments without an explicit keyword will result in an error or misinterpretation.\n",
            "  warnings.warn(\n"
          ]
        },
        {
          "output_type": "execute_result",
          "data": {
            "text/plain": [
              "<matplotlib.axes._subplots.AxesSubplot at 0x7f2f1285b730>"
            ]
          },
          "metadata": {},
          "execution_count": 46
        },
        {
          "output_type": "display_data",
          "data": {
            "text/plain": [
              "<Figure size 432x288 with 1 Axes>"
            ],
            "image/png": "[encoded data removed]"
          },
          "metadata": {
            "needs_background": "light"
          }
        }
      ]
    },
    {
      "cell_type": "code",
      "source": [
        "sns.barplot(df[\"Sound\"],df[\"Price\"])"
      ],
      "metadata": {
        "colab": {
          "base_uri": "https://localhost:8080/",
          "height": 351
        },
        "id": "mG3Z_rHEnwK0",
        "outputId": "fa60e32f-e6b6-4b3e-9148-31bdaf6fddad"
      },
      "execution_count": null,
      "outputs": [
        {
          "output_type": "stream",
          "name": "stderr",
          "text": [
            "/usr/local/lib/python3.8/dist-packages/seaborn/_decorators.py:36: FutureWarning: Pass the following variables as keyword args: x, y. From version 0.12, the only valid positional argument will be `data`, and passing other arguments without an explicit keyword will result in an error or misinterpretation.\n",
            "  warnings.warn(\n"
          ]
        },
        {
          "output_type": "execute_result",
          "data": {
            "text/plain": [
              "<matplotlib.axes._subplots.AxesSubplot at 0x7f2f127a1250>"
            ]
          },
          "metadata": {},
          "execution_count": 47
        },
        {
          "output_type": "display_data",
          "data": {
            "text/plain": [
              "<Figure size 432x288 with 1 Axes>"
            ],
            "image/png": "[encoded data removed]"
          },
          "metadata": {
            "needs_background": "light"
          }
        }
      ]
    },
    {
      "cell_type": "code",
      "source": [
        "sns.barplot(df[\"Leather\"],df[\"Price\"])"
      ],
      "metadata": {
        "colab": {
          "base_uri": "https://localhost:8080/",
          "height": 351
        },
        "id": "Rj_Rs8rEnwPA",
        "outputId": "017723d4-c24e-441a-ecb8-1bce2b0d7301"
      },
      "execution_count": null,
      "outputs": [
        {
          "output_type": "stream",
          "name": "stderr",
          "text": [
            "/usr/local/lib/python3.8/dist-packages/seaborn/_decorators.py:36: FutureWarning: Pass the following variables as keyword args: x, y. From version 0.12, the only valid positional argument will be `data`, and passing other arguments without an explicit keyword will result in an error or misinterpretation.\n",
            "  warnings.warn(\n"
          ]
        },
        {
          "output_type": "execute_result",
          "data": {
            "text/plain": [
              "<matplotlib.axes._subplots.AxesSubplot at 0x7f2f127903a0>"
            ]
          },
          "metadata": {},
          "execution_count": 48
        },
        {
          "output_type": "display_data",
          "data": {
            "text/plain": [
              "<Figure size 432x288 with 1 Axes>"
            ],
            "image/png": "[encoded data removed]"
          },
          "metadata": {
            "needs_background": "light"
          }
        }
      ]
    },
    {
      "cell_type": "code",
      "source": [
        "X = df[['Mileage', 'Cylinder', 'Liter', 'Doors', 'Cruise', 'Sound', 'Leather']].values \n",
        "y = df['Price'].values "
      ],
      "metadata": {
        "id": "0ApIn2yTnwS0"
      },
      "execution_count": null,
      "outputs": []
    },
    {
      "cell_type": "code",
      "source": [
        "from sklearn.model_selection import train_test_split\n",
        "X_train, X_test, y_train, y_test = train_test_split(X, y, test_size=0.2)"
      ],
      "metadata": {
        "id": "5PK7bBeFnwX1"
      },
      "execution_count": null,
      "outputs": []
    },
    {
      "cell_type": "code",
      "source": [
        "\n",
        "from sklearn.preprocessing import StandardScaler \n",
        "scaler = StandardScaler() \n",
        "scaler.fit(X_train,y_train) \n",
        "X_train_scaled = scaler.transform(X_train) \n",
        "X_test_scaled = scaler.transform(X_test) "
      ],
      "metadata": {
        "id": "TdyIhu21nwen"
      },
      "execution_count": null,
      "outputs": []
    },
    {
      "cell_type": "code",
      "source": [
        "scaler.var_"
      ],
      "metadata": {
        "colab": {
          "base_uri": "https://localhost:8080/"
        },
        "id": "kAZyxDfThXic",
        "outputId": "17a6c5c3-bba1-4b38-d2a1-e87d0a04db1b"
      },
      "execution_count": null,
      "outputs": [
        {
          "output_type": "execute_result",
          "data": {
            "text/plain": [
              "array([6.63422662e+07, 1.84494823e+00, 1.19645083e+00, 7.22043106e-01,\n",
              "       1.88468227e-01, 2.20467337e-01, 2.03604314e-01])"
            ]
          },
          "metadata": {},
          "execution_count": 52
        }
      ]
    },
    {
      "cell_type": "code",
      "source": [
        "from sklearn.linear_model import LinearRegression\n",
        "lr = LinearRegression()\n",
        "lr.fit(X_train_scaled, y_train)"
      ],
      "metadata": {
        "colab": {
          "base_uri": "https://localhost:8080/"
        },
        "id": "w6C31XsYhXnk",
        "outputId": "6afddacb-ce08-47c8-af06-adb1c9a9e463"
      },
      "execution_count": null,
      "outputs": [
        {
          "output_type": "execute_result",
          "data": {
            "text/plain": [
              "LinearRegression()"
            ]
          },
          "metadata": {},
          "execution_count": 53
        }
      ]
    },
    {
      "cell_type": "code",
      "source": [
        "coeff_df = pd.DataFrame(lr.coef_,['Mileage', 'Cylinder', 'Liter', 'Doors', 'Cruise', 'Sound', 'Leather'], columns=['Coefficient'])\n",
        "y_pred = lr.predict(X_test_scaled)\n",
        "coeff_df"
      ],
      "metadata": {
        "colab": {
          "base_uri": "https://localhost:8080/",
          "height": 269
        },
        "id": "m7HQP16ihXrq",
        "outputId": "74bccf4a-7e1b-4235-cf9e-33c5a6c7a8e1"
      },
      "execution_count": null,
      "outputs": [
        {
          "output_type": "execute_result",
          "data": {
            "text/plain": [
              "          Coefficient\n",
              "Mileage  -1313.366536\n",
              "Cylinder  5606.501273\n",
              "Liter    -1159.049575\n",
              "Doors    -1384.692463\n",
              "Cruise    2668.655960\n",
              "Sound    -1161.111022\n",
              "Leather   1500.599151"
            ],
            "text/html": [
              "\n",
              "  <div id=\"df-22559821-c11a-40a8-9c55-e05a9476de86\">\n",
              "    <div class=\"colab-df-container\">\n",
              "      <div>\n",
              "<style scoped>\n",
              "    .dataframe tbody tr th:only-of-type {\n",
              "        vertical-align: middle;\n",
              "    }\n",
              "\n",
              "    .dataframe tbody tr th {\n",
              "        vertical-align: top;\n",
              "    }\n",
              "\n",
              "    .dataframe thead th {\n",
              "        text-align: right;\n",
              "    }\n",
              "</style>\n",
              "<table border=\"1\" class=\"dataframe\">\n",
              "  <thead>\n",
              "    <tr style=\"text-align: right;\">\n",
              "      <th></th>\n",
              "      <th>Coefficient</th>\n",
              "    </tr>\n",
              "  </thead>\n",
              "  <tbody>\n",
              "    <tr>\n",
              "      <th>Mileage</th>\n",
              "      <td>-1313.366536</td>\n",
              "    </tr>\n",
              "    <tr>\n",
              "      <th>Cylinder</th>\n",
              "      <td>5606.501273</td>\n",
              "    </tr>\n",
              "    <tr>\n",
              "      <th>Liter</th>\n",
              "      <td>-1159.049575</td>\n",
              "    </tr>\n",
              "    <tr>\n",
              "      <th>Doors</th>\n",
              "      <td>-1384.692463</td>\n",
              "    </tr>\n",
              "    <tr>\n",
              "      <th>Cruise</th>\n",
              "      <td>2668.655960</td>\n",
              "    </tr>\n",
              "    <tr>\n",
              "      <th>Sound</th>\n",
              "      <td>-1161.111022</td>\n",
              "    </tr>\n",
              "    <tr>\n",
              "      <th>Leather</th>\n",
              "      <td>1500.599151</td>\n",
              "    </tr>\n",
              "  </tbody>\n",
              "</table>\n",
              "</div>\n",
              "      <button class=\"colab-df-convert\" onclick=\"convertToInteractive('df-22559821-c11a-40a8-9c55-e05a9476de86')\"\n",
              "              title=\"Convert this dataframe to an interactive table.\"\n",
              "              style=\"display:none;\">\n",
              "        \n",
              "  <svg xmlns=\"http://www.w3.org/2000/svg\" height=\"24px\"viewBox=\"0 0 24 24\"\n",
              "       width=\"24px\">\n",
              "    <path d=\"M0 0h24v24H0V0z\" fill=\"none\"/>\n",
              "    <path d=\"M18.56 5.44l.94 2.06.94-2.06 2.06-.94-2.06-.94-.94-2.06-.94 2.06-2.06.94zm-11 1L8.5 8.5l.94-2.06 2.06-.94-2.06-.94L8.5 2.5l-.94 2.06-2.06.94zm10 10l.94 2.06.94-2.06 2.06-.94-2.06-.94-.94-2.06-.94 2.06-2.06.94z\"/><path d=\"M17.41 7.96l-1.37-1.37c-.4-.4-.92-.59-1.43-.59-.52 0-1.04.2-1.43.59L10.3 9.45l-7.72 7.72c-.78.78-.78 2.05 0 2.83L4 21.41c.39.39.9.59 1.41.59.51 0 1.02-.2 1.41-.59l7.78-7.78 2.81-2.81c.8-.78.8-2.07 0-2.86zM5.41 20L4 18.59l7.72-7.72 1.47 1.35L5.41 20z\"/>\n",
              "  </svg>\n",
              "      </button>\n",
              "      \n",
              "  <style>\n",
              "    .colab-df-container {\n",
              "      display:flex;\n",
              "      flex-wrap:wrap;\n",
              "      gap: 12px;\n",
              "    }\n",
              "\n",
              "    .colab-df-convert {\n",
              "      background-color: #E8F0FE;\n",
              "      border: none;\n",
              "      border-radius: 50%;\n",
              "      cursor: pointer;\n",
              "      display: none;\n",
              "      fill: #1967D2;\n",
              "      height: 32px;\n",
              "      padding: 0 0 0 0;\n",
              "      width: 32px;\n",
              "    }\n",
              "\n",
              "    .colab-df-convert:hover {\n",
              "      background-color: #E2EBFA;\n",
              "      box-shadow: 0px 1px 2px rgba(60, 64, 67, 0.3), 0px 1px 3px 1px rgba(60, 64, 67, 0.15);\n",
              "      fill: #174EA6;\n",
              "    }\n",
              "\n",
              "    [theme=dark] .colab-df-convert {\n",
              "      background-color: #3B4455;\n",
              "      fill: #D2E3FC;\n",
              "    }\n",
              "\n",
              "    [theme=dark] .colab-df-convert:hover {\n",
              "      background-color: #434B5C;\n",
              "      box-shadow: 0px 1px 3px 1px rgba(0, 0, 0, 0.15);\n",
              "      filter: drop-shadow(0px 1px 2px rgba(0, 0, 0, 0.3));\n",
              "      fill: #FFFFFF;\n",
              "    }\n",
              "  </style>\n",
              "\n",
              "      <script>\n",
              "        const buttonEl =\n",
              "          document.querySelector('#df-22559821-c11a-40a8-9c55-e05a9476de86 button.colab-df-convert');\n",
              "        buttonEl.style.display =\n",
              "          google.colab.kernel.accessAllowed ? 'block' : 'none';\n",
              "\n",
              "        async function convertToInteractive(key) {\n",
              "          const element = document.querySelector('#df-22559821-c11a-40a8-9c55-e05a9476de86');\n",
              "          const dataTable =\n",
              "            await google.colab.kernel.invokeFunction('convertToInteractive',\n",
              "                                                     [key], {});\n",
              "          if (!dataTable) return;\n",
              "\n",
              "          const docLinkHtml = 'Like what you see? Visit the ' +\n",
              "            '<a target=\"_blank\" href=https://colab.research.google.com/notebooks/data_table.ipynb>data table notebook</a>'\n",
              "            + ' to learn more about interactive tables.';\n",
              "          element.innerHTML = '';\n",
              "          dataTable['output_type'] = 'display_data';\n",
              "          await google.colab.output.renderOutput(dataTable, element);\n",
              "          const docLink = document.createElement('div');\n",
              "          docLink.innerHTML = docLinkHtml;\n",
              "          element.appendChild(docLink);\n",
              "        }\n",
              "      </script>\n",
              "    </div>\n",
              "  </div>\n",
              "  "
            ]
          },
          "metadata": {},
          "execution_count": 54
        }
      ]
    },
    {
      "cell_type": "code",
      "source": [
        "lr.intercept_"
      ],
      "metadata": {
        "colab": {
          "base_uri": "https://localhost:8080/"
        },
        "id": "dczqq6RChXzn",
        "outputId": "36fcfbc3-7777-44b9-b39c-10a1321eb966"
      },
      "execution_count": null,
      "outputs": [
        {
          "output_type": "execute_result",
          "data": {
            "text/plain": [
              "21230.092831096987"
            ]
          },
          "metadata": {},
          "execution_count": 55
        }
      ]
    },
    {
      "cell_type": "code",
      "source": [
        "from sklearn import metrics\n",
        "print('R2- SCORE:', metrics.r2_score(y_test,y_pred))"
      ],
      "metadata": {
        "colab": {
          "base_uri": "https://localhost:8080/"
        },
        "id": "ym3VoDQvhX3t",
        "outputId": "7af62e51-ab14-4ca9-8fa0-8769371850e3"
      },
      "execution_count": null,
      "outputs": [
        {
          "output_type": "stream",
          "name": "stdout",
          "text": [
            "R2- SCORE: 0.4121083909015888\n"
          ]
        }
      ]
    },
    {
      "cell_type": "markdown",
      "source": [
        "#Find the combination of the factors that is the best predictor for price."
      ],
      "metadata": {
        "id": "CE2oZBQMBH0L"
      }
    },
    {
      "cell_type": "code",
      "source": [
        "\n",
        "from sklearn.feature_selection import RFE\n",
        "estimator = LinearRegression()\n",
        "selector = RFE(estimator, n_features_to_select=6, step=1)\n",
        "selector = selector.fit(X_train_scaled, y_train)\n",
        "list(zip(['Mileage', 'Cylinder', 'Liter', 'Doors', 'Cruise', 'Sound', 'Leather'],selector.support_))"
      ],
      "metadata": {
        "id": "zbgTUVashX8c",
        "colab": {
          "base_uri": "https://localhost:8080/"
        },
        "outputId": "cbad3269-9f40-4e67-a18b-b6e0182904aa"
      },
      "execution_count": null,
      "outputs": [
        {
          "output_type": "execute_result",
          "data": {
            "text/plain": [
              "[('Mileage', True),\n",
              " ('Cylinder', True),\n",
              " ('Liter', False),\n",
              " ('Doors', True),\n",
              " ('Cruise', True),\n",
              " ('Sound', True),\n",
              " ('Leather', True)]"
            ]
          },
          "metadata": {},
          "execution_count": 65
        }
      ]
    },
    {
      "cell_type": "markdown",
      "source": [
        "Selecting Important features by using Sequential Feature Selector"
      ],
      "metadata": {
        "id": "kzeP3zCxRMbB"
      }
    },
    {
      "cell_type": "code",
      "source": [
        "\n",
        "from sklearn.feature_selection import SequentialFeatureSelector\n",
        "estimator = LinearRegression()\n",
        "sfs = SequentialFeatureSelector(estimator, n_features_to_select=2)\n",
        "sfs.fit(X_train_scaled, y_train)\n",
        "print(list(zip(['Mileage', 'Cylinder', 'Liter', 'Doors', 'Cruise', 'Sound', 'Leather'],sfs.get_support())))"
      ],
      "metadata": {
        "colab": {
          "base_uri": "https://localhost:8080/"
        },
        "id": "FkpHBNupJOr-",
        "outputId": "9f8148c0-f1d8-44db-e58b-15611fc79036"
      },
      "execution_count": null,
      "outputs": [
        {
          "output_type": "stream",
          "name": "stdout",
          "text": [
            "[('Mileage', False), ('Cylinder', True), ('Liter', False), ('Doors', False), ('Cruise', True), ('Sound', False), ('Leather', False)]\n"
          ]
        }
      ]
    },
    {
      "cell_type": "markdown",
      "source": [
        "#Tasks, Hard Mode"
      ],
      "metadata": {
        "id": "5d5vkPPrTbhh"
      }
    },
    {
      "cell_type": "markdown",
      "source": [
        "#Research dummy variables in scikit-learn to see how to use the make, model, and body type."
      ],
      "metadata": {
        "id": "41KmTyZITwTO"
      }
    },
    {
      "cell_type": "code",
      "source": [
        "df=pd.get_dummies(df,columns=[\"Make\",\"Model\",\"Trim\",\"Type\"])\n",
        "df.head()"
      ],
      "metadata": {
        "colab": {
          "base_uri": "https://localhost:8080/",
          "height": 334
        },
        "id": "We86K0euISn2",
        "outputId": "9777d1a9-27cb-4a1a-8ba2-7e5e5c22cee9"
      },
      "execution_count": null,
      "outputs": [
        {
          "output_type": "execute_result",
          "data": {
            "text/plain": [
              "          Price  Mileage  Cylinder  Liter  Doors  Cruise  Sound  Leather  \\\n",
              "0  17314.103129     8221         6    3.1      4       1      1        1   \n",
              "1  17542.036083     9135         6    3.1      4       1      1        0   \n",
              "2  16218.847862    13196         6    3.1      4       1      1        0   \n",
              "3  16336.913140    16342         6    3.1      4       1      0        0   \n",
              "4  16339.170324    19832         6    3.1      4       1      0        1   \n",
              "\n",
              "   Make_Buick  Make_Cadillac  ...  Trim_SVM Hatchback 4D  Trim_SVM Sedan 4D  \\\n",
              "0           1              0  ...                      0                  0   \n",
              "1           1              0  ...                      0                  0   \n",
              "2           1              0  ...                      0                  0   \n",
              "3           1              0  ...                      0                  0   \n",
              "4           1              0  ...                      0                  0   \n",
              "\n",
              "   Trim_Sedan 4D  Trim_Special Ed Ultra 4D  Trim_Sportwagon 4D  \\\n",
              "0              1                         0                   0   \n",
              "1              1                         0                   0   \n",
              "2              1                         0                   0   \n",
              "3              1                         0                   0   \n",
              "4              1                         0                   0   \n",
              "\n",
              "   Type_Convertible  Type_Coupe  Type_Hatchback  Type_Sedan  Type_Wagon  \n",
              "0                 0           0               0           1           0  \n",
              "1                 0           0               0           1           0  \n",
              "2                 0           0               0           1           0  \n",
              "3                 0           0               0           1           0  \n",
              "4                 0           0               0           1           0  \n",
              "\n",
              "[5 rows x 98 columns]"
            ],
            "text/html": [
              "\n",
              "  <div id=\"df-2dbfa455-0a37-4b0f-8c35-a384f8c7f95f\">\n",
              "    <div class=\"colab-df-container\">\n",
              "      <div>\n",
              "<style scoped>\n",
              "    .dataframe tbody tr th:only-of-type {\n",
              "        vertical-align: middle;\n",
              "    }\n",
              "\n",
              "    .dataframe tbody tr th {\n",
              "        vertical-align: top;\n",
              "    }\n",
              "\n",
              "    .dataframe thead th {\n",
              "        text-align: right;\n",
              "    }\n",
              "</style>\n",
              "<table border=\"1\" class=\"dataframe\">\n",
              "  <thead>\n",
              "    <tr style=\"text-align: right;\">\n",
              "      <th></th>\n",
              "      <th>Price</th>\n",
              "      <th>Mileage</th>\n",
              "      <th>Cylinder</th>\n",
              "      <th>Liter</th>\n",
              "      <th>Doors</th>\n",
              "      <th>Cruise</th>\n",
              "      <th>Sound</th>\n",
              "      <th>Leather</th>\n",
              "      <th>Make_Buick</th>\n",
              "      <th>Make_Cadillac</th>\n",
              "      <th>...</th>\n",
              "      <th>Trim_SVM Hatchback 4D</th>\n",
              "      <th>Trim_SVM Sedan 4D</th>\n",
              "      <th>Trim_Sedan 4D</th>\n",
              "      <th>Trim_Special Ed Ultra 4D</th>\n",
              "      <th>Trim_Sportwagon 4D</th>\n",
              "      <th>Type_Convertible</th>\n",
              "      <th>Type_Coupe</th>\n",
              "      <th>Type_Hatchback</th>\n",
              "      <th>Type_Sedan</th>\n",
              "      <th>Type_Wagon</th>\n",
              "    </tr>\n",
              "  </thead>\n",
              "  <tbody>\n",
              "    <tr>\n",
              "      <th>0</th>\n",
              "      <td>17314.103129</td>\n",
              "      <td>8221</td>\n",
              "      <td>6</td>\n",
              "      <td>3.1</td>\n",
              "      <td>4</td>\n",
              "      <td>1</td>\n",
              "      <td>1</td>\n",
              "      <td>1</td>\n",
              "      <td>1</td>\n",
              "      <td>0</td>\n",
              "      <td>...</td>\n",
              "      <td>0</td>\n",
              "      <td>0</td>\n",
              "      <td>1</td>\n",
              "      <td>0</td>\n",
              "      <td>0</td>\n",
              "      <td>0</td>\n",
              "      <td>0</td>\n",
              "      <td>0</td>\n",
              "      <td>1</td>\n",
              "      <td>0</td>\n",
              "    </tr>\n",
              "    <tr>\n",
              "      <th>1</th>\n",
              "      <td>17542.036083</td>\n",
              "      <td>9135</td>\n",
              "      <td>6</td>\n",
              "      <td>3.1</td>\n",
              "      <td>4</td>\n",
              "      <td>1</td>\n",
              "      <td>1</td>\n",
              "      <td>0</td>\n",
              "      <td>1</td>\n",
              "      <td>0</td>\n",
              "      <td>...</td>\n",
              "      <td>0</td>\n",
              "      <td>0</td>\n",
              "      <td>1</td>\n",
              "      <td>0</td>\n",
              "      <td>0</td>\n",
              "      <td>0</td>\n",
              "      <td>0</td>\n",
              "      <td>0</td>\n",
              "      <td>1</td>\n",
              "      <td>0</td>\n",
              "    </tr>\n",
              "    <tr>\n",
              "      <th>2</th>\n",
              "      <td>16218.847862</td>\n",
              "      <td>13196</td>\n",
              "      <td>6</td>\n",
              "      <td>3.1</td>\n",
              "      <td>4</td>\n",
              "      <td>1</td>\n",
              "      <td>1</td>\n",
              "      <td>0</td>\n",
              "      <td>1</td>\n",
              "      <td>0</td>\n",
              "      <td>...</td>\n",
              "      <td>0</td>\n",
              "      <td>0</td>\n",
              "      <td>1</td>\n",
              "      <td>0</td>\n",
              "      <td>0</td>\n",
              "      <td>0</td>\n",
              "      <td>0</td>\n",
              "      <td>0</td>\n",
              "      <td>1</td>\n",
              "      <td>0</td>\n",
              "    </tr>\n",
              "    <tr>\n",
              "      <th>3</th>\n",
              "      <td>16336.913140</td>\n",
              "      <td>16342</td>\n",
              "      <td>6</td>\n",
              "      <td>3.1</td>\n",
              "      <td>4</td>\n",
              "      <td>1</td>\n",
              "      <td>0</td>\n",
              "      <td>0</td>\n",
              "      <td>1</td>\n",
              "      <td>0</td>\n",
              "      <td>...</td>\n",
              "      <td>0</td>\n",
              "      <td>0</td>\n",
              "      <td>1</td>\n",
              "      <td>0</td>\n",
              "      <td>0</td>\n",
              "      <td>0</td>\n",
              "      <td>0</td>\n",
              "      <td>0</td>\n",
              "      <td>1</td>\n",
              "      <td>0</td>\n",
              "    </tr>\n",
              "    <tr>\n",
              "      <th>4</th>\n",
              "      <td>16339.170324</td>\n",
              "      <td>19832</td>\n",
              "      <td>6</td>\n",
              "      <td>3.1</td>\n",
              "      <td>4</td>\n",
              "      <td>1</td>\n",
              "      <td>0</td>\n",
              "      <td>1</td>\n",
              "      <td>1</td>\n",
              "      <td>0</td>\n",
              "      <td>...</td>\n",
              "      <td>0</td>\n",
              "      <td>0</td>\n",
              "      <td>1</td>\n",
              "      <td>0</td>\n",
              "      <td>0</td>\n",
              "      <td>0</td>\n",
              "      <td>0</td>\n",
              "      <td>0</td>\n",
              "      <td>1</td>\n",
              "      <td>0</td>\n",
              "    </tr>\n",
              "  </tbody>\n",
              "</table>\n",
              "<p>5 rows × 98 columns</p>\n",
              "</div>\n",
              "      <button class=\"colab-df-convert\" onclick=\"convertToInteractive('df-2dbfa455-0a37-4b0f-8c35-a384f8c7f95f')\"\n",
              "              title=\"Convert this dataframe to an interactive table.\"\n",
              "              style=\"display:none;\">\n",
              "        \n",
              "  <svg xmlns=\"http://www.w3.org/2000/svg\" height=\"24px\"viewBox=\"0 0 24 24\"\n",
              "       width=\"24px\">\n",
              "    <path d=\"M0 0h24v24H0V0z\" fill=\"none\"/>\n",
              "    <path d=\"M18.56 5.44l.94 2.06.94-2.06 2.06-.94-2.06-.94-.94-2.06-.94 2.06-2.06.94zm-11 1L8.5 8.5l.94-2.06 2.06-.94-2.06-.94L8.5 2.5l-.94 2.06-2.06.94zm10 10l.94 2.06.94-2.06 2.06-.94-2.06-.94-.94-2.06-.94 2.06-2.06.94z\"/><path d=\"M17.41 7.96l-1.37-1.37c-.4-.4-.92-.59-1.43-.59-.52 0-1.04.2-1.43.59L10.3 9.45l-7.72 7.72c-.78.78-.78 2.05 0 2.83L4 21.41c.39.39.9.59 1.41.59.51 0 1.02-.2 1.41-.59l7.78-7.78 2.81-2.81c.8-.78.8-2.07 0-2.86zM5.41 20L4 18.59l7.72-7.72 1.47 1.35L5.41 20z\"/>\n",
              "  </svg>\n",
              "      </button>\n",
              "      \n",
              "  <style>\n",
              "    .colab-df-container {\n",
              "      display:flex;\n",
              "      flex-wrap:wrap;\n",
              "      gap: 12px;\n",
              "    }\n",
              "\n",
              "    .colab-df-convert {\n",
              "      background-color: #E8F0FE;\n",
              "      border: none;\n",
              "      border-radius: 50%;\n",
              "      cursor: pointer;\n",
              "      display: none;\n",
              "      fill: #1967D2;\n",
              "      height: 32px;\n",
              "      padding: 0 0 0 0;\n",
              "      width: 32px;\n",
              "    }\n",
              "\n",
              "    .colab-df-convert:hover {\n",
              "      background-color: #E2EBFA;\n",
              "      box-shadow: 0px 1px 2px rgba(60, 64, 67, 0.3), 0px 1px 3px 1px rgba(60, 64, 67, 0.15);\n",
              "      fill: #174EA6;\n",
              "    }\n",
              "\n",
              "    [theme=dark] .colab-df-convert {\n",
              "      background-color: #3B4455;\n",
              "      fill: #D2E3FC;\n",
              "    }\n",
              "\n",
              "    [theme=dark] .colab-df-convert:hover {\n",
              "      background-color: #434B5C;\n",
              "      box-shadow: 0px 1px 3px 1px rgba(0, 0, 0, 0.15);\n",
              "      filter: drop-shadow(0px 1px 2px rgba(0, 0, 0, 0.3));\n",
              "      fill: #FFFFFF;\n",
              "    }\n",
              "  </style>\n",
              "\n",
              "      <script>\n",
              "        const buttonEl =\n",
              "          document.querySelector('#df-2dbfa455-0a37-4b0f-8c35-a384f8c7f95f button.colab-df-convert');\n",
              "        buttonEl.style.display =\n",
              "          google.colab.kernel.accessAllowed ? 'block' : 'none';\n",
              "\n",
              "        async function convertToInteractive(key) {\n",
              "          const element = document.querySelector('#df-2dbfa455-0a37-4b0f-8c35-a384f8c7f95f');\n",
              "          const dataTable =\n",
              "            await google.colab.kernel.invokeFunction('convertToInteractive',\n",
              "                                                     [key], {});\n",
              "          if (!dataTable) return;\n",
              "\n",
              "          const docLinkHtml = 'Like what you see? Visit the ' +\n",
              "            '<a target=\"_blank\" href=https://colab.research.google.com/notebooks/data_table.ipynb>data table notebook</a>'\n",
              "            + ' to learn more about interactive tables.';\n",
              "          element.innerHTML = '';\n",
              "          dataTable['output_type'] = 'display_data';\n",
              "          await google.colab.output.renderOutput(dataTable, element);\n",
              "          const docLink = document.createElement('div');\n",
              "          docLink.innerHTML = docLinkHtml;\n",
              "          element.appendChild(docLink);\n",
              "        }\n",
              "      </script>\n",
              "    </div>\n",
              "  </div>\n",
              "  "
            ]
          },
          "metadata": {},
          "execution_count": 67
        }
      ]
    },
    {
      "cell_type": "code",
      "source": [
        "df.columns"
      ],
      "metadata": {
        "colab": {
          "base_uri": "https://localhost:8080/"
        },
        "id": "YPRwI4MlISuL",
        "outputId": "e59cf1e1-1b75-40c9-cfe3-37c55dbc094c"
      },
      "execution_count": null,
      "outputs": [
        {
          "output_type": "execute_result",
          "data": {
            "text/plain": [
              "Index(['Price', 'Mileage', 'Cylinder', 'Liter', 'Doors', 'Cruise', 'Sound',\n",
              "       'Leather', 'Make_Buick', 'Make_Cadillac', 'Make_Chevrolet',\n",
              "       'Make_Pontiac', 'Make_SAAB', 'Make_Saturn', 'Model_9-2X AWD',\n",
              "       'Model_9_3', 'Model_9_3 HO', 'Model_9_5', 'Model_9_5 HO', 'Model_AVEO',\n",
              "       'Model_Bonneville', 'Model_CST-V', 'Model_CTS', 'Model_Cavalier',\n",
              "       'Model_Century', 'Model_Classic', 'Model_Cobalt', 'Model_Corvette',\n",
              "       'Model_Deville', 'Model_G6', 'Model_GTO', 'Model_Grand Am',\n",
              "       'Model_Grand Prix', 'Model_Impala', 'Model_Ion', 'Model_L Series',\n",
              "       'Model_Lacrosse', 'Model_Lesabre', 'Model_Malibu', 'Model_Monte Carlo',\n",
              "       'Model_Park Avenue', 'Model_STS-V6', 'Model_STS-V8', 'Model_Sunfire',\n",
              "       'Model_Vibe', 'Model_XLR-V8', 'Trim_AWD Sportwagon 4D',\n",
              "       'Trim_Aero Conv 2D', 'Trim_Aero Sedan 4D', 'Trim_Aero Wagon 4D',\n",
              "       'Trim_Arc Conv 2D', 'Trim_Arc Sedan 4D', 'Trim_Arc Wagon 4D',\n",
              "       'Trim_CX Sedan 4D', 'Trim_CXL Sedan 4D', 'Trim_CXS Sedan 4D',\n",
              "       'Trim_Conv 2D', 'Trim_Coupe 2D', 'Trim_Custom Sedan 4D',\n",
              "       'Trim_DHS Sedan 4D', 'Trim_DTS Sedan 4D', 'Trim_GT Coupe 2D',\n",
              "       'Trim_GT Sedan 4D', 'Trim_GT Sportwagon', 'Trim_GTP Sedan 4D',\n",
              "       'Trim_GXP Sedan 4D', 'Trim_Hardtop Conv 2D', 'Trim_L300 Sedan 4D',\n",
              "       'Trim_LS Coupe 2D', 'Trim_LS Hatchback 4D', 'Trim_LS MAXX Hback 4D',\n",
              "       'Trim_LS Sedan 4D', 'Trim_LS Sport Coupe 2D', 'Trim_LS Sport Sedan 4D',\n",
              "       'Trim_LT Coupe 2D', 'Trim_LT Hatchback 4D', 'Trim_LT MAXX Hback 4D',\n",
              "       'Trim_LT Sedan 4D', 'Trim_Limited Sedan 4D', 'Trim_Linear Conv 2D',\n",
              "       'Trim_Linear Sedan 4D', 'Trim_Linear Wagon 4D', 'Trim_MAXX Hback 4D',\n",
              "       'Trim_Quad Coupe 2D', 'Trim_SE Sedan 4D', 'Trim_SLE Sedan 4D',\n",
              "       'Trim_SS Coupe 2D', 'Trim_SS Sedan 4D', 'Trim_SVM Hatchback 4D',\n",
              "       'Trim_SVM Sedan 4D', 'Trim_Sedan 4D', 'Trim_Special Ed Ultra 4D',\n",
              "       'Trim_Sportwagon 4D', 'Type_Convertible', 'Type_Coupe',\n",
              "       'Type_Hatchback', 'Type_Sedan', 'Type_Wagon'],\n",
              "      dtype='object')"
            ]
          },
          "metadata": {},
          "execution_count": 68
        }
      ]
    },
    {
      "cell_type": "code",
      "source": [
        "X = df[['Make_Buick', 'Make_Cadillac', 'Make_Chevrolet',\n",
        "       'Make_Pontiac', 'Make_SAAB', 'Make_Saturn', 'Model_9-2X AWD',\n",
        "       'Model_9_3', 'Model_9_3 HO', 'Model_9_5', 'Model_9_5 HO', 'Model_AVEO',\n",
        "       'Model_Bonneville', 'Model_CST-V', 'Model_CTS', 'Model_Cavalier',\n",
        "       'Model_Century', 'Model_Classic', 'Model_Cobalt', 'Model_Corvette',\n",
        "       'Model_Deville', 'Model_G6', 'Model_GTO', 'Model_Grand Am',\n",
        "       'Model_Grand Prix', 'Model_Impala', 'Model_Ion', 'Model_L Series',\n",
        "       'Model_Lacrosse', 'Model_Lesabre', 'Model_Malibu', 'Model_Monte Carlo',\n",
        "       'Model_Park Avenue', 'Model_STS-V6', 'Model_STS-V8', 'Model_Sunfire',\n",
        "       'Model_Vibe', 'Model_XLR-V8','Type_Convertible', 'Type_Coupe',\n",
        "       'Type_Hatchback', 'Type_Sedan', 'Type_Wagon']].values \n",
        "y = df['Price'].values"
      ],
      "metadata": {
        "id": "6bX297teISz7"
      },
      "execution_count": null,
      "outputs": []
    },
    {
      "cell_type": "code",
      "source": [
        "\n",
        "from sklearn.model_selection import train_test_split\n",
        "X_train, X_test, y_train, y_test = train_test_split(X, y, test_size=0.2)"
      ],
      "metadata": {
        "id": "xYsFjO5MIS5G"
      },
      "execution_count": null,
      "outputs": []
    },
    {
      "cell_type": "markdown",
      "source": [
        "Scaling"
      ],
      "metadata": {
        "id": "d0hnOydfbacT"
      }
    },
    {
      "cell_type": "code",
      "source": [
        "from sklearn.preprocessing import StandardScaler \n",
        "scaler = StandardScaler() \n",
        "scaler.fit(X_train,y_train) \n",
        "X_train_scaled = scaler.transform(X_train) \n",
        "X_test_scaled = scaler.transform(X_test) "
      ],
      "metadata": {
        "id": "kKqBsoJBIS_X"
      },
      "execution_count": null,
      "outputs": []
    },
    {
      "cell_type": "code",
      "source": [
        "scaler.var_"
      ],
      "metadata": {
        "id": "iesicu5mhYCx",
        "colab": {
          "base_uri": "https://localhost:8080/"
        },
        "outputId": "522372b1-5f16-4806-9ea2-c9da15d45abf"
      },
      "execution_count": null,
      "outputs": [
        {
          "output_type": "execute_result",
          "data": {
            "text/plain": [
              "array([0.08333797, 0.08586791, 0.24085196, 0.15373601, 0.12260763,\n",
              "       0.07039804, 0.00464386, 0.02426418, 0.05008115, 0.03449035,\n",
              "       0.02426418, 0.07433081, 0.03449035, 0.00924419, 0.01228688,\n",
              "       0.06775201, 0.00924419, 0.01380098, 0.05560541, 0.02573957,\n",
              "       0.03736858, 0.02426418, 0.01076795, 0.02867585, 0.03880043,\n",
              "       0.03880043, 0.06105227, 0.01076795, 0.03880043, 0.01980897,\n",
              "       0.06642174, 0.03736858, 0.02129888, 0.01076795, 0.00924419,\n",
              "       0.01228688, 0.03449035, 0.01380098, 0.06240189, 0.14485463,\n",
              "       0.06907744, 0.239304  , 0.07302473])"
            ]
          },
          "metadata": {},
          "execution_count": 72
        }
      ]
    },
    {
      "cell_type": "markdown",
      "source": [
        "Model fitting"
      ],
      "metadata": {
        "id": "6de9E5QdbdBy"
      }
    },
    {
      "cell_type": "code",
      "source": [
        "from sklearn.linear_model import LinearRegression\n",
        "lr = LinearRegression()\n",
        "lr.fit(X_train_scaled, y_train)"
      ],
      "metadata": {
        "colab": {
          "base_uri": "https://localhost:8080/"
        },
        "id": "uofzOsbvUzlP",
        "outputId": "315e6713-b7cb-4a87-905a-7f1a81cd59cf"
      },
      "execution_count": null,
      "outputs": [
        {
          "output_type": "execute_result",
          "data": {
            "text/plain": [
              "LinearRegression()"
            ]
          },
          "metadata": {},
          "execution_count": 73
        }
      ]
    },
    {
      "cell_type": "code",
      "source": [
        "coeff_df = pd.DataFrame(lr.coef_,['Make_Buick', 'Make_Cadillac', 'Make_Chevrolet',\n",
        "       'Make_Pontiac', 'Make_SAAB', 'Make_Saturn', 'Model_9-2X AWD',\n",
        "       'Model_9_3', 'Model_9_3 HO', 'Model_9_5', 'Model_9_5 HO', 'Model_AVEO',\n",
        "       'Model_Bonneville', 'Model_CST-V', 'Model_CTS', 'Model_Cavalier',\n",
        "       'Model_Century', 'Model_Classic', 'Model_Cobalt', 'Model_Corvette',\n",
        "       'Model_Deville', 'Model_G6', 'Model_GTO', 'Model_Grand Am',\n",
        "       'Model_Grand Prix', 'Model_Impala', 'Model_Ion', 'Model_L Series',\n",
        "       'Model_Lacrosse', 'Model_Lesabre', 'Model_Malibu', 'Model_Monte Carlo',\n",
        "       'Model_Park Avenue', 'Model_STS-V6', 'Model_STS-V8', 'Model_Sunfire',\n",
        "       'Model_Vibe', 'Model_XLR-V8','Type_Convertible', 'Type_Coupe',\n",
        "       'Type_Hatchback', 'Type_Sedan', 'Type_Wagon'], columns=['Coefficient'])\n",
        "y_pred = lr.predict(X_test_scaled)\n",
        "coeff_df"
      ],
      "metadata": {
        "colab": {
          "base_uri": "https://localhost:8080/",
          "height": 1000
        },
        "id": "6z8G3DgtUzqA",
        "outputId": "6a19d33c-66ad-4d4c-8387-f2602c876356"
      },
      "execution_count": null,
      "outputs": [
        {
          "output_type": "execute_result",
          "data": {
            "text/plain": [
              "                    Coefficient\n",
              "Make_Buick         9.026432e+14\n",
              "Make_Cadillac     -4.434224e+16\n",
              "Make_Chevrolet     1.956677e+16\n",
              "Make_Pontiac      -1.356139e+16\n",
              "Make_SAAB         -4.813669e+16\n",
              "Make_Saturn       -1.134094e+17\n",
              "Model_9-2X AWD    -1.383573e+15\n",
              "Model_9_3         -3.162607e+15\n",
              "Model_9_3 HO      -4.543594e+15\n",
              "Model_9_5         -3.770606e+15\n",
              "Model_9_5 HO      -3.162607e+15\n",
              "Model_AVEO        -5.388555e+16\n",
              "Model_Bonneville  -2.287811e+16\n",
              "Model_CST-V       -6.205389e+14\n",
              "Model_CTS         -7.154109e+14\n",
              "Model_Cavalier    -5.144568e+16\n",
              "Model_Century     -1.547028e+16\n",
              "Model_Classic     -2.321896e+16\n",
              "Model_Cobalt      -4.660649e+16\n",
              "Model_Corvette    -3.170943e+16\n",
              "Model_Deville     -1.247636e+15\n",
              "Model_G6          -1.918908e+16\n",
              "Model_GTO         -1.278315e+16\n",
              "Model_Grand Am    -2.086073e+16\n",
              "Model_Grand Prix  -2.426552e+16\n",
              "Model_Impala      -3.893195e+16\n",
              "Model_Ion          6.662900e+16\n",
              "Model_L Series     2.798202e+16\n",
              "Model_Lacrosse    -3.169437e+16\n",
              "Model_Lesabre     -2.264617e+16\n",
              "Model_Malibu      -5.093812e+16\n",
              "Model_Monte Carlo -3.820684e+16\n",
              "Model_Park Avenue -2.348238e+16\n",
              "Model_STS-V6      -6.697323e+14\n",
              "Model_STS-V8      -6.205389e+14\n",
              "Model_Sunfire     -1.365502e+16\n",
              "Model_Vibe        -2.287811e+16\n",
              "Model_XLR-V8      -7.582101e+14\n",
              "Type_Convertible  -5.017228e+16\n",
              "Type_Coupe        -7.644184e+16\n",
              "Type_Hatchback    -5.278774e+16\n",
              "Type_Sedan        -9.825166e+16\n",
              "Type_Wagon        -5.427501e+16"
            ],
            "text/html": [
              "\n",
              "  <div id=\"df-ffa0baab-40a1-4431-b022-974c4958e399\">\n",
              "    <div class=\"colab-df-container\">\n",
              "      <div>\n",
              "<style scoped>\n",
              "    .dataframe tbody tr th:only-of-type {\n",
              "        vertical-align: middle;\n",
              "    }\n",
              "\n",
              "    .dataframe tbody tr th {\n",
              "        vertical-align: top;\n",
              "    }\n",
              "\n",
              "    .dataframe thead th {\n",
              "        text-align: right;\n",
              "    }\n",
              "</style>\n",
              "<table border=\"1\" class=\"dataframe\">\n",
              "  <thead>\n",
              "    <tr style=\"text-align: right;\">\n",
              "      <th></th>\n",
              "      <th>Coefficient</th>\n",
              "    </tr>\n",
              "  </thead>\n",
              "  <tbody>\n",
              "    <tr>\n",
              "      <th>Make_Buick</th>\n",
              "      <td>9.026432e+14</td>\n",
              "    </tr>\n",
              "    <tr>\n",
              "      <th>Make_Cadillac</th>\n",
              "      <td>-4.434224e+16</td>\n",
              "    </tr>\n",
              "    <tr>\n",
              "      <th>Make_Chevrolet</th>\n",
              "      <td>1.956677e+16</td>\n",
              "    </tr>\n",
              "    <tr>\n",
              "      <th>Make_Pontiac</th>\n",
              "      <td>-1.356139e+16</td>\n",
              "    </tr>\n",
              "    <tr>\n",
              "      <th>Make_SAAB</th>\n",
              "      <td>-4.813669e+16</td>\n",
              "    </tr>\n",
              "    <tr>\n",
              "      <th>Make_Saturn</th>\n",
              "      <td>-1.134094e+17</td>\n",
              "    </tr>\n",
              "    <tr>\n",
              "      <th>Model_9-2X AWD</th>\n",
              "      <td>-1.383573e+15</td>\n",
              "    </tr>\n",
              "    <tr>\n",
              "      <th>Model_9_3</th>\n",
              "      <td>-3.162607e+15</td>\n",
              "    </tr>\n",
              "    <tr>\n",
              "      <th>Model_9_3 HO</th>\n",
              "      <td>-4.543594e+15</td>\n",
              "    </tr>\n",
              "    <tr>\n",
              "      <th>Model_9_5</th>\n",
              "      <td>-3.770606e+15</td>\n",
              "    </tr>\n",
              "    <tr>\n",
              "      <th>Model_9_5 HO</th>\n",
              "      <td>-3.162607e+15</td>\n",
              "    </tr>\n",
              "    <tr>\n",
              "      <th>Model_AVEO</th>\n",
              "      <td>-5.388555e+16</td>\n",
              "    </tr>\n",
              "    <tr>\n",
              "      <th>Model_Bonneville</th>\n",
              "      <td>-2.287811e+16</td>\n",
              "    </tr>\n",
              "    <tr>\n",
              "      <th>Model_CST-V</th>\n",
              "      <td>-6.205389e+14</td>\n",
              "    </tr>\n",
              "    <tr>\n",
              "      <th>Model_CTS</th>\n",
              "      <td>-7.154109e+14</td>\n",
              "    </tr>\n",
              "    <tr>\n",
              "      <th>Model_Cavalier</th>\n",
              "      <td>-5.144568e+16</td>\n",
              "    </tr>\n",
              "    <tr>\n",
              "      <th>Model_Century</th>\n",
              "      <td>-1.547028e+16</td>\n",
              "    </tr>\n",
              "    <tr>\n",
              "      <th>Model_Classic</th>\n",
              "      <td>-2.321896e+16</td>\n",
              "    </tr>\n",
              "    <tr>\n",
              "      <th>Model_Cobalt</th>\n",
              "      <td>-4.660649e+16</td>\n",
              "    </tr>\n",
              "    <tr>\n",
              "      <th>Model_Corvette</th>\n",
              "      <td>-3.170943e+16</td>\n",
              "    </tr>\n",
              "    <tr>\n",
              "      <th>Model_Deville</th>\n",
              "      <td>-1.247636e+15</td>\n",
              "    </tr>\n",
              "    <tr>\n",
              "      <th>Model_G6</th>\n",
              "      <td>-1.918908e+16</td>\n",
              "    </tr>\n",
              "    <tr>\n",
              "      <th>Model_GTO</th>\n",
              "      <td>-1.278315e+16</td>\n",
              "    </tr>\n",
              "    <tr>\n",
              "      <th>Model_Grand Am</th>\n",
              "      <td>-2.086073e+16</td>\n",
              "    </tr>\n",
              "    <tr>\n",
              "      <th>Model_Grand Prix</th>\n",
              "      <td>-2.426552e+16</td>\n",
              "    </tr>\n",
              "    <tr>\n",
              "      <th>Model_Impala</th>\n",
              "      <td>-3.893195e+16</td>\n",
              "    </tr>\n",
              "    <tr>\n",
              "      <th>Model_Ion</th>\n",
              "      <td>6.662900e+16</td>\n",
              "    </tr>\n",
              "    <tr>\n",
              "      <th>Model_L Series</th>\n",
              "      <td>2.798202e+16</td>\n",
              "    </tr>\n",
              "    <tr>\n",
              "      <th>Model_Lacrosse</th>\n",
              "      <td>-3.169437e+16</td>\n",
              "    </tr>\n",
              "    <tr>\n",
              "      <th>Model_Lesabre</th>\n",
              "      <td>-2.264617e+16</td>\n",
              "    </tr>\n",
              "    <tr>\n",
              "      <th>Model_Malibu</th>\n",
              "      <td>-5.093812e+16</td>\n",
              "    </tr>\n",
              "    <tr>\n",
              "      <th>Model_Monte Carlo</th>\n",
              "      <td>-3.820684e+16</td>\n",
              "    </tr>\n",
              "    <tr>\n",
              "      <th>Model_Park Avenue</th>\n",
              "      <td>-2.348238e+16</td>\n",
              "    </tr>\n",
              "    <tr>\n",
              "      <th>Model_STS-V6</th>\n",
              "      <td>-6.697323e+14</td>\n",
              "    </tr>\n",
              "    <tr>\n",
              "      <th>Model_STS-V8</th>\n",
              "      <td>-6.205389e+14</td>\n",
              "    </tr>\n",
              "    <tr>\n",
              "      <th>Model_Sunfire</th>\n",
              "      <td>-1.365502e+16</td>\n",
              "    </tr>\n",
              "    <tr>\n",
              "      <th>Model_Vibe</th>\n",
              "      <td>-2.287811e+16</td>\n",
              "    </tr>\n",
              "    <tr>\n",
              "      <th>Model_XLR-V8</th>\n",
              "      <td>-7.582101e+14</td>\n",
              "    </tr>\n",
              "    <tr>\n",
              "      <th>Type_Convertible</th>\n",
              "      <td>-5.017228e+16</td>\n",
              "    </tr>\n",
              "    <tr>\n",
              "      <th>Type_Coupe</th>\n",
              "      <td>-7.644184e+16</td>\n",
              "    </tr>\n",
              "    <tr>\n",
              "      <th>Type_Hatchback</th>\n",
              "      <td>-5.278774e+16</td>\n",
              "    </tr>\n",
              "    <tr>\n",
              "      <th>Type_Sedan</th>\n",
              "      <td>-9.825166e+16</td>\n",
              "    </tr>\n",
              "    <tr>\n",
              "      <th>Type_Wagon</th>\n",
              "      <td>-5.427501e+16</td>\n",
              "    </tr>\n",
              "  </tbody>\n",
              "</table>\n",
              "</div>\n",
              "      <button class=\"colab-df-convert\" onclick=\"convertToInteractive('df-ffa0baab-40a1-4431-b022-974c4958e399')\"\n",
              "              title=\"Convert this dataframe to an interactive table.\"\n",
              "              style=\"display:none;\">\n",
              "        \n",
              "  <svg xmlns=\"http://www.w3.org/2000/svg\" height=\"24px\"viewBox=\"0 0 24 24\"\n",
              "       width=\"24px\">\n",
              "    <path d=\"M0 0h24v24H0V0z\" fill=\"none\"/>\n",
              "    <path d=\"M18.56 5.44l.94 2.06.94-2.06 2.06-.94-2.06-.94-.94-2.06-.94 2.06-2.06.94zm-11 1L8.5 8.5l.94-2.06 2.06-.94-2.06-.94L8.5 2.5l-.94 2.06-2.06.94zm10 10l.94 2.06.94-2.06 2.06-.94-2.06-.94-.94-2.06-.94 2.06-2.06.94z\"/><path d=\"M17.41 7.96l-1.37-1.37c-.4-.4-.92-.59-1.43-.59-.52 0-1.04.2-1.43.59L10.3 9.45l-7.72 7.72c-.78.78-.78 2.05 0 2.83L4 21.41c.39.39.9.59 1.41.59.51 0 1.02-.2 1.41-.59l7.78-7.78 2.81-2.81c.8-.78.8-2.07 0-2.86zM5.41 20L4 18.59l7.72-7.72 1.47 1.35L5.41 20z\"/>\n",
              "  </svg>\n",
              "      </button>\n",
              "      \n",
              "  <style>\n",
              "    .colab-df-container {\n",
              "      display:flex;\n",
              "      flex-wrap:wrap;\n",
              "      gap: 12px;\n",
              "    }\n",
              "\n",
              "    .colab-df-convert {\n",
              "      background-color: #E8F0FE;\n",
              "      border: none;\n",
              "      border-radius: 50%;\n",
              "      cursor: pointer;\n",
              "      display: none;\n",
              "      fill: #1967D2;\n",
              "      height: 32px;\n",
              "      padding: 0 0 0 0;\n",
              "      width: 32px;\n",
              "    }\n",
              "\n",
              "    .colab-df-convert:hover {\n",
              "      background-color: #E2EBFA;\n",
              "      box-shadow: 0px 1px 2px rgba(60, 64, 67, 0.3), 0px 1px 3px 1px rgba(60, 64, 67, 0.15);\n",
              "      fill: #174EA6;\n",
              "    }\n",
              "\n",
              "    [theme=dark] .colab-df-convert {\n",
              "      background-color: #3B4455;\n",
              "      fill: #D2E3FC;\n",
              "    }\n",
              "\n",
              "    [theme=dark] .colab-df-convert:hover {\n",
              "      background-color: #434B5C;\n",
              "      box-shadow: 0px 1px 3px 1px rgba(0, 0, 0, 0.15);\n",
              "      filter: drop-shadow(0px 1px 2px rgba(0, 0, 0, 0.3));\n",
              "      fill: #FFFFFF;\n",
              "    }\n",
              "  </style>\n",
              "\n",
              "      <script>\n",
              "        const buttonEl =\n",
              "          document.querySelector('#df-ffa0baab-40a1-4431-b022-974c4958e399 button.colab-df-convert');\n",
              "        buttonEl.style.display =\n",
              "          google.colab.kernel.accessAllowed ? 'block' : 'none';\n",
              "\n",
              "        async function convertToInteractive(key) {\n",
              "          const element = document.querySelector('#df-ffa0baab-40a1-4431-b022-974c4958e399');\n",
              "          const dataTable =\n",
              "            await google.colab.kernel.invokeFunction('convertToInteractive',\n",
              "                                                     [key], {});\n",
              "          if (!dataTable) return;\n",
              "\n",
              "          const docLinkHtml = 'Like what you see? Visit the ' +\n",
              "            '<a target=\"_blank\" href=https://colab.research.google.com/notebooks/data_table.ipynb>data table notebook</a>'\n",
              "            + ' to learn more about interactive tables.';\n",
              "          element.innerHTML = '';\n",
              "          dataTable['output_type'] = 'display_data';\n",
              "          await google.colab.output.renderOutput(dataTable, element);\n",
              "          const docLink = document.createElement('div');\n",
              "          docLink.innerHTML = docLinkHtml;\n",
              "          element.appendChild(docLink);\n",
              "        }\n",
              "      </script>\n",
              "    </div>\n",
              "  </div>\n",
              "  "
            ]
          },
          "metadata": {},
          "execution_count": 74
        }
      ]
    },
    {
      "cell_type": "code",
      "source": [
        "df = pd.DataFrame({'Actual': y_test, 'Predicted': y_pred})\n",
        "df.head()"
      ],
      "metadata": {
        "colab": {
          "base_uri": "https://localhost:8080/",
          "height": 206
        },
        "id": "ZMCRoUmtUzxg",
        "outputId": "24d06052-4f10-449e-bf6d-1f6376d1fa9c"
      },
      "execution_count": null,
      "outputs": [
        {
          "output_type": "execute_result",
          "data": {
            "text/plain": [
              "         Actual     Predicted\n",
              "0  17162.873441  18023.163354\n",
              "1  23274.480711  25527.163354\n",
              "2  22525.269722  20599.163354\n",
              "3  17095.035224  18023.163354\n",
              "4  19344.165537  20999.163354"
            ],
            "text/html": [
              "\n",
              "  <div id=\"df-37561183-6400-4b68-9c32-892578da481b\">\n",
              "    <div class=\"colab-df-container\">\n",
              "      <div>\n",
              "<style scoped>\n",
              "    .dataframe tbody tr th:only-of-type {\n",
              "        vertical-align: middle;\n",
              "    }\n",
              "\n",
              "    .dataframe tbody tr th {\n",
              "        vertical-align: top;\n",
              "    }\n",
              "\n",
              "    .dataframe thead th {\n",
              "        text-align: right;\n",
              "    }\n",
              "</style>\n",
              "<table border=\"1\" class=\"dataframe\">\n",
              "  <thead>\n",
              "    <tr style=\"text-align: right;\">\n",
              "      <th></th>\n",
              "      <th>Actual</th>\n",
              "      <th>Predicted</th>\n",
              "    </tr>\n",
              "  </thead>\n",
              "  <tbody>\n",
              "    <tr>\n",
              "      <th>0</th>\n",
              "      <td>17162.873441</td>\n",
              "      <td>18023.163354</td>\n",
              "    </tr>\n",
              "    <tr>\n",
              "      <th>1</th>\n",
              "      <td>23274.480711</td>\n",
              "      <td>25527.163354</td>\n",
              "    </tr>\n",
              "    <tr>\n",
              "      <th>2</th>\n",
              "      <td>22525.269722</td>\n",
              "      <td>20599.163354</td>\n",
              "    </tr>\n",
              "    <tr>\n",
              "      <th>3</th>\n",
              "      <td>17095.035224</td>\n",
              "      <td>18023.163354</td>\n",
              "    </tr>\n",
              "    <tr>\n",
              "      <th>4</th>\n",
              "      <td>19344.165537</td>\n",
              "      <td>20999.163354</td>\n",
              "    </tr>\n",
              "  </tbody>\n",
              "</table>\n",
              "</div>\n",
              "      <button class=\"colab-df-convert\" onclick=\"convertToInteractive('df-37561183-6400-4b68-9c32-892578da481b')\"\n",
              "              title=\"Convert this dataframe to an interactive table.\"\n",
              "              style=\"display:none;\">\n",
              "        \n",
              "  <svg xmlns=\"http://www.w3.org/2000/svg\" height=\"24px\"viewBox=\"0 0 24 24\"\n",
              "       width=\"24px\">\n",
              "    <path d=\"M0 0h24v24H0V0z\" fill=\"none\"/>\n",
              "    <path d=\"M18.56 5.44l.94 2.06.94-2.06 2.06-.94-2.06-.94-.94-2.06-.94 2.06-2.06.94zm-11 1L8.5 8.5l.94-2.06 2.06-.94-2.06-.94L8.5 2.5l-.94 2.06-2.06.94zm10 10l.94 2.06.94-2.06 2.06-.94-2.06-.94-.94-2.06-.94 2.06-2.06.94z\"/><path d=\"M17.41 7.96l-1.37-1.37c-.4-.4-.92-.59-1.43-.59-.52 0-1.04.2-1.43.59L10.3 9.45l-7.72 7.72c-.78.78-.78 2.05 0 2.83L4 21.41c.39.39.9.59 1.41.59.51 0 1.02-.2 1.41-.59l7.78-7.78 2.81-2.81c.8-.78.8-2.07 0-2.86zM5.41 20L4 18.59l7.72-7.72 1.47 1.35L5.41 20z\"/>\n",
              "  </svg>\n",
              "      </button>\n",
              "      \n",
              "  <style>\n",
              "    .colab-df-container {\n",
              "      display:flex;\n",
              "      flex-wrap:wrap;\n",
              "      gap: 12px;\n",
              "    }\n",
              "\n",
              "    .colab-df-convert {\n",
              "      background-color: #E8F0FE;\n",
              "      border: none;\n",
              "      border-radius: 50%;\n",
              "      cursor: pointer;\n",
              "      display: none;\n",
              "      fill: #1967D2;\n",
              "      height: 32px;\n",
              "      padding: 0 0 0 0;\n",
              "      width: 32px;\n",
              "    }\n",
              "\n",
              "    .colab-df-convert:hover {\n",
              "      background-color: #E2EBFA;\n",
              "      box-shadow: 0px 1px 2px rgba(60, 64, 67, 0.3), 0px 1px 3px 1px rgba(60, 64, 67, 0.15);\n",
              "      fill: #174EA6;\n",
              "    }\n",
              "\n",
              "    [theme=dark] .colab-df-convert {\n",
              "      background-color: #3B4455;\n",
              "      fill: #D2E3FC;\n",
              "    }\n",
              "\n",
              "    [theme=dark] .colab-df-convert:hover {\n",
              "      background-color: #434B5C;\n",
              "      box-shadow: 0px 1px 3px 1px rgba(0, 0, 0, 0.15);\n",
              "      filter: drop-shadow(0px 1px 2px rgba(0, 0, 0, 0.3));\n",
              "      fill: #FFFFFF;\n",
              "    }\n",
              "  </style>\n",
              "\n",
              "      <script>\n",
              "        const buttonEl =\n",
              "          document.querySelector('#df-37561183-6400-4b68-9c32-892578da481b button.colab-df-convert');\n",
              "        buttonEl.style.display =\n",
              "          google.colab.kernel.accessAllowed ? 'block' : 'none';\n",
              "\n",
              "        async function convertToInteractive(key) {\n",
              "          const element = document.querySelector('#df-37561183-6400-4b68-9c32-892578da481b');\n",
              "          const dataTable =\n",
              "            await google.colab.kernel.invokeFunction('convertToInteractive',\n",
              "                                                     [key], {});\n",
              "          if (!dataTable) return;\n",
              "\n",
              "          const docLinkHtml = 'Like what you see? Visit the ' +\n",
              "            '<a target=\"_blank\" href=https://colab.research.google.com/notebooks/data_table.ipynb>data table notebook</a>'\n",
              "            + ' to learn more about interactive tables.';\n",
              "          element.innerHTML = '';\n",
              "          dataTable['output_type'] = 'display_data';\n",
              "          await google.colab.output.renderOutput(dataTable, element);\n",
              "          const docLink = document.createElement('div');\n",
              "          docLink.innerHTML = docLinkHtml;\n",
              "          element.appendChild(docLink);\n",
              "        }\n",
              "      </script>\n",
              "    </div>\n",
              "  </div>\n",
              "  "
            ]
          },
          "metadata": {},
          "execution_count": 75
        }
      ]
    },
    {
      "cell_type": "markdown",
      "source": [
        "calculating R2 score"
      ],
      "metadata": {
        "id": "BjlSuWgZbRVU"
      }
    },
    {
      "cell_type": "code",
      "source": [
        "from sklearn import metrics\n",
        "print('R2- SCORE:', metrics.r2_score(y_test,y_pred))"
      ],
      "metadata": {
        "colab": {
          "base_uri": "https://localhost:8080/"
        },
        "id": "q-9WDR_tUz2Q",
        "outputId": "8d6d9053-f38b-4fbb-e281-b829f6bc8074"
      },
      "execution_count": null,
      "outputs": [
        {
          "output_type": "stream",
          "name": "stdout",
          "text": [
            "R2- SCORE: 0.9574647205475009\n"
          ]
        }
      ]
    },
    {
      "cell_type": "markdown",
      "source": [
        "#2. Find the best combination of factors to predict price."
      ],
      "metadata": {
        "id": "Jlk0nx7fbKgY"
      }
    },
    {
      "cell_type": "code",
      "source": [
        "\n",
        "from sklearn.feature_selection import RFE\n",
        "estimator = LinearRegression()\n",
        "selector = RFE(estimator, n_features_to_select=6, step=1)\n",
        "selector = selector.fit(X_train_scaled, y_train)\n",
        "list(zip(['Make_Buick', 'Make_Cadillac', 'Make_Chevrolet',\n",
        "       'Make_Pontiac', 'Make_SAAB', 'Make_Saturn', 'Model_9-2X AWD',\n",
        "       'Model_9_3', 'Model_9_3 HO', 'Model_9_5', 'Model_9_5 HO', 'Model_AVEO',\n",
        "       'Model_Bonneville', 'Model_CST-V', 'Model_CTS', 'Model_Cavalier',\n",
        "       'Model_Century', 'Model_Classic', 'Model_Cobalt', 'Model_Corvette',\n",
        "       'Model_Deville', 'Model_G6', 'Model_GTO', 'Model_Grand Am',\n",
        "       'Model_Grand Prix', 'Model_Impala', 'Model_Ion', 'Model_L Series',\n",
        "       'Model_Lacrosse', 'Model_Lesabre', 'Model_Malibu', 'Model_Monte Carlo',\n",
        "       'Model_Park Avenue', 'Model_STS-V6', 'Model_STS-V8', 'Model_Sunfire',\n",
        "       'Model_Vibe', 'Model_XLR-V8','Type_Convertible', 'Type_Coupe',\n",
        "       'Type_Hatchback', 'Type_Sedan', 'Type_Wagon'],selector.support_))"
      ],
      "metadata": {
        "colab": {
          "base_uri": "https://localhost:8080/"
        },
        "id": "aGr0oviTWg8r",
        "outputId": "b0f7b596-bee6-4477-c0a4-0f81f936aaec"
      },
      "execution_count": null,
      "outputs": [
        {
          "output_type": "execute_result",
          "data": {
            "text/plain": [
              "[('Make_Buick', False),\n",
              " ('Make_Cadillac', False),\n",
              " ('Make_Chevrolet', False),\n",
              " ('Make_Pontiac', False),\n",
              " ('Make_SAAB', False),\n",
              " ('Make_Saturn', False),\n",
              " ('Model_9-2X AWD', False),\n",
              " ('Model_9_3', False),\n",
              " ('Model_9_3 HO', False),\n",
              " ('Model_9_5', False),\n",
              " ('Model_9_5 HO', False),\n",
              " ('Model_AVEO', False),\n",
              " ('Model_Bonneville', False),\n",
              " ('Model_CST-V', False),\n",
              " ('Model_CTS', False),\n",
              " ('Model_Cavalier', False),\n",
              " ('Model_Century', False),\n",
              " ('Model_Classic', False),\n",
              " ('Model_Cobalt', False),\n",
              " ('Model_Corvette', False),\n",
              " ('Model_Deville', False),\n",
              " ('Model_G6', False),\n",
              " ('Model_GTO', False),\n",
              " ('Model_Grand Am', False),\n",
              " ('Model_Grand Prix', False),\n",
              " ('Model_Impala', False),\n",
              " ('Model_Ion', False),\n",
              " ('Model_L Series', False),\n",
              " ('Model_Lacrosse', False),\n",
              " ('Model_Lesabre', False),\n",
              " ('Model_Malibu', False),\n",
              " ('Model_Monte Carlo', False),\n",
              " ('Model_Park Avenue', False),\n",
              " ('Model_STS-V6', False),\n",
              " ('Model_STS-V8', False),\n",
              " ('Model_Sunfire', False),\n",
              " ('Model_Vibe', True),\n",
              " ('Model_XLR-V8', False),\n",
              " ('Type_Convertible', True),\n",
              " ('Type_Coupe', True),\n",
              " ('Type_Hatchback', True),\n",
              " ('Type_Sedan', True),\n",
              " ('Type_Wagon', True)]"
            ]
          },
          "metadata": {},
          "execution_count": 77
        }
      ]
    }
  ],
  "metadata": {
    "kernelspec": {
      "display_name": "Python 3",
      "language": "python",
      "name": "python3"
    },
    "language_info": {
      "codemirror_mode": {
        "name": "ipython",
        "version": 3
      },
      "file_extension": ".py",
      "mimetype": "text/x-python",
      "name": "python",
      "nbconvert_exporter": "python",
      "pygments_lexer": "ipython3",
      "version": "3.8.3"
    },
    "colab": {
      "provenance": [],
      "collapsed_sections": [
        "CE2oZBQMBH0L",
        "5d5vkPPrTbhh",
        "41KmTyZITwTO",
        "Jlk0nx7fbKgY"
      ],
      "include_colab_link": true
    }
  },
  "nbformat": 4,
  "nbformat_minor": 0
}